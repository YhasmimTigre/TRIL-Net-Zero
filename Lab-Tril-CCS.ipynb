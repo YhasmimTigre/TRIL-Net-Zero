{
 "cells": [
  {
   "attachments": {},
   "cell_type": "markdown",
   "metadata": {},
   "source": [
    "# Lab. TRIL - Carbon Capture and Storage"
   ]
  },
  {
   "attachments": {},
   "cell_type": "markdown",
   "metadata": {},
   "source": [
    "Engenharia Computacional para a Emissão Zero no Setor de Óleo e Gás"
   ]
  },
  {
   "attachments": {},
   "cell_type": "markdown",
   "metadata": {},
   "source": [
    "## Introdução "
   ]
  },
  {
   "attachments": {},
   "cell_type": "markdown",
   "metadata": {},
   "source": [
    "Esse é um programa que realiza um processo de leitura, processamento e análise de um conjunto de dados de um reservatório, para encontrar classes de injetividade apresentadas com análise de gráfico.\n",
    "\n",
    "Esse projeto é desenvolvido por:<br>\n",
    "* Yhasmim de Souza Tigre - Aluna de Iniciação Científica - UFPB\n",
    "* Prof. Dr. Gustavo C. Oliveira - Professor Orientador - UFPB\n"
   ]
  },
  {
   "attachments": {},
   "cell_type": "markdown",
   "metadata": {},
   "source": [
    "### Bibliotecas"
   ]
  },
  {
   "cell_type": "code",
   "execution_count": 2,
   "metadata": {},
   "outputs": [],
   "source": [
    "import pandas as pd\n",
    "import numpy as np\n",
    "import pickle\n",
    "import matplotlib.pyplot as plt\n",
    "#%matplotlib inline \n",
    "#from matplotlib.pyplot import plotpip "
   ]
  },
  {
   "cell_type": "code",
   "execution_count": 3,
   "metadata": {},
   "outputs": [],
   "source": [
    "import warnings\n",
    "\n",
    "#Serve para ignorar os 'red warnings' que algumas bibliotecas apontam porque tem novas versoes de implementacao\n",
    "warnings.filterwarnings('ignore') "
   ]
  },
  {
   "attachments": {},
   "cell_type": "markdown",
   "metadata": {},
   "source": [
    "## 1 - Preparação de Files "
   ]
  },
  {
   "attachments": {},
   "cell_type": "markdown",
   "metadata": {},
   "source": [
    "Essas funções devem receber arquivos csv (em uma formatação pré-estabelecida) que serem lidos, checados e iniciados.<br>\n",
    "Os arquivos precisam:\n",
    "* ter colunas nomeadas \n",
    "* não ter valores NAN\n",
    "* ter colunas na ordem correta (RQI, pressao, pressao_inversa, distancia, permeabilidade e porosidade)\n",
    "* ter colunas com valores numéricos"
   ]
  },
  {
   "cell_type": "code",
   "execution_count": 4,
   "metadata": {},
   "outputs": [],
   "source": [
    "'''função de leitura do arquivo csv para df'''\n",
    "\n",
    "def read_df(df):\n",
    "\n",
    "    df = pd.read_csv(df)\n",
    "    if any(df.isna()):\n",
    "        print(\"df com valores NAN\")\n",
    "        \n",
    "        df = df.fillna(0)\n",
    "        print(\"df corrigido, não mais possui valores NAN\")\n",
    "\n",
    "    #remove values of 0\n",
    "    df = df[(df.T != 0.00000).any()] #talvez seja necessario modificar, pode atrapalhar quando tiver outras colunas \n",
    "    #df = df.loc[(df!=0).any(axis=1)]\n",
    "    print(\"df corrigido, não mais possui valores 0\")\n",
    "    \n",
    "    print(df)\n",
    "    return df"
   ]
  },
  {
   "cell_type": "code",
   "execution_count": 4,
   "metadata": {},
   "outputs": [],
   "source": [
    "'''função de checagem de keys em dataframe '''\n",
    "\n",
    "def checking(df):\n",
    "    \n",
    "    df = read_df(df)\n",
    "\n",
    "    lista_primarias = ['RQI','pressao','pressao_inversa','distancia','permeabilidade','porosidade']\n",
    "    lista_Js = ['J1', 'J2', 'J3', 'J4', 'J5', 'J6', 'J7', 'J8']  \n",
    "    \n",
    "    #encontrando keys estrangeiras no df\n",
    "    for i in df.keys():         \n",
    "        if lista_primarias.count(i) == 0: \n",
    "            print(f'variavel estrangeira \"{i}\" incluída no Dataframe. Não identificada na lista de variaveis primarias. \\n')                 \n",
    "        if lista_Js.count(i) == 0:\n",
    "            print(f'variavel estrangeira \"{i}\" incluída no Dataframe. Não identificada na lista de variaveis secundarias Js. \\n')\n",
    "\n",
    "    #encontrando keys faltantes no df\n",
    "    for i in lista_primarias:  \n",
    "        if list(df.keys()).count(i) == 0:\n",
    "            print(f'variavel primaria \"{i}\" NÃO incluída no Dataframe. Não identificada na lista de variaveis primarias. \\n')\n",
    "    for i in lista_Js:  \n",
    "        if list(df.keys()).count(i) == 0:\n",
    "            print(f'variavel secundária \"{i}\" NÃO incluída no Dataframe. Não identificada na lista de variaveis secundária Js. \\n')\n",
    "        \n",
    "    return df"
   ]
  },
  {
   "attachments": {},
   "cell_type": "markdown",
   "metadata": {},
   "source": [
    "## 2 - Calculo dos J's"
   ]
  },
  {
   "cell_type": "markdown",
   "metadata": {},
   "source": [
    "Aqui criamos funções qualificadoras, que utilizam os atributos do df para categorizar J's."
   ]
  },
  {
   "cell_type": "code",
   "execution_count": 130,
   "metadata": {},
   "outputs": [],
   "source": [
    "'''função de normalização dos dados'''\n",
    "\n",
    "def normalization(df, J, norm=False):\n",
    "\n",
    "    #df = read_df(df)\n",
    "    # df = checking(df)\n",
    "    \n",
    "    #atribuição        \n",
    "    for j in J: \n",
    "              \n",
    "        if j == 'J1':\n",
    "            J1 = df['RQI']\n",
    "            df['J1'] = J1\n",
    "            normalize_(df, j, norm)            \n",
    "                    \n",
    "        if j == 'J2':\n",
    "            J2 = df['RQI']*df['pressao']\n",
    "            df['J2'] = J2\n",
    "            normalize_(df, j, norm)\n",
    "\n",
    "        if j == 'J3':\n",
    "            J3 = df['RQI']*df['pressao_inversa']\n",
    "            df['J3'] = J3\n",
    "            normalize_(df, j, norm)                                                                                         \n",
    "                            \n",
    "        if j == 'J4':\n",
    "            #para evitar resultados infinitos\n",
    "            aux = np.log(df['distancia']) #calc do log(0 ind, 1 inf)\n",
    "            #mascara\n",
    "            aux[np.isinf(aux)] = 0 \n",
    "            aux[np.isnan(aux)] = 0\n",
    "            aux[aux < 0] = 0\n",
    "\n",
    "            J4 = df['RQI'] * df['pressao'] * aux      \n",
    "            df['J4'] = J4\n",
    "            normalize_(df, j, norm) \n",
    "\n",
    "        if j == 'J5':\n",
    "\n",
    "            aux = np.log(df['distancia'])\n",
    "            aux[np.isinf(aux)] = 0 \n",
    "            aux[np.isnan(aux)] = 0\n",
    "            aux[aux < 0] = 0\n",
    "\n",
    "            J5 = df['RQI'] * df['pressao_inversa'] * aux\n",
    "            df['J5'] = J5\n",
    "            normalize_(df, j, norm)\n",
    "        \n",
    "        if j == 'J6':\n",
    "\n",
    "            aux = np.log(df['distancia'])\n",
    "            aux[np.isinf(aux)] = 0 \n",
    "            aux[np.isnan(aux)] = 0\n",
    "            aux[aux < 0] = 0\n",
    "\n",
    "            J6 = df['permeabilidade'] * df['porosidade'] * aux\n",
    "            df['J6'] = J6\n",
    "            normalize_(df, j, norm)  \n",
    "\n",
    "    return df\n",
    "\n",
    "def normalize_(df, col, norm):\n",
    "    if norm == True:   \n",
    "        df[f'{col}_normalizado'] = (df[col] - min(df[col])) / (max(df[col]) - min(df[col]))"
   ]
  },
  {
   "attachments": {},
   "cell_type": "markdown",
   "metadata": {},
   "source": [
    "## 3- Processamento Binning <br> (Bayesian Blocks ou KDE)\n",
    "<br/>"
   ]
  },
  {
   "cell_type": "markdown",
   "metadata": {},
   "source": [
    "A classe binning é responsável por processar os dados em KDE ou Bayesian Blocks \n",
    "\n",
    "#@jit(nopython=True) # Set \"nopython\" mode for best performance, equivalent to @njit"
   ]
  },
  {
   "cell_type": "code",
   "execution_count": 6,
   "metadata": {},
   "outputs": [],
   "source": [
    "\"\"\"Processamento de dados em binning\"\"\"\n",
    "class binning():\n",
    "\n",
    "        #método construtor\n",
    "        def __init__(self) -> None:\n",
    "            pass\n",
    "        \n",
    "        #@jit(nopython=True)\n",
    "        def proc_binning(df, J, binning): \n",
    "\n",
    "            if binning == 'kde':\n",
    "                \n",
    "                '''Bibliotecas'''\n",
    "                import numpy as np\n",
    "                from numpy import linspace\n",
    "                from sklearn.neighbors import KernelDensity\n",
    "                from scipy.signal import argrelmin, find_peaks\n",
    "                from sklearn.model_selection import GridSearchCV, LeaveOneOut\n",
    "                import scipy.integrate as integrate                        \n",
    "                                \n",
    "                '''Recebendo df'''\n",
    "                #para testes com valores simplificados\n",
    "                df = read_df(df)\n",
    "\n",
    "                #para valores ja normalizados\n",
    "                #df = checking(df)\n",
    "\n",
    "                #para valores que passarão por normalização\n",
    "                #df = normalization (df, J, norm=True)\n",
    "\n",
    "                #pegando um valor menor para rodar o codigo\n",
    "                df = df.sample(1500)\n",
    "\n",
    "                '''Método de bandwith para kde'''\n",
    "                \n",
    "                ideal_band = 0\n",
    "                #JN = {'J1_normalizado', 'J2_normalizado', 'J3_normalizado', 'J4_normalizado', 'J5_normalizado', 'J6_normalizado'}\n",
    "                JN =  {'J1'}\n",
    "                \n",
    "                for coluna in JN:                   \n",
    "                    X = df[f'{coluna}'].values[::].reshape(-1, 1)\n",
    "                \n",
    "                    band = np.linspace(0.01, 0.05)\n",
    "                    grid = GridSearchCV(KernelDensity(), {'bandwidth': band},cv=LeaveOneOut())\n",
    "                    grid.fit(X[:,None].reshape(-1, 1)) \n",
    "                    ideal_band = grid.best_params_\n",
    "                    #print(ideal_band)  \n",
    "                    #BANDWIDTH ORIGINAL: 0.01      \n",
    "                   \n",
    "                '''Calculo kde'''\n",
    "                resultados_kde = {}\n",
    "\n",
    "                for coluna in JN:                    \n",
    "                    \n",
    "                    # faz o reshape para encaixar os dados em uma dimensão apropriada para o calculo \n",
    "                    X = df[f'{coluna}'].values[::].reshape(-1, 1)\n",
    "\n",
    "                    #f, a  = plt.subplots()                    \n",
    "                    #h = sns.histplot(X, kde = True, element=\"bars\", kde_kws={'bw_method':'silverman', 'bw_adjust':0.1}, ax = a, stat='probability', color= 'white', edgecolor='white', facecolor='white')       \n",
    "                        \n",
    "                    # calculo da densidade de probabilidade\n",
    "                    kde = KernelDensity(kernel='gaussian', bandwidth = ideal_band['bandwidth']).fit(X)\n",
    "\n",
    "                    #plt.plot(kde)\n",
    "                    #sns.kdeplot(X, bw_method= 0.01, ax = a, color='black', linewidth=2.5, alpha=0.5)\n",
    "                    #retorna os pontos em uma distancia equidistante / os dados precisam está em 2D\n",
    "                    dist = np.linspace(0, 1.0, len(df[f'{coluna}']))\n",
    "\n",
    "                    #calcula a probabilidade logarítmica de cada amostra sob o modelo                     \n",
    "                    log = kde.score_samples(dist.reshape(-1, 1))\n",
    "                    log = np.exp(log)\n",
    "                    # usamos exponencial para deixar log positivo\n",
    "                    #essa integral retorna o valor True ou False (estava retornando valor antes das modificações em dist e log)\n",
    "                    # [:, None] é usado para realizar o broadcast dos dados (operação entre arrays de dimensões diferentes))\n",
    "                    integral = float(np.exp(integrate.trapz(log[:, None], dist[:, None])).all())\n",
    "                    #print(integral)\n",
    "                    \n",
    "                    if integral <= 1.01 and integral >= 0.99:\n",
    "                        print(f'A integral : {integral} é adequeada.')\n",
    "                    else:\n",
    "                        print(f'A integral não está no intervalo correto: {integral}')\n",
    "                        raise KeyError(f'A integral precisa estar entre 0.99 e 1.01')\n",
    "                                                           \n",
    "                    #Calculo das Particoes\n",
    "                    # calcula os picos\n",
    "                    peaks = find_peaks(log, height=min(log))\n",
    "                    peaks = np.array(peaks[1]['peak_heights'])\n",
    "                    print(peaks)\n",
    "                    #Calcula a minima relativa dos dados\n",
    "                    valleys = argrelmin(log)[0]\n",
    "                    print(valleys)\n",
    "                    print(type(valleys))\n",
    "                    \n",
    "                    #Retorna os indices que classificam o array em ordem crescente\n",
    "                    ord = np.argsort(np.abs(np.diff(log[valleys])))\n",
    "                    #inverte a ordem do array \n",
    "                    ordValleys_J = np.flip(ord)+1 \n",
    "\n",
    "\n",
    "                    #Contrução dos intervalos de classe \n",
    "\n",
    "                    #utiliza o intervalo de 0 a 1 para encontrar os pontos de partição usando a minima relativa\n",
    "                    ov = np.concatenate((np.array([0]), ordValleys_J, np.array([1])))\n",
    "                    classes = {}\n",
    "                    for i in range(1, len(ov)):\n",
    "                        classes[i] = (ov[i-1], ov[i]) \n",
    "                    \n",
    "                    \n",
    "                    plt.figure(figsize=(20, 12))\n",
    "                    plt.plot(dist, log, color='black', linewidth=2.5, alpha=0.5)  \n",
    "                    a_peaks = find_peaks(log, height=min(log))\n",
    "                    plt.plot(peaks, log[a_peaks[0]], \"o\")   \n",
    "                    plt.plot(valleys[0], log[valleys[1]], \"o\")\n",
    "\n",
    "                    #retorno de funcão KDE com dicionario\n",
    "                    resultados_kde[coluna] = {}\n",
    "                    \n",
    "                    resultados_kde[coluna]['dist'] = dist\n",
    "                    resultados_kde[coluna]['log'] = log\n",
    "                    resultados_kde[coluna]['peaks'] = peaks\n",
    "                    resultados_kde[coluna]['valleys'] = valleys\n",
    "                    resultados_kde[coluna]['ordValleys_J'] = ordValleys_J\n",
    "                    #resultados_kde[coluna]['classes'] = classes\n",
    "\n",
    "                return resultados_kde   \n",
    "                \n",
    "            \n",
    "            #Calculo Bayesian Blocks\n",
    "\n",
    "            if binning == 'bb':\n",
    "                from astropy.stats import bayesian_blocks\n",
    "\n",
    "                \n",
    "                resultados_bb = {}\n",
    "\n",
    "                for coluna in df.columns:\n",
    "                    if coluna in df.columns[12::]:\n",
    "                        serie = df.query(f\"{coluna} > 0\")[coluna]\n",
    "                        resultados_bb[coluna] = [serie, bayesian_blocks(serie)]\n",
    "\n",
    "                return resultados_bb\n",
    "            "
   ]
  },
  {
   "cell_type": "code",
   "execution_count": null,
   "metadata": {},
   "outputs": [],
   "source": [
    "\"\"\"Processamento de dados em binning\"\"\"\n",
    "class binning():\n",
    "\n",
    "        #método construtor\n",
    "        def __init__(self) -> None:\n",
    "            pass\n",
    "        \n",
    "        #@jit(nopython=True)\n",
    "        def proc_binning(df, J, binning): \n",
    "\n",
    "            if binning == 'kde':\n",
    "                \n",
    "                '''Bibliotecas'''\n",
    "                import numpy as np\n",
    "                from numpy import linspace\n",
    "                from sklearn.neighbors import KernelDensity\n",
    "                from scipy.signal import argrelmin, find_peaks\n",
    "                from sklearn.model_selection import GridSearchCV, LeaveOneOut\n",
    "                import scipy.integrate as integrate                        \n",
    "                \n",
    "                '''Recebendo df'''\n",
    "                #para testes com valores simplificados\n",
    "                df = read_df(df)\n",
    "\n",
    "                #para valores ja normalizados\n",
    "                #df = checking(df)\n",
    "\n",
    "                #para valores que passarão por normalização\n",
    "                #df = normalization (df, J, norm=True)\n",
    "\n",
    "                #pegando um valor menor para rodar o codigo\n",
    "                #df = df.sample(1500)\n",
    "\n",
    "                '''Método de bandwith para kde'''\n",
    "                ideal_band = 0\n",
    "                #JN = {'J1_normalizado', 'J2_normalizado', 'J3_normalizado', 'J4_normalizado', 'J5_normalizado', 'J6_normalizado'}\n",
    "                #JN =  {'J2'}\n",
    "\n",
    "                for coluna in J:                   \n",
    "                    X = df[f'{coluna}'].values[::].reshape(-1, 1)\n",
    "                    X = X[X > 0] \n",
    "\n",
    "                    band = np.linspace(0.01, 0.05)\n",
    "                    grid = GridSearchCV(KernelDensity(), {'bandwidth': band},cv=LeaveOneOut())\n",
    "                    grid.fit(X[:,None].reshape(-1, 1)) \n",
    "                    ideal_band = grid.best_params_\n",
    "                    #print(ideal_band)  \n",
    "                    #BANDWIDTH ORIGINAL: 0.01    \n",
    "                \n",
    "                '''Calculo kde'''\n",
    "                resultados_kde = {}\n",
    "\n",
    "                for coluna in J:                    \n",
    "                    \n",
    "                    # faz o reshape para encaixar os dados em uma dimensão apropriada para o calculo \n",
    "                    X = df[f'{coluna}'].values[::]\n",
    "                    X = X[X > 0].reshape(-1, 1) \n",
    "                        \n",
    "                    # calculo da densidade de probabilidade\n",
    "                    kde = KernelDensity(kernel='gaussian', bandwidth = ideal_band['bandwidth']).fit(X)\n",
    "\n",
    "                dist = np.linspace(0, 1.0, len(df[f'{coluna}']))\n",
    "\n",
    "                log = kde.score_samples(dist.reshape(-1, 1))\n",
    "                log = np.exp(log)    \n",
    "\n",
    "                #temos que calcular a integral para verificar se  o kde está correto para ser uma distribuição de probabilidade\n",
    "                integral = float(np.exp(integrate.trapz(log[:, None], dist[:, None])).all())\n",
    "\n",
    "                if integral <= 1.01 and integral >= 0.99:\n",
    "                    print(f'A integral : {integral} é adequeada.')\n",
    "                else:\n",
    "                    print(f'A integral não está no intervalo correto: {integral}')\n",
    "                    raise KeyError(f'A integral precisa estar entre 0.99 e 1.01') \n",
    "                \n",
    "                    #retorna tupla com dois arrays, o primeiro com os indices dos picos e o segundo com os valores dos picos\n",
    "                peaks = find_peaks(log)\n",
    "                print(peaks)\n",
    "                #Calcula a minima relativa dos dados\n",
    "                valleys = argrelmin(log)[0]\n",
    "                print(valleys)\n",
    "                print(type(valleys))\n",
    "\n",
    "\n",
    "                #numero de classes = n-1 (numero dos dedos e espaço dentre os dedos= verdadeira classe)\n",
    "\n",
    "                #uni os valores do valleys ordenados com 0 e 1 para encontrar os pontos de partição usando a minima relativa\n",
    "                #ov = np.concatenate((np.array([0]), ordValleys_J, np.array([1])))\n",
    "\n",
    "                con = np.concatenate((np.array([0.0]), dist[valleys], np.array([1.0])))\n",
    "                #calcula a diferença entre os valores de con\n",
    "                comp_classe = np.diff(con)\n",
    "                #calcula o desvio padrão\n",
    "                dp = np.std(comp_classe)    \n",
    "                #excluindo classes com desvio padrao maior que o desvio padrão\n",
    "                excl = np.where(comp_classe <= dp)\n",
    "\n",
    "                #cria uma mascara para excluir os valores de con que estão fora do desvio padrão. True para manter e False para excluir\n",
    "                mask = np.ones(con.shape,dtype=bool)\n",
    "                mask[excl] = False\n",
    "                con = con[mask]\n",
    "\n",
    "                print(type(con))\n",
    "                print(con)\n",
    "\n",
    "                #como dicionario\n",
    "                classes = {}\n",
    "                for i in range(1, len(con)):\n",
    "                    classes[i] = (con[i-1], con[i])\n",
    "                print(classes)\n",
    "\n",
    "                classes = pd.DataFrame(classes)\n",
    "\n",
    "                classes.to_csv('classes_J2_reduzido.csv', index=False)"
   ]
  },
  {
   "cell_type": "code",
   "execution_count": 73,
   "metadata": {},
   "outputs": [],
   "source": [
    "'''Adição do padding '''\n",
    "\n",
    "def padding(df, J):\n",
    "\n",
    "    #df = binning.proc_binning(df, J, binning='kde')\n",
    "\n",
    "    padDF = np.pad(df, (1, 1)) #para a melhor localização de pontos divisores de classe\n",
    "    return padDF    "
   ]
  },
  {
   "attachments": {},
   "cell_type": "markdown",
   "metadata": {},
   "source": [
    "## 4 - Pickle"
   ]
  },
  {
   "cell_type": "code",
   "execution_count": 8,
   "metadata": {},
   "outputs": [],
   "source": [
    "def pickle (df, fileout):\n",
    "    import pickle as pkl "
   ]
  },
  {
   "attachments": {},
   "cell_type": "markdown",
   "metadata": {},
   "source": [
    "## 5 - Análise dos Gráficos"
   ]
  },
  {
   "attachments": {},
   "cell_type": "markdown",
   "metadata": {},
   "source": [
    "### Graficos dos Binnings"
   ]
  },
  {
   "cell_type": "code",
   "execution_count": 9,
   "metadata": {},
   "outputs": [],
   "source": [
    "'''Classe Graficos com funções KDE e BB '''\n",
    "class graficos:\n",
    "\n",
    "    #método construtor\n",
    "    def __init__(self) -> None:\n",
    "        pass  \n",
    "     \n",
    "    '''Função de plotagem do KDE ''' \n",
    "    def grafico_kde(df, J, pad = False):        \n",
    "\n",
    "        import matplotlib.pyplot as plt\n",
    "        #plt.style.use(\".dados/plot/ccs.mplstyle\")\n",
    "\n",
    "        if pad == True:\n",
    "            df = padding(df)\n",
    "\n",
    "        #df deve ser aquele resultante do processamento\n",
    "        #df = binning.proc_binning(proc, J, binning='kde')       \n",
    "\n",
    "        #dist  'numpy.ndarray'\n",
    "        #log   'numpy.ndarray'\n",
    "        #peaks 'tuple'\n",
    "        #valleys 'numpy.ndarray'\n",
    "        #ordValleys_J 'numpy.ndarray'\n",
    "        #classes 'dict'\n",
    "\n",
    "        for i in df:                        \n",
    "            plt.plot(df[i]['dist'], df[i]['log'])\n",
    "            plt.grid(True)            \n",
    "\n",
    "        for i in J:           \n",
    "            \n",
    "            plt.title(f'Vales dos Kernels | {i} normalizado')\n",
    "            plt.ylabel(\"Valor da Densidade\")\n",
    "            plt.xlabel(f'Posição assumida por {i} norm')                      \n",
    "            \n",
    "            \n",
    "            plt.plot(df[i]['valleys'], df[i]['log'][df[i]['valleys']], 'o', c='red')\n",
    "            plt.plot(df[i]['valleys'][df[i]['ordValleys_J'][0:4]], df[i]['log'][df[i]['valleys'][df[i]['ordValleys_J'][0:4]]], '*', c='green')\n",
    "\n",
    "            #plot das classes\n",
    "            for j in i:\n",
    "                plt.plot(df[j]['classes'])\n",
    "\n",
    "            plt.show()\n",
    "            plt.savefig(f'./dados/Analise de Js/testes/{J}.jpeg', format='jpeg')\n",
    "\n",
    "    \n",
    "                \n",
    "    '''Função de plotagem do BB ''' \n",
    "    def grafico_bb(df, bins_bb, J):\n",
    "\n",
    "        df = binning.proc_binning(df, J, binning='bb')\n",
    "\n",
    "        import matplotlib.pyplot as plt\n",
    "        #plt.style.use(\".dados/plot/ccs.mplstyle\")\n",
    "\n",
    "        \"\"\"\n",
    "        Essa funcao tem como objetivo criar uma representação gráfica\n",
    "        de uma determinada 'coluna' de um determinado DataFrame (df)\n",
    "        dado o calculo de seus bins/classes baseados no Bayesian Blocks.\n",
    "        Pode-se obter os Bayesian Blocks de uma determinada variável\n",
    "        usando a funcao 'bayesian_blocks' do módulo astropy.stats\n",
    "        \"\"\"\n",
    "                \n",
    "        \n",
    "        labels = {\n",
    "            \"J1_normalizado\" : \"RQI\",\n",
    "            \"J2_normalizado\" : \"RQI * Pressao\",\n",
    "            \"J3_normalizado\" : \"RQI * Pressao Inversa\",\n",
    "            \"J4_normalizado\" : \"RQI * Pressao * ln(distancia)\",\n",
    "            \"J5_normalizado\" : \"RQI * Pressao Inversa * ln(distancia)\", \n",
    "            \"J6_normalizado\" : \"Permeabilidade * Porosidade * ln(distancia)\",\n",
    "            \"J7_normalizado\" : \"ln(Permeabilidade) * ln(Porosidade) * ln(distancia)\"\n",
    "        }\n",
    "        \n",
    "        ax = plt.figure(figsize=(20, 12))\n",
    "        #modificar labels para for\n",
    "        ax = plt.title(f\"Histograma '{J} = {labels[J]}' utilizando blocos bayesianos\", fontsize = 24)\n",
    "        ax = plt.xlabel(\"X\", fontsize = 18)\n",
    "        ax = plt.ylabel(\"Y\", fontsize = 18)\n",
    "        ax = plt.hist(df, bins = bins_bb, color='g')\n",
    "        ax = plt.grid(True)\n",
    "        plt.savefig(f'./dados/Analise de Js/bb/{J}.jpeg', format='jpeg')\n",
    "        plt.show(ax)\n",
    "        "
   ]
  },
  {
   "cell_type": "code",
   "execution_count": 10,
   "metadata": {},
   "outputs": [
    {
     "data": {
      "text/plain": [
       "'#gerando gráficos bb\\nresultados = {}\\n\\nfor coluna in variaveis_df.columns:\\n    if coluna in variaveis_df.columns[12::]:\\n        serie = variaveis_df.query(f\"{coluna} > 0\")[coluna]\\n        resultados[coluna] = [serie, bayesian_blocks(serie)]\\n        grafico_bb(resultados[coluna][0], resultados[coluna][1], coluna)'"
      ]
     },
     "execution_count": 10,
     "metadata": {},
     "output_type": "execute_result"
    }
   ],
   "source": [
    "'''#gerando gráficos bb\n",
    "resultados = {}\n",
    "\n",
    "for coluna in variaveis_df.columns:\n",
    "    if coluna in variaveis_df.columns[12::]:\n",
    "        serie = variaveis_df.query(f\"{coluna} > 0\")[coluna]\n",
    "        resultados[coluna] = [serie, bayesian_blocks(serie)]\n",
    "        grafico_bb(resultados[coluna][0], resultados[coluna][1], coluna)'''"
   ]
  },
  {
   "attachments": {},
   "cell_type": "markdown",
   "metadata": {},
   "source": [
    "# Testes\n"
   ]
  },
  {
   "cell_type": "code",
   "execution_count": 5,
   "metadata": {},
   "outputs": [],
   "source": [
    "import numpy as np\n",
    "from numpy import linspace\n",
    "from sklearn.neighbors import KernelDensity\n",
    "from scipy.signal import argrelmin, find_peaks\n",
    "from sklearn.model_selection import GridSearchCV, LeaveOneOut\n",
    "import scipy.integrate as integrate                        \n",
    "import matplotlib.pyplot as plt\n",
    "#import seaborn as sns\n",
    "#import plotly.graph_objects as go\n",
    "#import plotly.express as px"
   ]
  },
  {
   "cell_type": "code",
   "execution_count": 123,
   "metadata": {},
   "outputs": [
    {
     "name": "stdout",
     "output_type": "stream",
     "text": [
      "df com valores NAN\n",
      "df corrigido, não mais possui valores NAN\n",
      "df corrigido, não mais possui valores 0\n",
      "           J2\n",
      "0     0.42121\n",
      "1     0.41414\n",
      "2     0.45838\n",
      "3     0.39962\n",
      "4     0.34914\n",
      "...       ...\n",
      "3311  0.65860\n",
      "3312  0.66928\n",
      "3313  0.27292\n",
      "3314  0.16820\n",
      "3320  0.43269\n",
      "\n",
      "[3008 rows x 1 columns]\n"
     ]
    }
   ],
   "source": [
    "df = read_df(\"./dados/Simplificados_unisim-i-d/J2_reduzido.csv\")\n",
    "#df = read_df(\"./dados/J Costa/J1_Costa.csv\")\n",
    "#df = df.sample(1500)"
   ]
  },
  {
   "cell_type": "code",
   "execution_count": 124,
   "metadata": {},
   "outputs": [],
   "source": [
    "ideal_band = 0\n",
    "#JN = {'J1_normalizado', 'J2_normalizado', 'J3_normalizado', 'J4_normalizado', 'J5_normalizado', 'J6_normalizado'}\n",
    "JN =  {'J2'}\n",
    "#df = normalization (df, JN, norm=True)\n",
    "\n",
    "for coluna in JN:                   \n",
    "    X = df[f'{coluna}'].values[::].reshape(-1, 1)\n",
    "    X = X[X > 0] \n",
    "\n",
    "    band = np.linspace(0.01, 0.05)\n",
    "    grid = GridSearchCV(KernelDensity(), {'bandwidth': band},cv=LeaveOneOut())\n",
    "    grid.fit(X[:,None].reshape(-1, 1)) \n",
    "    ideal_band = grid.best_params_\n",
    "    #print(ideal_band)  \n",
    "    #BANDWIDTH ORIGINAL: 0.01    "
   ]
  },
  {
   "cell_type": "code",
   "execution_count": 127,
   "metadata": {},
   "outputs": [
    {
     "name": "stdout",
     "output_type": "stream",
     "text": [
      "{'bandwidth': 0.010816326530612244}\n"
     ]
    }
   ],
   "source": [
    "print(ideal_band) "
   ]
  },
  {
   "cell_type": "code",
   "execution_count": 129,
   "metadata": {},
   "outputs": [],
   "source": [
    "'''Calculo kde'''\n",
    "resultados_kde = {}\n",
    "\n",
    "for coluna in JN:                    \n",
    "    \n",
    "    # faz o reshape para encaixar os dados em uma dimensão apropriada para o calculo \n",
    "    X = df[f'{coluna}'].values[::]\n",
    "    X = X[X > 0].reshape(-1, 1) \n",
    "           \n",
    "    # calculo da densidade de probabilidade\n",
    "    kde = KernelDensity(kernel='gaussian', bandwidth = ideal_band['bandwidth']).fit(X)"
   ]
  },
  {
   "cell_type": "code",
   "execution_count": 130,
   "metadata": {},
   "outputs": [],
   "source": [
    "dist = np.linspace(0, 1.0, len(df[f'{coluna}']))"
   ]
  },
  {
   "cell_type": "code",
   "execution_count": 131,
   "metadata": {},
   "outputs": [],
   "source": [
    "log = kde.score_samples(dist.reshape(-1, 1))\n",
    "log = np.exp(log)                 "
   ]
  },
  {
   "cell_type": "code",
   "execution_count": 132,
   "metadata": {},
   "outputs": [
    {
     "name": "stdout",
     "output_type": "stream",
     "text": [
      "A integral : 1.0 é adequeada.\n"
     ]
    }
   ],
   "source": [
    "#temos que calcular a integral para verificar se  o kde está correto para ser uma distribuição de probabilidade\n",
    "integral = float(np.exp(integrate.trapz(log[:, None], dist[:, None])).all())\n",
    "\n",
    "if integral <= 1.01 and integral >= 0.99:\n",
    "                    print(f'A integral : {integral} é adequeada.')\n",
    "else:\n",
    "    print(f'A integral não está no intervalo correto: {integral}')\n",
    "    raise KeyError(f'A integral precisa estar entre 0.99 e 1.01')                                        "
   ]
  },
  {
   "cell_type": "code",
   "execution_count": 133,
   "metadata": {},
   "outputs": [
    {
     "name": "stdout",
     "output_type": "stream",
     "text": [
      "(array([ 475,  602,  675, 1089, 1155, 1436, 1522, 2057, 2261, 2386],\n",
      "      dtype=int64), {})\n",
      "[ 546  664 1034 1134 1389 1491 2024 2210 2324]\n",
      "<class 'numpy.ndarray'>\n"
     ]
    }
   ],
   "source": [
    "#retorna tupla com dois arrays, o primeiro com os indices dos picos e o segundo com os valores dos picos\n",
    "peaks = find_peaks(log)\n",
    "print(peaks)\n",
    "#Calcula a minima relativa dos dados\n",
    "valleys = argrelmin(log)[0]\n",
    "print(valleys)\n",
    "print(type(valleys))"
   ]
  },
  {
   "cell_type": "code",
   "execution_count": 134,
   "metadata": {},
   "outputs": [
    {
     "data": {
      "text/plain": [
       "'ord = np.argsort(np.abs(np.diff(log[valleys])))\\nprint(ord)\\n#inverte a ordem do array \\nordValleys_J = np.flip(ord)+1 \\nprint(ordValleys_J)'"
      ]
     },
     "execution_count": 134,
     "metadata": {},
     "output_type": "execute_result"
    }
   ],
   "source": [
    "#Retorna os indices que classificam o array e calcula o valores absolutos das diferenças entre os valores dos vales e ordena em ordem crescente\n",
    "\"\"\"ord = np.argsort(np.abs(np.diff(log[valleys])))\n",
    "print(ord)\n",
    "#inverte a ordem do array \n",
    "ordValleys_J = np.flip(ord)+1 \n",
    "print(ordValleys_J)\"\"\""
   ]
  },
  {
   "cell_type": "code",
   "execution_count": 136,
   "metadata": {},
   "outputs": [
    {
     "name": "stdout",
     "output_type": "stream",
     "text": [
      "<class 'numpy.ndarray'>\n",
      "[0.         0.22081809 0.37712005 0.49584303 0.77286332 1.        ]\n",
      "{1: (0.0, 0.22081809112071832), 2: (0.22081809112071832, 0.3771200532091786), 3: (0.3771200532091786, 0.4958430329231792), 4: (0.4958430329231792, 0.772863318922514), 5: (0.772863318922514, 1.0)}\n",
      "[0.0, 0.22081809112071832, 0.3771200532091786, 0.4958430329231792, 0.772863318922514, 1.0]\n"
     ]
    }
   ],
   "source": [
    "#numero de classes = n-1 (numero dos dedos e espaço dentre os dedos= verdadeira classe)\n",
    "\n",
    "#uni os valores do valleys ordenados com 0 e 1 para encontrar os pontos de partição usando a minima relativa\n",
    "#ov = np.concatenate((np.array([0]), ordValleys_J, np.array([1])))\n",
    "\n",
    "con = np.concatenate((np.array([0.0]), dist[valleys], np.array([1.0])))\n",
    "#calcula a diferença entre os valores de con\n",
    "comp_classe = np.diff(con)\n",
    "#calcula o desvio padrão\n",
    "dp = np.std(comp_classe)    \n",
    "#excluindo classes com desvio padrao maior que o desvio padrão\n",
    "excl = np.where(comp_classe <= dp)\n",
    "\n",
    "#cria uma mascara para excluir os valores de con que estão fora do desvio padrão. True para manter e False para excluir\n",
    "mask = np.ones(con.shape,dtype=bool)\n",
    "mask[excl] = False\n",
    "con = con[mask]\n",
    "\n",
    "print(type(con))\n",
    "print(con)\n",
    "\n",
    "#como dicionario\n",
    "classes = {}\n",
    "for i in range(1, len(con)):\n",
    "    classes[i] = (con[i-1], con[i])\n",
    "print(classes)\n",
    "\n",
    "\n",
    "#como lista\n",
    "cl = []\n",
    "for i in range(1, len(con)):\n",
    "    cl.append(con[i-1])\n",
    "cl.append(1.0)\n",
    "print(cl)"
   ]
  },
  {
   "cell_type": "code",
   "execution_count": 137,
   "metadata": {},
   "outputs": [
    {
     "data": {
      "text/html": [
       "<div>\n",
       "<style scoped>\n",
       "    .dataframe tbody tr th:only-of-type {\n",
       "        vertical-align: middle;\n",
       "    }\n",
       "\n",
       "    .dataframe tbody tr th {\n",
       "        vertical-align: top;\n",
       "    }\n",
       "\n",
       "    .dataframe thead th {\n",
       "        text-align: right;\n",
       "    }\n",
       "</style>\n",
       "<table border=\"1\" class=\"dataframe\">\n",
       "  <thead>\n",
       "    <tr style=\"text-align: right;\">\n",
       "      <th></th>\n",
       "      <th>1</th>\n",
       "      <th>2</th>\n",
       "      <th>3</th>\n",
       "      <th>4</th>\n",
       "      <th>5</th>\n",
       "    </tr>\n",
       "  </thead>\n",
       "  <tbody>\n",
       "    <tr>\n",
       "      <th>0</th>\n",
       "      <td>0.000000</td>\n",
       "      <td>0.220818</td>\n",
       "      <td>0.377120</td>\n",
       "      <td>0.495843</td>\n",
       "      <td>0.772863</td>\n",
       "    </tr>\n",
       "    <tr>\n",
       "      <th>1</th>\n",
       "      <td>0.220818</td>\n",
       "      <td>0.377120</td>\n",
       "      <td>0.495843</td>\n",
       "      <td>0.772863</td>\n",
       "      <td>1.000000</td>\n",
       "    </tr>\n",
       "  </tbody>\n",
       "</table>\n",
       "</div>"
      ],
      "text/plain": [
       "          1         2         3         4         5\n",
       "0  0.000000  0.220818  0.377120  0.495843  0.772863\n",
       "1  0.220818  0.377120  0.495843  0.772863  1.000000"
      ]
     },
     "execution_count": 137,
     "metadata": {},
     "output_type": "execute_result"
    }
   ],
   "source": [
    "classes = pd.DataFrame(classes)\n",
    "classes"
   ]
  },
  {
   "cell_type": "code",
   "execution_count": 138,
   "metadata": {},
   "outputs": [],
   "source": [
    "#criar csv para salvar as classes in a pasta\n",
    "classes.to_csv('classes_J2_reduzido.csv', index=False)"
   ]
  },
  {
   "cell_type": "code",
   "execution_count": 12,
   "metadata": {},
   "outputs": [
    {
     "name": "stdout",
     "output_type": "stream",
     "text": [
      "0.2208180911207183\n",
      "0.2208180911207183\n",
      "0.3771200532091786\n",
      "0.15630196208846028\n",
      "0.4958430329231792\n",
      "0.11872297971400064\n",
      "0.772863318922514\n",
      "0.2770202859993348\n",
      "1.0\n",
      "0.22713668107748597\n",
      "          1         2         3         4         5\n",
      "0  0.000000  0.220818  0.377120  0.495843  0.772863\n",
      "1  0.220818  0.377120  0.495843  0.772863  1.000000\n"
     ]
    }
   ],
   "source": [
    "#calculo do valor de cada classe\n",
    "cl = pd.read_csv('classes_J1_reduzido.csv')\n",
    "\n",
    "#calculo do delta\n",
    "for i in cl.columns:\n",
    "    print(cl[i].iloc[1])\n",
    "    delta = cl[i].iloc[1] - cl[i].iloc[0]\n",
    "    #adiciona a coluna delta ao dataframe cl\n",
    "    #adicionar o valor de delta a um dataframe\n",
    "    delta\n",
    "    print(delta)\n",
    "    #cl[i].loc[2] = cl[i].append(pd.Series([[delta]]), ignore_index=True)\n",
    "    #cl[i].iloc[2] = cl[i].append(pd.DataFrame(delta))\n",
    "print(cl)    \n"
   ]
  },
  {
   "cell_type": "code",
   "execution_count": 71,
   "metadata": {},
   "outputs": [
    {
     "name": "stdout",
     "output_type": "stream",
     "text": [
      "(3008,) (3008,) (10,) (10,)\n"
     ]
    }
   ],
   "source": [
    "print(dist.shape, log.shape, dist[valleys].shape, log[valleys].shape)"
   ]
  },
  {
   "cell_type": "code",
   "execution_count": 37,
   "metadata": {},
   "outputs": [
    {
     "data": {
      "image/png": "[encoded data removed]",
      "text/plain": [
       "<Figure size 2000x1200 with 1 Axes>"
      ]
     },
     "metadata": {},
     "output_type": "display_data"
    }
   ],
   "source": [
    "plt.figure(figsize=(20, 12))\n",
    "plt.plot(dist, log, color='seagreen', linewidth=2.5, alpha=0.3)  \n",
    "plt.fill_between(dist, log, color='seagreen', alpha=0.3)\n",
    "plt.plot(dist[valleys], log[valleys], \"o\", color='sienna')\n",
    "plt.plot(dist[peaks[0]], log[peaks[0]], \"^\", color='black')\n",
    "\n",
    "plt.xlabel('Posição de J1 normalizado equidistantemente distribuído', fontsize=15)\n",
    "plt.ylabel('Densidade', fontsize=15)\n",
    "plt.title('Picos e Vales | J4 normalizado', fontsize=20)\n",
    "plt.show()\n"
   ]
  },
  {
   "cell_type": "code",
   "execution_count": 38,
   "metadata": {},
   "outputs": [
    {
     "ename": "ValueError",
     "evalue": "x and y must have same first dimension, but have shapes (8, 2) and (5,)",
     "output_type": "error",
     "traceback": [
      "\u001b[1;31m---------------------------------------------------------------------------\u001b[0m",
      "\u001b[1;31mValueError\u001b[0m                                Traceback (most recent call last)",
      "Cell \u001b[1;32mIn[38], line 11\u001b[0m\n\u001b[0;32m      8\u001b[0m myList \u001b[38;5;241m=\u001b[39m \u001b[38;5;28msorted\u001b[39m(myList)\n\u001b[0;32m      9\u001b[0m x, y \u001b[38;5;241m=\u001b[39m \u001b[38;5;28mzip\u001b[39m(\u001b[38;5;241m*\u001b[39mmyList)\n\u001b[1;32m---> 11\u001b[0m \u001b[43mplt\u001b[49m\u001b[38;5;241;43m.\u001b[39;49m\u001b[43mplot\u001b[49m\u001b[43m(\u001b[49m\u001b[43my\u001b[49m\u001b[43m,\u001b[49m\u001b[43m \u001b[49m\u001b[43mlog\u001b[49m\u001b[43m[\u001b[49m\u001b[43m:\u001b[49m\u001b[38;5;241;43m5\u001b[39;49m\u001b[43m]\u001b[49m\u001b[43m,\u001b[49m\u001b[43m \u001b[49m\u001b[38;5;124;43m'\u001b[39;49m\u001b[38;5;124;43mx\u001b[39;49m\u001b[38;5;124;43m'\u001b[39;49m\u001b[43m,\u001b[49m\u001b[43mmarkersize\u001b[49m\u001b[38;5;241;43m=\u001b[39;49m\u001b[38;5;241;43m10\u001b[39;49m\u001b[43m,\u001b[49m\u001b[43m \u001b[49m\u001b[43mcolor\u001b[49m\u001b[38;5;241;43m=\u001b[39;49m\u001b[38;5;124;43m'\u001b[39;49m\u001b[38;5;124;43mperu\u001b[39;49m\u001b[38;5;124;43m'\u001b[39;49m\u001b[43m)\u001b[49m\n\u001b[0;32m     13\u001b[0m \u001b[38;5;66;03m#criando linhas verticais para cada classe\u001b[39;00m\n\u001b[0;32m     14\u001b[0m \u001b[38;5;28;01mfor\u001b[39;00m i \u001b[38;5;129;01min\u001b[39;00m \u001b[38;5;28mrange\u001b[39m(\u001b[38;5;241m1\u001b[39m, \u001b[38;5;28mlen\u001b[39m(cl)):\n",
      "File \u001b[1;32mc:\\Users\\Yhasmim\\miniconda3\\envs\\tril\\lib\\site-packages\\matplotlib\\pyplot.py:2748\u001b[0m, in \u001b[0;36mplot\u001b[1;34m(scalex, scaley, data, *args, **kwargs)\u001b[0m\n\u001b[0;32m   2746\u001b[0m \u001b[38;5;129m@_copy_docstring_and_deprecators\u001b[39m(Axes\u001b[38;5;241m.\u001b[39mplot)\n\u001b[0;32m   2747\u001b[0m \u001b[38;5;28;01mdef\u001b[39;00m \u001b[38;5;21mplot\u001b[39m(\u001b[38;5;241m*\u001b[39margs, scalex\u001b[38;5;241m=\u001b[39m\u001b[38;5;28;01mTrue\u001b[39;00m, scaley\u001b[38;5;241m=\u001b[39m\u001b[38;5;28;01mTrue\u001b[39;00m, data\u001b[38;5;241m=\u001b[39m\u001b[38;5;28;01mNone\u001b[39;00m, \u001b[38;5;241m*\u001b[39m\u001b[38;5;241m*\u001b[39mkwargs):\n\u001b[1;32m-> 2748\u001b[0m     \u001b[38;5;28;01mreturn\u001b[39;00m gca()\u001b[38;5;241m.\u001b[39mplot(\n\u001b[0;32m   2749\u001b[0m         \u001b[38;5;241m*\u001b[39margs, scalex\u001b[38;5;241m=\u001b[39mscalex, scaley\u001b[38;5;241m=\u001b[39mscaley,\n\u001b[0;32m   2750\u001b[0m         \u001b[38;5;241m*\u001b[39m\u001b[38;5;241m*\u001b[39m({\u001b[38;5;124m\"\u001b[39m\u001b[38;5;124mdata\u001b[39m\u001b[38;5;124m\"\u001b[39m: data} \u001b[38;5;28;01mif\u001b[39;00m data \u001b[38;5;129;01mis\u001b[39;00m \u001b[38;5;129;01mnot\u001b[39;00m \u001b[38;5;28;01mNone\u001b[39;00m \u001b[38;5;28;01melse\u001b[39;00m {}), \u001b[38;5;241m*\u001b[39m\u001b[38;5;241m*\u001b[39mkwargs)\n",
      "File \u001b[1;32mc:\\Users\\Yhasmim\\miniconda3\\envs\\tril\\lib\\site-packages\\matplotlib\\axes\\_axes.py:1668\u001b[0m, in \u001b[0;36mAxes.plot\u001b[1;34m(self, scalex, scaley, data, *args, **kwargs)\u001b[0m\n\u001b[0;32m   1425\u001b[0m \u001b[38;5;124;03m\"\"\"\u001b[39;00m\n\u001b[0;32m   1426\u001b[0m \u001b[38;5;124;03mPlot y versus x as lines and/or markers.\u001b[39;00m\n\u001b[0;32m   1427\u001b[0m \n\u001b[1;32m   (...)\u001b[0m\n\u001b[0;32m   1665\u001b[0m \u001b[38;5;124;03m(``'green'``) or hex strings (``'#008000'``).\u001b[39;00m\n\u001b[0;32m   1666\u001b[0m \u001b[38;5;124;03m\"\"\"\u001b[39;00m\n\u001b[0;32m   1667\u001b[0m kwargs \u001b[38;5;241m=\u001b[39m cbook\u001b[38;5;241m.\u001b[39mnormalize_kwargs(kwargs, mlines\u001b[38;5;241m.\u001b[39mLine2D)\n\u001b[1;32m-> 1668\u001b[0m lines \u001b[38;5;241m=\u001b[39m [\u001b[38;5;241m*\u001b[39m\u001b[38;5;28mself\u001b[39m\u001b[38;5;241m.\u001b[39m_get_lines(\u001b[38;5;241m*\u001b[39margs, data\u001b[38;5;241m=\u001b[39mdata, \u001b[38;5;241m*\u001b[39m\u001b[38;5;241m*\u001b[39mkwargs)]\n\u001b[0;32m   1669\u001b[0m \u001b[38;5;28;01mfor\u001b[39;00m line \u001b[38;5;129;01min\u001b[39;00m lines:\n\u001b[0;32m   1670\u001b[0m     \u001b[38;5;28mself\u001b[39m\u001b[38;5;241m.\u001b[39madd_line(line)\n",
      "File \u001b[1;32mc:\\Users\\Yhasmim\\miniconda3\\envs\\tril\\lib\\site-packages\\matplotlib\\axes\\_base.py:311\u001b[0m, in \u001b[0;36m_process_plot_var_args.__call__\u001b[1;34m(self, data, *args, **kwargs)\u001b[0m\n\u001b[0;32m    309\u001b[0m     this \u001b[38;5;241m+\u001b[39m\u001b[38;5;241m=\u001b[39m args[\u001b[38;5;241m0\u001b[39m],\n\u001b[0;32m    310\u001b[0m     args \u001b[38;5;241m=\u001b[39m args[\u001b[38;5;241m1\u001b[39m:]\n\u001b[1;32m--> 311\u001b[0m \u001b[38;5;28;01myield from\u001b[39;00m \u001b[38;5;28;43mself\u001b[39;49m\u001b[38;5;241;43m.\u001b[39;49m\u001b[43m_plot_args\u001b[49m\u001b[43m(\u001b[49m\n\u001b[0;32m    312\u001b[0m \u001b[43m    \u001b[49m\u001b[43mthis\u001b[49m\u001b[43m,\u001b[49m\u001b[43m \u001b[49m\u001b[43mkwargs\u001b[49m\u001b[43m,\u001b[49m\u001b[43m \u001b[49m\u001b[43mambiguous_fmt_datakey\u001b[49m\u001b[38;5;241;43m=\u001b[39;49m\u001b[43mambiguous_fmt_datakey\u001b[49m\u001b[43m)\u001b[49m\n",
      "File \u001b[1;32mc:\\Users\\Yhasmim\\miniconda3\\envs\\tril\\lib\\site-packages\\matplotlib\\axes\\_base.py:504\u001b[0m, in \u001b[0;36m_process_plot_var_args._plot_args\u001b[1;34m(self, tup, kwargs, return_kwargs, ambiguous_fmt_datakey)\u001b[0m\n\u001b[0;32m    501\u001b[0m     \u001b[38;5;28mself\u001b[39m\u001b[38;5;241m.\u001b[39maxes\u001b[38;5;241m.\u001b[39myaxis\u001b[38;5;241m.\u001b[39mupdate_units(y)\n\u001b[0;32m    503\u001b[0m \u001b[38;5;28;01mif\u001b[39;00m x\u001b[38;5;241m.\u001b[39mshape[\u001b[38;5;241m0\u001b[39m] \u001b[38;5;241m!=\u001b[39m y\u001b[38;5;241m.\u001b[39mshape[\u001b[38;5;241m0\u001b[39m]:\n\u001b[1;32m--> 504\u001b[0m     \u001b[38;5;28;01mraise\u001b[39;00m \u001b[38;5;167;01mValueError\u001b[39;00m(\u001b[38;5;124mf\u001b[39m\u001b[38;5;124m\"\u001b[39m\u001b[38;5;124mx and y must have same first dimension, but \u001b[39m\u001b[38;5;124m\"\u001b[39m\n\u001b[0;32m    505\u001b[0m                      \u001b[38;5;124mf\u001b[39m\u001b[38;5;124m\"\u001b[39m\u001b[38;5;124mhave shapes \u001b[39m\u001b[38;5;132;01m{\u001b[39;00mx\u001b[38;5;241m.\u001b[39mshape\u001b[38;5;132;01m}\u001b[39;00m\u001b[38;5;124m and \u001b[39m\u001b[38;5;132;01m{\u001b[39;00my\u001b[38;5;241m.\u001b[39mshape\u001b[38;5;132;01m}\u001b[39;00m\u001b[38;5;124m\"\u001b[39m)\n\u001b[0;32m    506\u001b[0m \u001b[38;5;28;01mif\u001b[39;00m x\u001b[38;5;241m.\u001b[39mndim \u001b[38;5;241m>\u001b[39m \u001b[38;5;241m2\u001b[39m \u001b[38;5;129;01mor\u001b[39;00m y\u001b[38;5;241m.\u001b[39mndim \u001b[38;5;241m>\u001b[39m \u001b[38;5;241m2\u001b[39m:\n\u001b[0;32m    507\u001b[0m     \u001b[38;5;28;01mraise\u001b[39;00m \u001b[38;5;167;01mValueError\u001b[39;00m(\u001b[38;5;124mf\u001b[39m\u001b[38;5;124m\"\u001b[39m\u001b[38;5;124mx and y can be no greater than 2D, but have \u001b[39m\u001b[38;5;124m\"\u001b[39m\n\u001b[0;32m    508\u001b[0m                      \u001b[38;5;124mf\u001b[39m\u001b[38;5;124m\"\u001b[39m\u001b[38;5;124mshapes \u001b[39m\u001b[38;5;132;01m{\u001b[39;00mx\u001b[38;5;241m.\u001b[39mshape\u001b[38;5;132;01m}\u001b[39;00m\u001b[38;5;124m and \u001b[39m\u001b[38;5;132;01m{\u001b[39;00my\u001b[38;5;241m.\u001b[39mshape\u001b[38;5;132;01m}\u001b[39;00m\u001b[38;5;124m\"\u001b[39m)\n",
      "\u001b[1;31mValueError\u001b[0m: x and y must have same first dimension, but have shapes (8, 2) and (5,)"
     ]
    },
    {
     "data": {
      "image/png": "[encoded data removed]",
      "text/plain": [
       "<Figure size 2000x1200 with 1 Axes>"
      ]
     },
     "metadata": {},
     "output_type": "display_data"
    }
   ],
   "source": [
    "plt.figure(figsize=(20, 12))\n",
    "plt.plot(dist, log, color='seagreen', linewidth=2.5, alpha=0.3)  \n",
    "#plt.plot(dist[valleys], log[valleys], \"o\", color='sienna')\n",
    "#plt.plot(dist[peaks[0]], log[peaks[0]], \"^\", color='blue')\n",
    "\n",
    "#plot das classes como lista\n",
    "myList = classes.items()\n",
    "myList = sorted(myList)\n",
    "x, y = zip(*myList)\n",
    "\n",
    "plt.plot(y, log[:5], 'x',markersize=10, color='peru')\n",
    "\n",
    "#criando linhas verticais para cada classe\n",
    "for i in range(1, len(cl)):\n",
    "    plt.axvline(cl[i], color='peru', linestyle='--')\n",
    "\n",
    "#para preencher as classes\n",
    "for i in range(1, len(cl)):\n",
    "    plt.fill_between(dist, 0, log, where=(dist >= cl[i-1]) & (dist <= cl[i]), color='seagreen', alpha=0.3)\n",
    "\n",
    "plt.xlabel('Posição de J1 normalizado equidistantemente distribuído', fontsize=15)\n",
    "plt.ylabel('Densidade', fontsize=15)\n",
    "plt.title('Classificação do Kernel | J4 normalizado', fontsize=20)\n",
    "plt.savefig(f'./dados/Analise de Js/simplificados/kde_simplificados/{coluna}_normalizado_Kernel.jpeg', format='jpeg')\n",
    "plt.show()\n"
   ]
  },
  {
   "cell_type": "markdown",
   "metadata": {},
   "source": [
    "#BB"
   ]
  },
  {
   "cell_type": "code",
   "execution_count": 19,
   "metadata": {},
   "outputs": [],
   "source": [
    "from astropy.stats import bayesian_blocks\n",
    "\n",
    "coluna = {'J3'}\n",
    "\n",
    "\"\"\"\n",
    "Essa funcao tem como objetivo criar uma representação gráfica\n",
    "de uma determinada 'coluna' de um determinado DataFrame (df)\n",
    "dado o calculo de seus bins/classes baseados no Bayesian Blocks.\n",
    "Pode-se obter os Bayesian Blocks de uma determinada variável\n",
    "usando a funcao 'bayesian_blocks' do módulo astropy.stats\n",
    "\"\"\"\n",
    "\n",
    "def grafico_bb(df, bins_bb, coluna):\n",
    "    \n",
    "    labels = {\n",
    "        \"J1_normalizado\" : \"RQI\",\n",
    "        \"J2_normalizado\" : \"RQI * Pressao\",\n",
    "        \"J3_normalizado\" : \"RQI * Pressao Inversa\",\n",
    "        \"J4_normalizado\" : \"RQI * Pressao * ln(distancia)\",\n",
    "        \"J5_normalizado\" : \"RQI * Pressao Inversa * ln(distancia)\", \n",
    "        \"J6_normalizado\" : \"Permeabilidade * Porosidade * ln(distancia)\",\n",
    "        \"J7_normalizado\" : \"ln(Permeabilidade) * ln(Porosidade) * ln(distancia)\"\n",
    "    }\n",
    "    \n",
    "    ax = plt.figure(figsize=(20, 12))\n",
    "    ax = plt.title(\"Histograma J3 utilizando blocos bayesianos\", fontsize = 24)\n",
    "    #ax = plt.title(f\"Histograma '{coluna} = {labels[coluna]}' utilizando blocos bayesianos\", fontsize = 24)\n",
    "    ax = plt.xlabel(\"X\", fontsize = 18)\n",
    "    ax = plt.ylabel(\"Y\", fontsize = 18)\n",
    "    ax = plt.hist(df, bins = bins_bb, color='seagreen', alpha=0.3)\n",
    "    ax = plt.grid(True)\n",
    "    plt.savefig(f'./dados/Analise de Js/simplificados/bb_simplificados/{coluna}_Bayesian.jpeg', format='jpeg')\n",
    "    plt.show(ax)\n"
   ]
  },
  {
   "cell_type": "code",
   "execution_count": 20,
   "metadata": {},
   "outputs": [
    {
     "data": {
      "image/png": "[encoded data removed]",
      "text/plain": [
       "<Figure size 2000x1200 with 1 Axes>"
      ]
     },
     "metadata": {},
     "output_type": "display_data"
    }
   ],
   "source": [
    "resultados = {}\n",
    "\n",
    "for coluna in df.columns:\n",
    "    if coluna in df.columns[0]:\n",
    "        serie = df.query(f\"{coluna} > 0\")[coluna]\n",
    "        resultados[coluna] = [serie, bayesian_blocks(serie)]\n",
    "        grafico_bb(resultados[coluna][0], resultados[coluna][1], coluna)"
   ]
  }
 ],
 "metadata": {
  "interpreter": {
   "hash": "2e71ff5d6cfd00d4bc2f505165b5cdad2e2f53d03e64c6e9eb61202e17bc590f"
  },
  "kernelspec": {
   "display_name": "Python 3.9.6 ('tril')",
   "language": "python",
   "name": "python3"
  },
  "language_info": {
   "codemirror_mode": {
    "name": "ipython",
    "version": 3
   },
   "file_extension": ".py",
   "mimetype": "text/x-python",
   "name": "python",
   "nbconvert_exporter": "python",
   "pygments_lexer": "ipython3",
   "version": "3.9.15"
  },
  "orig_nbformat": 4,
  "vscode": {
   "interpreter": {
    "hash": "784ac644c6c4bc21869e2a5fc6787b9327a3f2a01dac292daa186c0832dc0a9c"
   }
  }
 },
 "nbformat": 4,
 "nbformat_minor": 2
}
