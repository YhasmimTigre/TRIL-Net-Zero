{
 "cells": [
  {
   "attachments": {},
   "cell_type": "markdown",
   "metadata": {},
   "source": [
    "# Lab. TRIL - Carbon Capture and Storage"
   ]
  },
  {
   "attachments": {},
   "cell_type": "markdown",
   "metadata": {},
   "source": [
    "Engenharia Computacional para a Emissão Zero no Setor de Óleo e Gás"
   ]
  },
  {
   "attachments": {},
   "cell_type": "markdown",
   "metadata": {},
   "source": [
    "## Introdução "
   ]
  },
  {
   "attachments": {},
   "cell_type": "markdown",
   "metadata": {},
   "source": [
    "Esse é um programa que realiza um processo de leitura, processamento e análise de um conjunto de dados de um reservatório, para encontrar classes de injetividade apresentadas com análise de gráfico.\n",
    "\n",
    "Esse projeto é desenvolvido por:<br>\n",
    "* Yhasmim de Souza Tigre - Aluna de Iniciação Científica - UFPB\n",
    "* Prof. Dr. Gustavo C. Oliveira - Professor Orientador - UFPB\n"
   ]
  },
  {
   "attachments": {},
   "cell_type": "markdown",
   "metadata": {},
   "source": [
    "### Bibliotecas"
   ]
  },
  {
   "cell_type": "code",
   "execution_count": 1,
   "metadata": {},
   "outputs": [],
   "source": [
    "import pandas as pd\n",
    "import numpy as np\n",
    "import pickle\n",
    "from numba import jit \n",
    "import matplotlib.pyplot as plt\n",
    "#%matplotlib inline \n",
    "#from matplotlib.pyplot import plotpip "
   ]
  },
  {
   "cell_type": "code",
   "execution_count": 2,
   "metadata": {},
   "outputs": [],
   "source": [
    "import warnings\n",
    "\n",
    "#Serve para ignorar os 'red warnings' que algumas bibliotecas apontam porque tem novas versoes de implementacao\n",
    "warnings.filterwarnings('ignore') "
   ]
  },
  {
   "attachments": {},
   "cell_type": "markdown",
   "metadata": {},
   "source": [
    "## 1 - Preparação de Files "
   ]
  },
  {
   "attachments": {},
   "cell_type": "markdown",
   "metadata": {},
   "source": [
    "Essas funções devem receber arquivos csv (em uma formatação pré-estabelecida) que serem lidos, checados e iniciados.<br>\n",
    "Os arquivos precisam:\n",
    "* ter colunas nomeadas \n",
    "* não ter valores NAN\n",
    "* ter colunas na ordem correta (RQI, pressao, pressao_inversa, distancia, permeabilidade e porosidade)\n",
    "* ter colunas com valores numéricos"
   ]
  },
  {
   "cell_type": "code",
   "execution_count": 3,
   "metadata": {},
   "outputs": [],
   "source": [
    "'''função de leitura do arquivo csv para df'''\n",
    "\n",
    "def read_df(df):\n",
    "\n",
    "    df = pd.read_csv(df)\n",
    "    if any(df.isna()):\n",
    "        print(\"df com valores NAN\")\n",
    "        \n",
    "        df = df.fillna(0)\n",
    "        print(\"df corrigido, não mais possui valores NAN\")\n",
    "    \n",
    "    return df"
   ]
  },
  {
   "cell_type": "code",
   "execution_count": 4,
   "metadata": {},
   "outputs": [],
   "source": [
    "'''função de checagem de keys em dataframe '''\n",
    "\n",
    "def checking(df):\n",
    "    \n",
    "    df = read_df(df)\n",
    "\n",
    "    lista_primarias = ['RQI','pressao','pressao_inversa','distancia','permeabilidade','porosidade']\n",
    "    lista_Js = ['J1', 'J2', 'J3', 'J4', 'J5', 'J6', 'J7', 'J8']  \n",
    "    \n",
    "    #encontrando keys estrangeiras no df\n",
    "    for i in df.keys():         \n",
    "        if lista_primarias.count(i) == 0: \n",
    "            print(f'variavel estrangeira \"{i}\" incluída no Dataframe. Não identificada na lista de variaveis primarias. \\n')                 \n",
    "        if lista_Js.count(i) == 0:\n",
    "            print(f'variavel estrangeira \"{i}\" incluída no Dataframe. Não identificada na lista de variaveis secundarias Js. \\n')\n",
    "\n",
    "    #encontrando keys faltantes no df\n",
    "    for i in lista_primarias:  \n",
    "        if list(df.keys()).count(i) == 0:\n",
    "            print(f'variavel primaria \"{i}\" NÃO incluída no Dataframe. Não identificada na lista de variaveis primarias. \\n')\n",
    "    for i in lista_Js:  \n",
    "        if list(df.keys()).count(i) == 0:\n",
    "            print(f'variavel secundária \"{i}\" NÃO incluída no Dataframe. Não identificada na lista de variaveis secundária Js. \\n')\n",
    "        \n",
    "    return df"
   ]
  },
  {
   "attachments": {},
   "cell_type": "markdown",
   "metadata": {},
   "source": [
    "## 2 - Calculo dos J's"
   ]
  },
  {
   "cell_type": "markdown",
   "metadata": {},
   "source": [
    "Aqui criamos funções qualificadoras, que utilizam os atributos do df para categorizar J's."
   ]
  },
  {
   "cell_type": "code",
   "execution_count": 5,
   "metadata": {},
   "outputs": [],
   "source": [
    "'''função de normalização dos dados'''\n",
    "\n",
    "def normalization(df, J, norm=False):\n",
    "\n",
    "    df = read_df(df)\n",
    "    # df = checking(df)\n",
    "    \n",
    "    #atribuição        \n",
    "    for j in J: \n",
    "              \n",
    "        if j == 'J1':\n",
    "            J1 = df['RQI']\n",
    "            df['J1'] = J1\n",
    "            normalize_(df, j, norm)            \n",
    "                    \n",
    "        if j == 'J2':\n",
    "            J2 = df['RQI']*df['pressao']\n",
    "            df['J2'] = J2\n",
    "            normalize_(df, j, norm)\n",
    "\n",
    "        if j == 'J3':\n",
    "            J3 = df['RQI']*df['pressao_inversa']\n",
    "            df['J3'] = J3\n",
    "            normalize_(df, j, norm)                                                                                         \n",
    "                            \n",
    "        if j == 'J4':\n",
    "            #para evitar resultados infinitos\n",
    "            aux = np.log(df['distancia']) #calc do log(0 ind, 1 inf)\n",
    "            #mascara\n",
    "            aux[np.isinf(aux)] = 0 \n",
    "            aux[np.isnan(aux)] = 0\n",
    "            aux[aux < 0] = 0\n",
    "\n",
    "            J4 = df['RQI'] * df['pressao'] * aux      \n",
    "            df['J4'] = J4\n",
    "            normalize_(df, j, norm) \n",
    "\n",
    "        if j == 'J5':\n",
    "\n",
    "            aux = np.log(df['distancia'])\n",
    "            aux[np.isinf(aux)] = 0 \n",
    "            aux[np.isnan(aux)] = 0\n",
    "            aux[aux < 0] = 0\n",
    "\n",
    "            J5 = df['RQI'] * df['pressao_inversa'] * aux\n",
    "            df['J5'] = J5\n",
    "            normalize_(df, j, norm)\n",
    "        \n",
    "        if j == 'J6':\n",
    "\n",
    "            aux = np.log(df['distancia'])\n",
    "            aux[np.isinf(aux)] = 0 \n",
    "            aux[np.isnan(aux)] = 0\n",
    "            aux[aux < 0] = 0\n",
    "\n",
    "            J6 = df['permeabilidade'] * df['porosidade'] * aux\n",
    "            df['J6'] = J6\n",
    "            normalize_(df, j, norm)  \n",
    "\n",
    "    return df\n",
    "\n",
    "def normalize_(df, col, norm):\n",
    "    if norm == True:   \n",
    "        df[f'{col}_normalizado'] = (df[col] - min(df[col])) / (max(df[col]) - min(df[col]))"
   ]
  },
  {
   "attachments": {},
   "cell_type": "markdown",
   "metadata": {},
   "source": [
    "## 3- Processamento Binning <br> (Bayesian Blocks ou KDE)\n",
    "<br/>"
   ]
  },
  {
   "cell_type": "markdown",
   "metadata": {},
   "source": [
    "A classe binning é responsável por processar os dados em KDE ou Bayesian Blocks \n",
    "\n",
    "#@jit(nopython=True) # Set \"nopython\" mode for best performance, equivalent to @njit"
   ]
  },
  {
   "cell_type": "code",
   "execution_count": 6,
   "metadata": {},
   "outputs": [],
   "source": [
    "\"\"\"Processamento de dados em binning\"\"\"\n",
    "class binning():\n",
    "\n",
    "        #método construtor\n",
    "        def __init__(self) -> None:\n",
    "            pass\n",
    "        \n",
    "        #@jit(nopython=True)\n",
    "        def proc_binning(df, J, binning): \n",
    "\n",
    "            if binning == 'kde':\n",
    "                \n",
    "                '''Bibliotecas'''\n",
    "                import numpy as np\n",
    "                from numpy import array, linspace\n",
    "                from sklearn.neighbors import KernelDensity\n",
    "                from scipy.misc import electrocardiogram\n",
    "                from scipy.signal import argrelmin, find_peaks\n",
    "                from sklearn.model_selection import GridSearchCV, LeaveOneOut\n",
    "                import scipy.integrate as integrate                        \n",
    "                import matplotlib.pyplot as plt\n",
    "                import seaborn as sns\n",
    "\n",
    "                '''Recebendo df'''\n",
    "                #para testes com valores simplificados\n",
    "                df = read_df(df)\n",
    "\n",
    "                #para valores ja normalizados\n",
    "                #df = checking(df)\n",
    "\n",
    "                #para valores que passarão por normalização\n",
    "                #df = normalization (df, J, norm=True)\n",
    "\n",
    "                #pegando um valor menor para rodar o codigo\n",
    "                df = df.sample(1500)\n",
    "\n",
    "                '''Método de bandwith para kde'''\n",
    "                \n",
    "                ideal_band = 0\n",
    "                #JN = {'J1_normalizado', 'J2_normalizado', 'J3_normalizado', 'J4_normalizado', 'J5_normalizado', 'J6_normalizado'}\n",
    "                JN =  {'J1'}\n",
    "                \n",
    "                for coluna in JN:                   \n",
    "                    X = df[f'{coluna}'].values[::].reshape(-1, 1)\n",
    "                \n",
    "                    band = np.linspace(0.01, 0.05)\n",
    "                    grid = GridSearchCV(KernelDensity(), {'bandwidth': band},cv=LeaveOneOut())\n",
    "                    grid.fit(X[:,None].reshape(-1, 1)) \n",
    "                    ideal_band = grid.best_params_\n",
    "                    #print(ideal_band)  \n",
    "                    #BANDWIDTH ORIGINAL: 0.01      \n",
    "                   \n",
    "                '''Calculo kde'''\n",
    "                resultados_kde = {}\n",
    "\n",
    "                for coluna in JN:                    \n",
    "                    \n",
    "                    # faz o reshape para encaixar os dados em uma dimensão apropriada para o calculo \n",
    "                    X = df[f'{coluna}'].values[::].reshape(-1, 1)\n",
    "\n",
    "                    #f, a  = plt.subplots()                    \n",
    "                    #h = sns.histplot(X, kde = True, element=\"bars\", kde_kws={'bw_method':'silverman', 'bw_adjust':0.1}, ax = a, stat='probability', color= 'white', edgecolor='white', facecolor='white')       \n",
    "                        \n",
    "                    # calculo da densidade de probabilidade\n",
    "                    kde = KernelDensity(kernel='gaussian', bandwidth = ideal_band['bandwidth']).fit(X)\n",
    "\n",
    "                    #plt.plot(kde)\n",
    "                    #sns.kdeplot(X, bw_method= 0.01, ax = a, color='black', linewidth=2.5, alpha=0.5)\n",
    "                    #retorna os pontos em uma distancia equidistante / os dados precisam está em 2D\n",
    "                    dist = np.linspace(0, 1.0, len(df[f'{coluna}']))\n",
    "\n",
    "                    #calcula a probabilidade logarítmica de cada amostra sob o modelo                     \n",
    "                    log = kde.score_samples(dist.reshape(-1, 1))\n",
    "                    log = np.exp(log)\n",
    "                    # usamos exponencial para deixar log positivo\n",
    "                    #essa integral retorna o valor True ou False (estava retornando valor antes das modificações em dist e log)\n",
    "                    # [:, None] é usado para realizar o broadcast dos dados (operação entre arrays de dimensões diferentes))\n",
    "                    integral = float(np.exp(integrate.trapz(log[:, None], dist[:, None])).all())\n",
    "                    #print(integral)\n",
    "                    \n",
    "                    if integral <= 1.01 and integral >= 0.99:\n",
    "                        print(f'A integral : {integral} é adequeada.')\n",
    "                    else:\n",
    "                        print(f'A integral não está no intervalo correto: {integral}')\n",
    "                        raise KeyError(f'A integral precisa estar entre 0.99 e 1.01')\n",
    "                                                           \n",
    "                    #Calculo das Particoes\n",
    "                    # calcula os picos\n",
    "                    peaks = find_peaks(log, height=min(log))\n",
    "                    peaks = np.array(peaks[1]['peak_heights'])\n",
    "                    print(peaks)\n",
    "                    #Calcula a minima relativa dos dados\n",
    "                    valleys = argrelmin(log)[0]\n",
    "                    print(valleys)\n",
    "                    print(type(valleys))\n",
    "                    \n",
    "                    #Retorna os indices que classificam o array em ordem crescente\n",
    "                    ord = np.argsort(np.abs(np.diff(log[valleys])))\n",
    "                    #inverte a ordem do array \n",
    "                    ordValleys_J = np.flip(ord)+1 \n",
    "\n",
    "\n",
    "                    #Contrução dos intervalos de classe \n",
    "\n",
    "                    #utiliza o intervalo de 0 a 1 para encontrar os pontos de partição usando a minima relativa\n",
    "                    ov = np.concatenate((np.array([0]), ordValleys_J, np.array([1])))\n",
    "                    classes = {}\n",
    "                    for i in range(1, len(ov)):\n",
    "                        classes[i] = (ov[i-1], ov[i]) \n",
    "                    \n",
    "                    \n",
    "                    plt.figure(figsize=(20, 12))\n",
    "                    plt.plot(dist, log, color='black', linewidth=2.5, alpha=0.5)  \n",
    "                    a_peaks = find_peaks(log, height=min(log))\n",
    "                    plt.plot(peaks, log[a_peaks[0]], \"o\")   \n",
    "                    plt.plot(valleys[0], log[valleys[1]], \"o\")\n",
    "\n",
    "                    #retorno de funcão KDE com dicionario\n",
    "                    resultados_kde[coluna] = {}\n",
    "                    \n",
    "                    resultados_kde[coluna]['dist'] = dist\n",
    "                    resultados_kde[coluna]['log'] = log\n",
    "                    resultados_kde[coluna]['peaks'] = peaks\n",
    "                    resultados_kde[coluna]['valleys'] = valleys\n",
    "                    resultados_kde[coluna]['ordValleys_J'] = ordValleys_J\n",
    "                    #resultados_kde[coluna]['classes'] = classes\n",
    "\n",
    "                return resultados_kde   \n",
    "                \n",
    "            \n",
    "            #Calculo Bayesian Blocks\n",
    "\n",
    "            if binning == 'bb':\n",
    "                from astropy.stats import bayesian_blocks\n",
    "\n",
    "                \n",
    "                resultados_bb = {}\n",
    "\n",
    "                for coluna in df.columns:\n",
    "                    if coluna in df.columns[12::]:\n",
    "                        serie = df.query(f\"{coluna} > 0\")[coluna]\n",
    "                        resultados_bb[coluna] = [serie, bayesian_blocks(serie)]\n",
    "\n",
    "                return resultados_bb\n",
    "            "
   ]
  },
  {
   "cell_type": "code",
   "execution_count": 7,
   "metadata": {},
   "outputs": [],
   "source": [
    "'''Adição do padding '''\n",
    "\n",
    "def padding(df, J):\n",
    "\n",
    "    df = binning.proc_binning(df, J, binning='kde')\n",
    "\n",
    "    padDF = np.pad(df, (0.01, 0.01)) #para a melhor localização de pontos divisores de classe\n",
    "    return padDF    "
   ]
  },
  {
   "attachments": {},
   "cell_type": "markdown",
   "metadata": {},
   "source": [
    "## 4 - Pickle"
   ]
  },
  {
   "cell_type": "code",
   "execution_count": 8,
   "metadata": {},
   "outputs": [],
   "source": [
    "def pickle (df, fileout):\n",
    "    import pickle as pkl "
   ]
  },
  {
   "attachments": {},
   "cell_type": "markdown",
   "metadata": {},
   "source": [
    "## 5 - Análise dos Gráficos"
   ]
  },
  {
   "attachments": {},
   "cell_type": "markdown",
   "metadata": {},
   "source": [
    "### Graficos dos Binnings"
   ]
  },
  {
   "cell_type": "code",
   "execution_count": 9,
   "metadata": {},
   "outputs": [],
   "source": [
    "'''Classe Graficos com funções KDE e BB '''\n",
    "class graficos:\n",
    "\n",
    "    #método construtor\n",
    "    def __init__(self) -> None:\n",
    "        pass  \n",
    "     \n",
    "    '''Função de plotagem do KDE ''' \n",
    "    def grafico_kde(df, J, pad = False):        \n",
    "\n",
    "        import matplotlib.pyplot as plt\n",
    "        #plt.style.use(\".dados/plot/ccs.mplstyle\")\n",
    "\n",
    "        if pad == True:\n",
    "            df = padding(df)\n",
    "\n",
    "        #df deve ser aquele resultante do processamento\n",
    "        #df = binning.proc_binning(proc, J, binning='kde')       \n",
    "\n",
    "        #dist  'numpy.ndarray'\n",
    "        #log   'numpy.ndarray'\n",
    "        #peaks 'tuple'\n",
    "        #valleys 'numpy.ndarray'\n",
    "        #ordValleys_J 'numpy.ndarray'\n",
    "        #classes 'dict'\n",
    "\n",
    "        for i in df:                        \n",
    "            plt.plot(df[i]['dist'], df[i]['log'])\n",
    "            plt.grid(True)            \n",
    "\n",
    "        for i in J:           \n",
    "            \n",
    "            plt.title(f'Vales dos Kernels | {i} normalizado')\n",
    "            plt.ylabel(\"Valor da Densidade\")\n",
    "            plt.xlabel(f'Posição assumida por {i} norm')                      \n",
    "            \n",
    "            \n",
    "            plt.plot(df[i]['valleys'], df[i]['log'][df[i]['valleys']], 'o', c='red')\n",
    "            plt.plot(df[i]['valleys'][df[i]['ordValleys_J'][0:4]], df[i]['log'][df[i]['valleys'][df[i]['ordValleys_J'][0:4]]], '*', c='green')\n",
    "\n",
    "            #plot das classes\n",
    "            for j in i:\n",
    "                plt.plot(df[j]['classes'])\n",
    "\n",
    "            plt.show()\n",
    "            plt.savefig(f'./dados/Analise de Js/testes/{J}.jpeg', format='jpeg')\n",
    "\n",
    "    \n",
    "                \n",
    "    '''Função de plotagem do BB ''' \n",
    "    def grafico_bb(df, bins_bb, J):\n",
    "\n",
    "        df = binning.proc_binning(df, J, binning='bb')\n",
    "\n",
    "        import matplotlib.pyplot as plt\n",
    "        #plt.style.use(\".dados/plot/ccs.mplstyle\")\n",
    "\n",
    "        \"\"\"\n",
    "        Essa funcao tem como objetivo criar uma representação gráfica\n",
    "        de uma determinada 'coluna' de um determinado DataFrame (df)\n",
    "        dado o calculo de seus bins/classes baseados no Bayesian Blocks.\n",
    "        Pode-se obter os Bayesian Blocks de uma determinada variável\n",
    "        usando a funcao 'bayesian_blocks' do módulo astropy.stats\n",
    "        \"\"\"\n",
    "                \n",
    "        \n",
    "        labels = {\n",
    "            \"J1_normalizado\" : \"RQI\",\n",
    "            \"J2_normalizado\" : \"RQI * Pressao\",\n",
    "            \"J3_normalizado\" : \"RQI * Pressao Inversa\",\n",
    "            \"J4_normalizado\" : \"RQI * Pressao * ln(distancia)\",\n",
    "            \"J5_normalizado\" : \"RQI * Pressao Inversa * ln(distancia)\", \n",
    "            \"J6_normalizado\" : \"Permeabilidade * Porosidade * ln(distancia)\",\n",
    "            \"J7_normalizado\" : \"ln(Permeabilidade) * ln(Porosidade) * ln(distancia)\"\n",
    "        }\n",
    "        \n",
    "        ax = plt.figure(figsize=(20, 12))\n",
    "        #modificar labels para for\n",
    "        ax = plt.title(f\"Histograma '{J} = {labels[J]}' utilizando blocos bayesianos\", fontsize = 24)\n",
    "        ax = plt.xlabel(\"X\", fontsize = 18)\n",
    "        ax = plt.ylabel(\"Y\", fontsize = 18)\n",
    "        ax = plt.hist(df, bins = bins_bb, color='g')\n",
    "        ax = plt.grid(True)\n",
    "        plt.savefig(f'./dados/Analise de Js/bb/{J}.jpeg', format='jpeg')\n",
    "        plt.show(ax)\n",
    "        "
   ]
  },
  {
   "cell_type": "code",
   "execution_count": 10,
   "metadata": {},
   "outputs": [
    {
     "data": {
      "text/plain": [
       "'#gerando gráficos bb\\nresultados = {}\\n\\nfor coluna in variaveis_df.columns:\\n    if coluna in variaveis_df.columns[12::]:\\n        serie = variaveis_df.query(f\"{coluna} > 0\")[coluna]\\n        resultados[coluna] = [serie, bayesian_blocks(serie)]\\n        grafico_bb(resultados[coluna][0], resultados[coluna][1], coluna)'"
      ]
     },
     "execution_count": 10,
     "metadata": {},
     "output_type": "execute_result"
    }
   ],
   "source": [
    "'''#gerando gráficos bb\n",
    "resultados = {}\n",
    "\n",
    "for coluna in variaveis_df.columns:\n",
    "    if coluna in variaveis_df.columns[12::]:\n",
    "        serie = variaveis_df.query(f\"{coluna} > 0\")[coluna]\n",
    "        resultados[coluna] = [serie, bayesian_blocks(serie)]\n",
    "        grafico_bb(resultados[coluna][0], resultados[coluna][1], coluna)'''"
   ]
  },
  {
   "attachments": {},
   "cell_type": "markdown",
   "metadata": {},
   "source": [
    "## 6 - Main "
   ]
  },
  {
   "attachments": {},
   "cell_type": "markdown",
   "metadata": {},
   "source": [
    "Aqui vamos chamar o pipeline e apresentar opções ao usuário chamando as funções"
   ]
  },
  {
   "cell_type": "code",
   "execution_count": 4,
   "metadata": {},
   "outputs": [],
   "source": [
    "'''chamando arquivo csv'''\n",
    "arq = pd.read_csv(\"./dados/Simplificados/J1_reduzido.csv\")\n",
    "# \"./dados/variaveis2.csv\""
   ]
  },
  {
   "cell_type": "code",
   "execution_count": 5,
   "metadata": {},
   "outputs": [
    {
     "name": "stdout",
     "output_type": "stream",
     "text": [
      "df com valores NAN\n",
      "df corrigido, não mais possui valores NAN\n"
     ]
    }
   ],
   "source": [
    "'''chamando a funções de preparação'''\n",
    "arq = read_df(\"./dados/Simplificados/J1_reduzido.csv\") \n",
    "#arq = read_df(\"./dados/variaveis2.csv\")\n",
    "#arq = checking(arq)"
   ]
  },
  {
   "cell_type": "code",
   "execution_count": 6,
   "metadata": {},
   "outputs": [
    {
     "ename": "NameError",
     "evalue": "name 'binning' is not defined",
     "output_type": "error",
     "traceback": [
      "\u001b[1;31m---------------------------------------------------------------------------\u001b[0m",
      "\u001b[1;31mNameError\u001b[0m                                 Traceback (most recent call last)",
      "\u001b[1;32mc:\\Users\\Yhasmim\\Desktop\\Ciência de Dados\\TRIL - CNPq\\TRIL-CSS\\Lab-Tril-CCS.ipynb Cell 29\u001b[0m line \u001b[0;36m4\n\u001b[0;32m      <a href='vscode-notebook-cell:/c%3A/Users/Yhasmim/Desktop/Ci%C3%AAncia%20de%20Dados/TRIL%20-%20CNPq/TRIL-CSS/Lab-Tril-CCS.ipynb#X40sZmlsZQ%3D%3D?line=0'>1</a>\u001b[0m J \u001b[39m=\u001b[39m [\u001b[39m'\u001b[39m\u001b[39mJ1\u001b[39m\u001b[39m'\u001b[39m]\n\u001b[0;32m      <a href='vscode-notebook-cell:/c%3A/Users/Yhasmim/Desktop/Ci%C3%AAncia%20de%20Dados/TRIL%20-%20CNPq/TRIL-CSS/Lab-Tril-CCS.ipynb#X40sZmlsZQ%3D%3D?line=1'>2</a>\u001b[0m \u001b[39m#J = ['J1', 'J2', 'J3', 'J4', 'J5', 'J6']\u001b[39;00m\n\u001b[1;32m----> <a href='vscode-notebook-cell:/c%3A/Users/Yhasmim/Desktop/Ci%C3%AAncia%20de%20Dados/TRIL%20-%20CNPq/TRIL-CSS/Lab-Tril-CCS.ipynb#X40sZmlsZQ%3D%3D?line=3'>4</a>\u001b[0m proc \u001b[39m=\u001b[39m binning\u001b[39m.\u001b[39mproc_binning(\u001b[39m\"\u001b[39m\u001b[39m./dados/Simplificados/J1_reduzido.csv\u001b[39m\u001b[39m\"\u001b[39m, J, binning\u001b[39m=\u001b[39m\u001b[39m'\u001b[39m\u001b[39mkde\u001b[39m\u001b[39m'\u001b[39m)\n",
      "\u001b[1;31mNameError\u001b[0m: name 'binning' is not defined"
     ]
    }
   ],
   "source": [
    "J = ['J1']\n",
    "#J = ['J1', 'J2', 'J3', 'J4', 'J5', 'J6']\n",
    "\n",
    "proc = binning.proc_binning(\"./dados/Simplificados/J1_reduzido.csv\", J, binning='kde')\n",
    "#proc = binning.proc_binning(\"./dados/J Costa/J Costa isolados/variaveis.csv\", J, binning='kde')\n",
    "#proc = binning.proc_binning(arq, J, binning='bb')"
   ]
  },
  {
   "cell_type": "code",
   "execution_count": null,
   "metadata": {},
   "outputs": [],
   "source": [
    "import seaborn as sns\n",
    "def plot_test(x, a):\n",
    "    \n",
    "    h = sns.histplot(x, kde = True, element=\"bars\", kde_kws={'bw_method':'silverman', 'bw_adjust':0.5}, ax = a, stat='probability')"
   ]
  },
  {
   "cell_type": "code",
   "execution_count": null,
   "metadata": {},
   "outputs": [
    {
     "ename": "TypeError",
     "evalue": "string indices must be integers",
     "output_type": "error",
     "traceback": [
      "\u001b[1;31m---------------------------------------------------------------------------\u001b[0m",
      "\u001b[1;31mTypeError\u001b[0m                                 Traceback (most recent call last)",
      "Cell \u001b[1;32mIn[33], line 3\u001b[0m\n\u001b[0;32m      1\u001b[0m \u001b[39m#J = ['J1']\u001b[39;00m\n\u001b[0;32m      2\u001b[0m J \u001b[39m=\u001b[39m [\u001b[39m'\u001b[39m\u001b[39mJ1_normalizado\u001b[39m\u001b[39m'\u001b[39m, \u001b[39m'\u001b[39m\u001b[39mJ2_normalizado\u001b[39m\u001b[39m'\u001b[39m, \u001b[39m'\u001b[39m\u001b[39mJ3_normalizado\u001b[39m\u001b[39m'\u001b[39m, \u001b[39m'\u001b[39m\u001b[39mJ4_normalizado\u001b[39m\u001b[39m'\u001b[39m, \u001b[39m'\u001b[39m\u001b[39mJ5_normalizado\u001b[39m\u001b[39m'\u001b[39m, \u001b[39m'\u001b[39m\u001b[39mJ6_normalizado\u001b[39m\u001b[39m'\u001b[39m]\n\u001b[1;32m----> 3\u001b[0m pl \u001b[39m=\u001b[39m graficos\u001b[39m.\u001b[39;49mgrafico_kde(proc, J)\n",
      "Cell \u001b[1;32mIn[31], line 43\u001b[0m, in \u001b[0;36mgraficos.grafico_kde\u001b[1;34m(df, J, pad)\u001b[0m\n\u001b[0;32m     41\u001b[0m \u001b[39m#plot das classes\u001b[39;00m\n\u001b[0;32m     42\u001b[0m \u001b[39mfor\u001b[39;00m j \u001b[39min\u001b[39;00m i:\n\u001b[1;32m---> 43\u001b[0m     plt\u001b[39m.\u001b[39mplot(i[\u001b[39m'\u001b[39;49m\u001b[39mclasses\u001b[39;49m\u001b[39m'\u001b[39;49m])\n\u001b[0;32m     45\u001b[0m plt\u001b[39m.\u001b[39mshow()\n\u001b[0;32m     46\u001b[0m plt\u001b[39m.\u001b[39msavefig(\u001b[39mf\u001b[39m\u001b[39m'\u001b[39m\u001b[39m./dados/Analise de Js/testes/\u001b[39m\u001b[39m{\u001b[39;00mJ\u001b[39m}\u001b[39;00m\u001b[39m.jpeg\u001b[39m\u001b[39m'\u001b[39m, \u001b[39mformat\u001b[39m\u001b[39m=\u001b[39m\u001b[39m'\u001b[39m\u001b[39mjpeg\u001b[39m\u001b[39m'\u001b[39m)\n",
      "\u001b[1;31mTypeError\u001b[0m: string indices must be integers"
     ]
    },
    {
     "data": {
      "image/png": "[encoded data removed]",
      "text/plain": [
       "<Figure size 640x480 with 1 Axes>"
      ]
     },
     "metadata": {},
     "output_type": "display_data"
    }
   ],
   "source": [
    "#J = ['J1']\n",
    "J = ['J1_normalizado', 'J2_normalizado', 'J3_normalizado', 'J4_normalizado', 'J5_normalizado', 'J6_normalizado']\n",
    "pl = graficos.grafico_kde(proc, J) #debug"
   ]
  },
  {
   "attachments": {},
   "cell_type": "markdown",
   "metadata": {},
   "source": [
    "# Testes\n"
   ]
  },
  {
   "cell_type": "code",
   "execution_count": 20,
   "metadata": {},
   "outputs": [],
   "source": [
    "import numpy as np\n",
    "from numpy import linspace\n",
    "from sklearn.neighbors import KernelDensity\n",
    "from scipy.signal import argrelmin, find_peaks\n",
    "from sklearn.model_selection import GridSearchCV, LeaveOneOut\n",
    "import scipy.integrate as integrate                        \n",
    "import matplotlib.pyplot as plt\n",
    "import seaborn as sns\n",
    "import plotly.graph_objects as go\n",
    "import plotly.express as px"
   ]
  },
  {
   "cell_type": "code",
   "execution_count": 8,
   "metadata": {},
   "outputs": [
    {
     "name": "stdout",
     "output_type": "stream",
     "text": [
      "df com valores NAN\n",
      "df corrigido, não mais possui valores NAN\n"
     ]
    }
   ],
   "source": [
    "\n",
    "df = read_df(\"./dados/Simplificados/J1_reduzido.csv\")\n",
    "#df = df.sample(1500)"
   ]
  },
  {
   "cell_type": "code",
   "execution_count": 9,
   "metadata": {},
   "outputs": [],
   "source": [
    "ideal_band = 0\n",
    "#JN = {'J1_normalizado', 'J2_normalizado', 'J3_normalizado', 'J4_normalizado', 'J5_normalizado', 'J6_normalizado'}\n",
    "JN =  {'J1'}\n",
    "\n",
    "#remover os zeros dos Js\n",
    "\n",
    "for coluna in JN:                   \n",
    "    X = df[f'{coluna}'].values[::].reshape(-1, 1)\n",
    "    X = X[X > 0] \n",
    "\n",
    "    band = np.linspace(0.01, 0.05)\n",
    "    grid = GridSearchCV(KernelDensity(), {'bandwidth': band},cv=LeaveOneOut())\n",
    "    grid.fit(X[:,None].reshape(-1, 1)) \n",
    "    ideal_band = grid.best_params_\n",
    "    #print(ideal_band)  \n",
    "    #BANDWIDTH ORIGINAL: 0.01    "
   ]
  },
  {
   "cell_type": "code",
   "execution_count": 10,
   "metadata": {},
   "outputs": [],
   "source": [
    "'''Calculo kde'''\n",
    "resultados_kde = {}\n",
    "\n",
    "for coluna in JN:                    \n",
    "    \n",
    "    # faz o reshape para encaixar os dados em uma dimensão apropriada para o calculo \n",
    "    X = df[f'{coluna}'].values[::]\n",
    "    X = X[X > 0].reshape(-1, 1) \n",
    "           \n",
    "    # calculo da densidade de probabilidade\n",
    "    kde = KernelDensity(kernel='gaussian', bandwidth = ideal_band['bandwidth']).fit(X)"
   ]
  },
  {
   "cell_type": "code",
   "execution_count": 11,
   "metadata": {},
   "outputs": [],
   "source": [
    "dist = np.linspace(0, 1.0, len(df[f'{coluna}']))"
   ]
  },
  {
   "cell_type": "code",
   "execution_count": 12,
   "metadata": {},
   "outputs": [],
   "source": [
    "log = kde.score_samples(dist.reshape(-1, 1))\n",
    "log = np.exp(log)                 "
   ]
  },
  {
   "cell_type": "code",
   "execution_count": 13,
   "metadata": {},
   "outputs": [
    {
     "name": "stdout",
     "output_type": "stream",
     "text": [
      "A integral : 1.0 é adequeada.\n"
     ]
    }
   ],
   "source": [
    "#temos que calcular a integral para verificar se  o kde está correto para ser uma distribuição de probabilidade\n",
    "integral = float(np.exp(integrate.trapz(log[:, None], dist[:, None])).all())\n",
    "\n",
    "if integral <= 1.01 and integral >= 0.99:\n",
    "                    print(f'A integral : {integral} é adequeada.')\n",
    "else:\n",
    "    print(f'A integral não está no intervalo correto: {integral}')\n",
    "    raise KeyError(f'A integral precisa estar entre 0.99 e 1.01')                                        "
   ]
  },
  {
   "cell_type": "code",
   "execution_count": 14,
   "metadata": {},
   "outputs": [
    {
     "name": "stdout",
     "output_type": "stream",
     "text": [
      "(array([ 525,  665,  746, 1204, 1277, 1587, 1683, 2274, 2500, 2638],\n",
      "      dtype=int64), {})\n",
      "[ 603  734 1143 1254 1535 1649 2238 2443 2569]\n",
      "<class 'numpy.ndarray'>\n"
     ]
    }
   ],
   "source": [
    "#retorna tupla com dois arrays, o primeiro com os indices dos picos e o segundo com os valores dos picos\n",
    "peaks = find_peaks(log)\n",
    "print(peaks)\n",
    "#Calcula a minima relativa dos dados\n",
    "valleys = argrelmin(log)[0]\n",
    "print(valleys)\n",
    "print(type(valleys))"
   ]
  },
  {
   "cell_type": "code",
   "execution_count": 22,
   "metadata": {},
   "outputs": [
    {
     "name": "stdout",
     "output_type": "stream",
     "text": [
      "[3 9 5 8 1 7 6 4 2 0]\n",
      "[ 1  3  5  7  8  2  9  6 10  4]\n"
     ]
    }
   ],
   "source": [
    "#Retorna os indices que classificam o array e calcula o valores absolutos das diferenças entre os valores dos vales e ordena em ordem crescente\n",
    "\"\"\"ord = np.argsort(np.abs(np.diff(log[valleys])))\n",
    "print(ord)\n",
    "#inverte a ordem do array \n",
    "ordValleys_J = np.flip(ord)+1 \n",
    "print(ordValleys_J)\"\"\""
   ]
  },
  {
   "cell_type": "code",
   "execution_count": 15,
   "metadata": {},
   "outputs": [
    {
     "name": "stdout",
     "output_type": "stream",
     "text": [
      "<class 'numpy.ndarray'>\n",
      "[0.         0.22075188 0.37714286 0.49593985 0.77263158 1.        ]\n",
      "{1: (0.0, 0.22075187969924812), 2: (0.22075187969924812, 0.3771428571428571), 3: (0.3771428571428571, 0.4959398496240601), 4: (0.4959398496240601, 0.7726315789473683), 5: (0.7726315789473683, 1.0)}\n",
      "[0.0, 0.22075187969924812, 0.3771428571428571, 0.4959398496240601, 0.7726315789473683, 1.0]\n"
     ]
    }
   ],
   "source": [
    "#numero de classes = n-1 (numero dos dedos e espaço dentre os dedos= verdadeira classe)\n",
    "\n",
    "#uni os valores do valleys ordenados com 0 e 1 para encontrar os pontos de partição usando a minima relativa\n",
    "#ov = np.concatenate((np.array([0]), ordValleys_J, np.array([1])))\n",
    "\n",
    "con = np.concatenate((np.array([0.0]), dist[valleys], np.array([1.0])))\n",
    "#calcula a diferença entre os valores de con\n",
    "comp_classe = np.diff(con)\n",
    "#calcula o desvio padrão\n",
    "dp = np.std(comp_classe)    \n",
    "#excluindo classes com desvio padrao maior que o desvio padrão\n",
    "excl = np.where(comp_classe <= dp)\n",
    "\n",
    "#cria uma mascara para excluir os valores de con que estão fora do desvio padrão. True para manter e False para excluir\n",
    "mask = np.ones(con.shape,dtype=bool)\n",
    "mask[excl] = False\n",
    "con = con[mask]\n",
    "\n",
    "print(type(con))\n",
    "print(con)\n",
    "\n",
    "#como dicionario\n",
    "classes = {}\n",
    "for i in range(1, len(con)):\n",
    "    classes[i] = (con[i-1], con[i])\n",
    "print(classes)\n",
    "\n",
    "#como lista\n",
    "cl = []\n",
    "for i in range(1, len(con)):\n",
    "    cl.append(con[i-1])\n",
    "cl.append(1.0)\n",
    "print(cl)"
   ]
  },
  {
   "cell_type": "markdown",
   "metadata": {},
   "source": [
    "Classes iniciais antes do calculo do desvio padrão<br>\n",
    "{1: (0.0, 0.1813533834586466), 2: (0.1813533834586466, 0.22075187969924812), 3: (0.22075187969924812, 0.3437593984962406), 4: (0.3437593984962406, 0.3771428571428571), 5: (0.3771428571428571, 0.4616541353383458), 6: (0.4616541353383458, 0.4959398496240601), 7: (0.4959398496240601, 0.6730827067669173), 8: (0.6730827067669173, 0.7347368421052631)"
   ]
  },
  {
   "cell_type": "code",
   "execution_count": 16,
   "metadata": {},
   "outputs": [
    {
     "ename": "IndexError",
     "evalue": "only integers, slices (`:`), ellipsis (`...`), numpy.newaxis (`None`) and integer or boolean arrays are valid indices",
     "output_type": "error",
     "traceback": [
      "\u001b[1;31m---------------------------------------------------------------------------\u001b[0m",
      "\u001b[1;31mIndexError\u001b[0m                                Traceback (most recent call last)",
      "\u001b[1;32mc:\\Users\\Yhasmim\\Desktop\\Ciência de Dados\\TRIL - CNPq\\TRIL-CSS\\Lab-Tril-CCS.ipynb Cell 44\u001b[0m line \u001b[0;36m7\n\u001b[0;32m      <a href='vscode-notebook-cell:/c%3A/Users/Yhasmim/Desktop/Ci%C3%AAncia%20de%20Dados/TRIL%20-%20CNPq/TRIL-CSS/Lab-Tril-CCS.ipynb#X61sZmlsZQ%3D%3D?line=2'>3</a>\u001b[0m plt\u001b[39m.\u001b[39mplot(dist[valleys], log[valleys], \u001b[39m\"\u001b[39m\u001b[39mo\u001b[39m\u001b[39m\"\u001b[39m, color\u001b[39m=\u001b[39m\u001b[39m'\u001b[39m\u001b[39mred\u001b[39m\u001b[39m'\u001b[39m)\n\u001b[0;32m      <a href='vscode-notebook-cell:/c%3A/Users/Yhasmim/Desktop/Ci%C3%AAncia%20de%20Dados/TRIL%20-%20CNPq/TRIL-CSS/Lab-Tril-CCS.ipynb#X61sZmlsZQ%3D%3D?line=3'>4</a>\u001b[0m \u001b[39m#plt.plot(dist[peaks[0]], log[peaks[0]], \"^\", color='blue')\u001b[39;00m\n\u001b[1;32m----> <a href='vscode-notebook-cell:/c%3A/Users/Yhasmim/Desktop/Ci%C3%AAncia%20de%20Dados/TRIL%20-%20CNPq/TRIL-CSS/Lab-Tril-CCS.ipynb#X61sZmlsZQ%3D%3D?line=6'>7</a>\u001b[0m plt\u001b[39m.\u001b[39mplot(log[cl], log, \u001b[39m\"\u001b[39m\u001b[39mo\u001b[39m\u001b[39m\"\u001b[39m, color\u001b[39m=\u001b[39m\u001b[39m'\u001b[39m\u001b[39mgreen\u001b[39m\u001b[39m'\u001b[39m)\n\u001b[0;32m      <a href='vscode-notebook-cell:/c%3A/Users/Yhasmim/Desktop/Ci%C3%AAncia%20de%20Dados/TRIL%20-%20CNPq/TRIL-CSS/Lab-Tril-CCS.ipynb#X61sZmlsZQ%3D%3D?line=8'>9</a>\u001b[0m \u001b[39m\"\"\"for i in range(1, len(con)):\u001b[39;00m\n\u001b[0;32m     <a href='vscode-notebook-cell:/c%3A/Users/Yhasmim/Desktop/Ci%C3%AAncia%20de%20Dados/TRIL%20-%20CNPq/TRIL-CSS/Lab-Tril-CCS.ipynb#X61sZmlsZQ%3D%3D?line=9'>10</a>\u001b[0m \u001b[39m    plt.plot([con[i-1], con[i]], con, color='green', linewidth=2.5, alpha=0.5)\"\"\"\u001b[39;00m\n",
      "\u001b[1;31mIndexError\u001b[0m: only integers, slices (`:`), ellipsis (`...`), numpy.newaxis (`None`) and integer or boolean arrays are valid indices"
     ]
    },
    {
     "data": {
      "image/png": "[encoded data removed]",
      "text/plain": [
       "<Figure size 2000x1200 with 1 Axes>"
      ]
     },
     "metadata": {},
     "output_type": "display_data"
    }
   ],
   "source": [
    "plt.figure(figsize=(20, 12))\n",
    "plt.plot(dist, log, color='black', linewidth=2.5, alpha=0.5)  \n",
    "plt.plot(dist[valleys], log[valleys], \"o\", color='red')\n",
    "#plt.plot(dist[peaks[0]], log[peaks[0]], \"^\", color='blue')\n",
    "\n",
    "\n",
    "plt.plot(log[cl], log, \"o\", color='green')\n",
    "\n",
    "\"\"\"for i in range(1, len(con)):\n",
    "    plt.plot([con[i-1], con[i]], con, color='green', linewidth=2.5, alpha=0.5)\"\"\"\n",
    "#plt.scatter(dist[classes.values()], log[classes.keys()], \"*\", color='green')\n",
    "\n",
    "#plt.plot(dist[classes.values()], log[classes.keys()], \"*\", color='green')\n"
   ]
  },
  {
   "cell_type": "code",
   "execution_count": 38,
   "metadata": {},
   "outputs": [
    {
     "name": "stdout",
     "output_type": "stream",
     "text": [
      "(1, 2, 3, 4, 5)\n",
      "((0.0, 0.22075187969924812), (0.22075187969924812, 0.3771428571428571), (0.3771428571428571, 0.4959398496240601), (0.4959398496240601, 0.7726315789473683), (0.7726315789473683, 1.0))\n"
     ]
    },
    {
     "data": {
      "image/png": "[encoded data removed]",
      "text/plain": [
       "<Figure size 640x480 with 1 Axes>"
      ]
     },
     "metadata": {},
     "output_type": "display_data"
    },
    {
     "data": {
      "text/plain": [
       "\"for j in classes:\\n    plt.plot(classes[j], log[classes[j]], '*', color='green')\""
      ]
     },
     "execution_count": 38,
     "metadata": {},
     "output_type": "execute_result"
    }
   ],
   "source": [
    "#plot das classes\n",
    "\n",
    "myList = classes.items()\n",
    "myList = sorted(myList)\n",
    "x, y = zip(*myList)\n",
    "\n",
    "print(x)\n",
    "print(y)\n",
    "\n",
    "plt.plot(y, x, '*', color='green')\n",
    "plt.xlabel('Value')\n",
    "plt.ylabel('Key')\n",
    "plt.title('My Dictionary')\n",
    "plt.show()\n",
    "\n",
    "\"\"\"for j in classes:\n",
    "    plt.plot(classes[j], log[classes[j]], '*', color='green')\"\"\"\n",
    "    "
   ]
  },
  {
   "cell_type": "code",
   "execution_count": 18,
   "metadata": {},
   "outputs": [
    {
     "data": {
      "text/html": [
       "<div>\n",
       "<style scoped>\n",
       "    .dataframe tbody tr th:only-of-type {\n",
       "        vertical-align: middle;\n",
       "    }\n",
       "\n",
       "    .dataframe tbody tr th {\n",
       "        vertical-align: top;\n",
       "    }\n",
       "\n",
       "    .dataframe thead th {\n",
       "        text-align: right;\n",
       "    }\n",
       "</style>\n",
       "<table border=\"1\" class=\"dataframe\">\n",
       "  <thead>\n",
       "    <tr style=\"text-align: right;\">\n",
       "      <th></th>\n",
       "      <th>1</th>\n",
       "      <th>2</th>\n",
       "      <th>3</th>\n",
       "      <th>4</th>\n",
       "      <th>5</th>\n",
       "    </tr>\n",
       "  </thead>\n",
       "  <tbody>\n",
       "    <tr>\n",
       "      <th>0</th>\n",
       "      <td>0.000000</td>\n",
       "      <td>0.220752</td>\n",
       "      <td>0.377143</td>\n",
       "      <td>0.495940</td>\n",
       "      <td>0.772632</td>\n",
       "    </tr>\n",
       "    <tr>\n",
       "      <th>1</th>\n",
       "      <td>0.220752</td>\n",
       "      <td>0.377143</td>\n",
       "      <td>0.495940</td>\n",
       "      <td>0.772632</td>\n",
       "      <td>1.000000</td>\n",
       "    </tr>\n",
       "  </tbody>\n",
       "</table>\n",
       "</div>"
      ],
      "text/plain": [
       "          1         2         3         4         5\n",
       "0  0.000000  0.220752  0.377143  0.495940  0.772632\n",
       "1  0.220752  0.377143  0.495940  0.772632  1.000000"
      ]
     },
     "execution_count": 18,
     "metadata": {},
     "output_type": "execute_result"
    }
   ],
   "source": [
    "classes = pd.DataFrame(classes)\n",
    "\n",
    "classes"
   ]
  },
  {
   "cell_type": "code",
   "execution_count": 79,
   "metadata": {},
   "outputs": [
    {
     "ename": "KeyError",
     "evalue": "0",
     "output_type": "error",
     "traceback": [
      "\u001b[1;31m---------------------------------------------------------------------------\u001b[0m",
      "\u001b[1;31mKeyError\u001b[0m                                  Traceback (most recent call last)",
      "\u001b[1;32mc:\\Users\\Yhasmim\\Desktop\\Ciência de Dados\\TRIL - CNPq\\TRIL-CSS\\Lab-Tril-CCS.ipynb Cell 46\u001b[0m line \u001b[0;36m3\n\u001b[0;32m      <a href='vscode-notebook-cell:/c%3A/Users/Yhasmim/Desktop/Ci%C3%AAncia%20de%20Dados/TRIL%20-%20CNPq/TRIL-CSS/Lab-Tril-CCS.ipynb#X63sZmlsZQ%3D%3D?line=0'>1</a>\u001b[0m \u001b[39mfor\u001b[39;00m ind \u001b[39min\u001b[39;00m \u001b[39mrange\u001b[39m(\u001b[39mlen\u001b[39m(classes\u001b[39m.\u001b[39mkeys())):\n\u001b[0;32m      <a href='vscode-notebook-cell:/c%3A/Users/Yhasmim/Desktop/Ci%C3%AAncia%20de%20Dados/TRIL%20-%20CNPq/TRIL-CSS/Lab-Tril-CCS.ipynb#X63sZmlsZQ%3D%3D?line=1'>2</a>\u001b[0m     \u001b[39mfor\u001b[39;00m val \u001b[39min\u001b[39;00m \u001b[39mrange\u001b[39m(\u001b[39mlen\u001b[39m(classes\u001b[39m.\u001b[39mvalues())):\n\u001b[1;32m----> <a href='vscode-notebook-cell:/c%3A/Users/Yhasmim/Desktop/Ci%C3%AAncia%20de%20Dados/TRIL%20-%20CNPq/TRIL-CSS/Lab-Tril-CCS.ipynb#X63sZmlsZQ%3D%3D?line=2'>3</a>\u001b[0m         plt\u001b[39m.\u001b[39mplot(classes[ind][val], \u001b[39mrange\u001b[39m(\u001b[39mlen\u001b[39m(classes[ind][val])), \u001b[39m'\u001b[39m\u001b[39mo\u001b[39m\u001b[39m'\u001b[39m, color\u001b[39m=\u001b[39m\u001b[39m'\u001b[39m\u001b[39myellow\u001b[39m\u001b[39m'\u001b[39m)\n",
      "\u001b[1;31mKeyError\u001b[0m: 0"
     ]
    }
   ],
   "source": [
    "for ind in range(len(classes.keys())):\n",
    "    for val in range(len(classes.values())):\n",
    "        plt.plot(classes[ind][val], range(len(classes[ind][val])), 'o', color='yellow')"
   ]
  },
  {
   "cell_type": "code",
   "execution_count": 37,
   "metadata": {},
   "outputs": [
    {
     "name": "stdout",
     "output_type": "stream",
     "text": [
      "[(1, (0, 163)), (2, (163, 601)), (3, (601, 726)), (4, (726, 1133)), (5, (1133, 1252)), (6, (1252, 1534)), (7, (1534, 1648)), (8, (1648, 2013)), (9, (2013, 2235)), (10, (2235, 2441))]\n",
      "<class 'list'>\n"
     ]
    }
   ],
   "source": [
    "classes = list(classes.items())\n",
    "print(classes)\n",
    "print(type(classes))"
   ]
  },
  {
   "cell_type": "code",
   "execution_count": 31,
   "metadata": {},
   "outputs": [
    {
     "ename": "IndexError",
     "evalue": "only integers, slices (`:`), ellipsis (`...`), numpy.newaxis (`None`) and integer or boolean arrays are valid indices",
     "output_type": "error",
     "traceback": [
      "\u001b[1;31m---------------------------------------------------------------------------\u001b[0m",
      "\u001b[1;31mIndexError\u001b[0m                                Traceback (most recent call last)",
      "Cell \u001b[1;32mIn[31], line 1\u001b[0m\n\u001b[1;32m----> 1\u001b[0m plt\u001b[39m.\u001b[39mscatter(classes, log[classes], \u001b[39m'\u001b[39m\u001b[39mo\u001b[39m\u001b[39m'\u001b[39m, color\u001b[39m=\u001b[39m\u001b[39m'\u001b[39m\u001b[39myellow\u001b[39m\u001b[39m'\u001b[39m)\n",
      "\u001b[1;31mIndexError\u001b[0m: only integers, slices (`:`), ellipsis (`...`), numpy.newaxis (`None`) and integer or boolean arrays are valid indices"
     ]
    }
   ],
   "source": [
    "plt.scatter(classes, log[classes], 'o', color='yellow')"
   ]
  },
  {
   "cell_type": "code",
   "execution_count": 24,
   "metadata": {},
   "outputs": [
    {
     "ename": "AttributeError",
     "evalue": "'tuple' object has no attribute 'keys'",
     "output_type": "error",
     "traceback": [
      "\u001b[1;31m---------------------------------------------------------------------------\u001b[0m",
      "\u001b[1;31mAttributeError\u001b[0m                            Traceback (most recent call last)",
      "\u001b[1;32mc:\\Users\\Yhasmim\\Desktop\\Ciência de Dados\\TRIL - CNPq\\TRIL-CSS\\Lab-Tril-CCS.ipynb Cell 49\u001b[0m line \u001b[0;36m4\n\u001b[0;32m      <a href='vscode-notebook-cell:/c%3A/Users/Yhasmim/Desktop/Ci%C3%AAncia%20de%20Dados/TRIL%20-%20CNPq/TRIL-CSS/Lab-Tril-CCS.ipynb#X66sZmlsZQ%3D%3D?line=0'>1</a>\u001b[0m colors \u001b[39m=\u001b[39m \u001b[39mlist\u001b[39m(\u001b[39m\"\u001b[39m\u001b[39mrgbcmyk\u001b[39m\u001b[39m\"\u001b[39m)\n\u001b[0;32m      <a href='vscode-notebook-cell:/c%3A/Users/Yhasmim/Desktop/Ci%C3%AAncia%20de%20Dados/TRIL%20-%20CNPq/TRIL-CSS/Lab-Tril-CCS.ipynb#X66sZmlsZQ%3D%3D?line=2'>3</a>\u001b[0m \u001b[39mfor\u001b[39;00m \u001b[39mdict\u001b[39m \u001b[39min\u001b[39;00m classes\u001b[39m.\u001b[39mvalues():\n\u001b[1;32m----> <a href='vscode-notebook-cell:/c%3A/Users/Yhasmim/Desktop/Ci%C3%AAncia%20de%20Dados/TRIL%20-%20CNPq/TRIL-CSS/Lab-Tril-CCS.ipynb#X66sZmlsZQ%3D%3D?line=3'>4</a>\u001b[0m    x \u001b[39m=\u001b[39m \u001b[39mdict\u001b[39;49m\u001b[39m.\u001b[39;49mkeys()\n\u001b[0;32m      <a href='vscode-notebook-cell:/c%3A/Users/Yhasmim/Desktop/Ci%C3%AAncia%20de%20Dados/TRIL%20-%20CNPq/TRIL-CSS/Lab-Tril-CCS.ipynb#X66sZmlsZQ%3D%3D?line=4'>5</a>\u001b[0m    y \u001b[39m=\u001b[39m \u001b[39mdict\u001b[39m\u001b[39m.\u001b[39mvalues()\n\u001b[0;32m      <a href='vscode-notebook-cell:/c%3A/Users/Yhasmim/Desktop/Ci%C3%AAncia%20de%20Dados/TRIL%20-%20CNPq/TRIL-CSS/Lab-Tril-CCS.ipynb#X66sZmlsZQ%3D%3D?line=5'>6</a>\u001b[0m    plt\u001b[39m.\u001b[39mscatter(x,y,color\u001b[39m=\u001b[39mcolors\u001b[39m.\u001b[39mpop())\n",
      "\u001b[1;31mAttributeError\u001b[0m: 'tuple' object has no attribute 'keys'"
     ]
    }
   ],
   "source": [
    "colors = list(\"rgbcmyk\")\n",
    "\n",
    "for dict in classes.values():\n",
    "   x = dict.keys()\n",
    "   y = dict.values()\n",
    "   plt.scatter(x,y,color=colors.pop())\n",
    "\n",
    "plt.legend(classes.keys())\n",
    "\n",
    "plt.show()"
   ]
  }
 ],
 "metadata": {
  "interpreter": {
   "hash": "2e71ff5d6cfd00d4bc2f505165b5cdad2e2f53d03e64c6e9eb61202e17bc590f"
  },
  "kernelspec": {
   "display_name": "Python 3.9.6 ('tril')",
   "language": "python",
   "name": "python3"
  },
  "language_info": {
   "codemirror_mode": {
    "name": "ipython",
    "version": 3
   },
   "file_extension": ".py",
   "mimetype": "text/x-python",
   "name": "python",
   "nbconvert_exporter": "python",
   "pygments_lexer": "ipython3",
   "version": "3.9.15"
  },
  "orig_nbformat": 4,
  "vscode": {
   "interpreter": {
    "hash": "784ac644c6c4bc21869e2a5fc6787b9327a3f2a01dac292daa186c0832dc0a9c"
   }
  }
 },
 "nbformat": 4,
 "nbformat_minor": 2
}
