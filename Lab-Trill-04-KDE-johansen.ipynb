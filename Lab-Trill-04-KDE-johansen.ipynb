{
 "cells": [
  {
   "cell_type": "markdown",
   "metadata": {},
   "source": [
    "# 1 - Carregando bibliotecas e dados"
   ]
  },
  {
   "cell_type": "code",
   "execution_count": 1,
   "metadata": {},
   "outputs": [],
   "source": [
    "import pandas as pd\n",
    "import numpy as np\n",
    "import seaborn as sns\n",
    "import matplotlib.pyplot as plt\n",
    "import seaborn as sns"
   ]
  },
  {
   "cell_type": "code",
   "execution_count": 2,
   "metadata": {},
   "outputs": [
    {
     "data": {
      "text/html": [
       "<div>\n",
       "<style scoped>\n",
       "    .dataframe tbody tr th:only-of-type {\n",
       "        vertical-align: middle;\n",
       "    }\n",
       "\n",
       "    .dataframe tbody tr th {\n",
       "        vertical-align: top;\n",
       "    }\n",
       "\n",
       "    .dataframe thead th {\n",
       "        text-align: right;\n",
       "    }\n",
       "</style>\n",
       "<table border=\"1\" class=\"dataframe\">\n",
       "  <thead>\n",
       "    <tr style=\"text-align: right;\">\n",
       "      <th></th>\n",
       "      <th>0</th>\n",
       "    </tr>\n",
       "  </thead>\n",
       "  <tbody>\n",
       "    <tr>\n",
       "      <th>0</th>\n",
       "      <td>0.0</td>\n",
       "    </tr>\n",
       "    <tr>\n",
       "      <th>1</th>\n",
       "      <td>0.0</td>\n",
       "    </tr>\n",
       "    <tr>\n",
       "      <th>2</th>\n",
       "      <td>0.0</td>\n",
       "    </tr>\n",
       "    <tr>\n",
       "      <th>3</th>\n",
       "      <td>0.0</td>\n",
       "    </tr>\n",
       "    <tr>\n",
       "      <th>4</th>\n",
       "      <td>0.0</td>\n",
       "    </tr>\n",
       "    <tr>\n",
       "      <th>...</th>\n",
       "      <td>...</td>\n",
       "    </tr>\n",
       "    <tr>\n",
       "      <th>450570</th>\n",
       "      <td>0.0</td>\n",
       "    </tr>\n",
       "    <tr>\n",
       "      <th>450571</th>\n",
       "      <td>0.0</td>\n",
       "    </tr>\n",
       "    <tr>\n",
       "      <th>450572</th>\n",
       "      <td>0.0</td>\n",
       "    </tr>\n",
       "    <tr>\n",
       "      <th>450573</th>\n",
       "      <td>0.0</td>\n",
       "    </tr>\n",
       "    <tr>\n",
       "      <th>450574</th>\n",
       "      <td>0.0</td>\n",
       "    </tr>\n",
       "  </tbody>\n",
       "</table>\n",
       "<p>450575 rows × 1 columns</p>\n",
       "</div>"
      ],
      "text/plain": [
       "          0\n",
       "0       0.0\n",
       "1       0.0\n",
       "2       0.0\n",
       "3       0.0\n",
       "4       0.0\n",
       "...     ...\n",
       "450570  0.0\n",
       "450571  0.0\n",
       "450572  0.0\n",
       "450573  0.0\n",
       "450574  0.0\n",
       "\n",
       "[450575 rows x 1 columns]"
      ]
     },
     "execution_count": 2,
     "metadata": {},
     "output_type": "execute_result"
    }
   ],
   "source": [
    "J1_johansen = pd.read_csv(\"./dados/J Johansen/J1_Johansen.csv\")\n",
    "J1_johansen"
   ]
  },
  {
   "cell_type": "markdown",
   "metadata": {},
   "source": [
    "# 2 - Aplicando o KDE"
   ]
  },
  {
   "cell_type": "code",
   "execution_count": 3,
   "metadata": {},
   "outputs": [],
   "source": [
    "from numpy import array, linspace\n",
    "from sklearn.neighbors import KernelDensity\n",
    "from matplotlib.pyplot import plot"
   ]
  },
  {
   "cell_type": "code",
   "execution_count": 4,
   "metadata": {},
   "outputs": [
    {
     "name": "stdout",
     "output_type": "stream",
     "text": [
      "Numero de registros avaliados:  450575\n"
     ]
    }
   ],
   "source": [
    "min_i = 0\n",
    "max_i1 = J1_johansen[\"0\"].shape[0]\n",
    "\n",
    "aux1 = max_i1 - min_i\n",
    "print(\"Numero de registros avaliados: \", aux1)\n",
    "X1 = J1_johansen[\"0\"].values[::].reshape(-1, 1)\n",
    "kde1 = KernelDensity(kernel='gaussian', bandwidth=0.01).fit(X1)\n",
    "s1 = np.linspace(0, 1.0, aux1)\n",
    "e1 = kde1.score_samples(s1.reshape(-1,1))\n",
    "\n",
    "plt.figure(figsize=(20, 12))\n",
    "plt.title(\"Kernels | J1 Johansen\", fontsize=22)\n",
    "plt.ylabel(\"Densidade\", fontsize=16)\n",
    "plt.xlabel(\"Valores assumidos por J1 johansen\", fontsize=16)\n",
    "plt.grid(True)\n",
    "\n",
    "plt.plot(s1, e1)"
   ]
  },
  {
   "cell_type": "markdown",
   "metadata": {},
   "source": [
    "# 3 - Encontrando vales"
   ]
  },
  {
   "cell_type": "code",
   "execution_count": null,
   "metadata": {},
   "outputs": [],
   "source": [
    "from scipy.signal import argrelmin"
   ]
  },
  {
   "cell_type": "code",
   "execution_count": null,
   "metadata": {},
   "outputs": [],
   "source": [
    "min_i = 0\n",
    "max_i1 = J1_johansen[\"0\"].shape[0]\n",
    "aux1 = max_i1 - min_i\n",
    "J1 = J1_johansen[\"0\"].values[::].reshape(-1, 1)\n",
    "kde_J1 = KernelDensity(kernel='gaussian', bandwidth=0.01).fit(J1)\n",
    "s1 = np.linspace(0, 1.0, aux1)\n",
    "e1 = kde_J1.score_samples(s1.reshape(-1,1))\n",
    "x1 = e1\n",
    "valleys1 = argrelmin(x1)[0]\n",
    "ord1 = np.argsort(np.abs(np.diff(x1[valleys1])))\n",
    "ordValleys_J1 = np.flip(ord1)+1"
   ]
  },
  {
   "cell_type": "code",
   "execution_count": null,
   "metadata": {},
   "outputs": [],
   "source": [
    "x1 = e1\n",
    "valleys1 = argrelmin(x1)[0]\n",
    "\n",
    "plt.figure(figsize=(20, 12))\n",
    "plt.title(\"Vales dos Kernels | J1 Johansen\", fontsize=22)\n",
    "plt.ylabel(\"Densidade\", fontsize=16)\n",
    "plt.xlabel(\"Posição assumida por J1 Johansen\", fontsize=16)\n",
    "plt.grid(True)\n",
    "plt.plot(x1)\n",
    "plt.plot(valleys1, x1[valleys1], 'o')\n",
    "plt.plot(valleys1[ordValleys_J1[0:4]], x1[valleys1[ordValleys_J1[0:4]]], '*', c='green')\n",
    "plt.show()\n",
    "\n",
    "print(valleys1)"
   ]
  }
 ],
 "metadata": {
  "interpreter": {
   "hash": "d5e647a0fc3dbcf9eddea2adab39920c93a0982dc82225eeb57e3a95430c0214"
  },
  "kernelspec": {
   "display_name": "Python 3.9.6 64-bit",
   "language": "python",
   "name": "python3"
  },
  "language_info": {
   "codemirror_mode": {
    "name": "ipython",
    "version": 3
   },
   "file_extension": ".py",
   "mimetype": "text/x-python",
   "name": "python",
   "nbconvert_exporter": "python",
   "pygments_lexer": "ipython3",
   "version": "3.9.6"
  },
  "orig_nbformat": 4
 },
 "nbformat": 4,
 "nbformat_minor": 2
}
