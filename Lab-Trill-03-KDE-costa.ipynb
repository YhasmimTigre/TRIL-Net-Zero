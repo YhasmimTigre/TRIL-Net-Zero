{
 "cells": [
  {
   "cell_type": "markdown",
   "metadata": {},
   "source": [
    "# 1 - Carregando bibliotecas e dados"
   ]
  },
  {
   "cell_type": "code",
   "execution_count": 15,
   "metadata": {},
   "outputs": [],
   "source": [
    "import pandas as pd\n",
    "import numpy as np\n",
    "import seaborn as sns\n",
    "import matplotlib.pyplot as plt\n",
    "import seaborn as sns"
   ]
  },
  {
   "cell_type": "code",
   "execution_count": 16,
   "metadata": {},
   "outputs": [],
   "source": [
    "J1_costa = pd.read_csv(\"./dados/J Costa/J1_Costa.csv\")\n",
    "J2_costa = pd.read_csv(\"./dados/J Costa/J2_Costa.csv\")\n",
    "J3_costa = pd.read_csv(\"./dados/J Costa/J3_Costa.csv\")\n",
    "J4_costa = pd.read_csv(\"./dados/J Costa/J4_Costa.csv\")\n",
    "J5_costa = pd.read_csv(\"./dados/J Costa/J5_Costa.csv\")\n",
    "J6_costa = pd.read_csv(\"./dados/J Costa/J6_Costa.csv\")\n",
    "J7_costa = pd.read_csv(\"./dados/J Costa/J7_Costa.csv\")\n",
    "J8_costa = pd.read_csv(\"./dados/J Costa/J8_Costa.csv\")"
   ]
  },
  {
   "cell_type": "code",
   "execution_count": 17,
   "metadata": {},
   "outputs": [
    {
     "data": {
      "text/html": [
       "<div>\n",
       "<style scoped>\n",
       "    .dataframe tbody tr th:only-of-type {\n",
       "        vertical-align: middle;\n",
       "    }\n",
       "\n",
       "    .dataframe tbody tr th {\n",
       "        vertical-align: top;\n",
       "    }\n",
       "\n",
       "    .dataframe thead th {\n",
       "        text-align: right;\n",
       "    }\n",
       "</style>\n",
       "<table border=\"1\" class=\"dataframe\">\n",
       "  <thead>\n",
       "    <tr style=\"text-align: right;\">\n",
       "      <th></th>\n",
       "      <th>J1</th>\n",
       "    </tr>\n",
       "  </thead>\n",
       "  <tbody>\n",
       "    <tr>\n",
       "      <th>0</th>\n",
       "      <td>0.046106</td>\n",
       "    </tr>\n",
       "    <tr>\n",
       "      <th>1</th>\n",
       "      <td>0.032010</td>\n",
       "    </tr>\n",
       "    <tr>\n",
       "      <th>2</th>\n",
       "      <td>0.033351</td>\n",
       "    </tr>\n",
       "    <tr>\n",
       "      <th>3</th>\n",
       "      <td>0.032474</td>\n",
       "    </tr>\n",
       "    <tr>\n",
       "      <th>4</th>\n",
       "      <td>0.033262</td>\n",
       "    </tr>\n",
       "    <tr>\n",
       "      <th>...</th>\n",
       "      <td>...</td>\n",
       "    </tr>\n",
       "    <tr>\n",
       "      <th>85927</th>\n",
       "      <td>0.020825</td>\n",
       "    </tr>\n",
       "    <tr>\n",
       "      <th>85928</th>\n",
       "      <td>0.021369</td>\n",
       "    </tr>\n",
       "    <tr>\n",
       "      <th>85929</th>\n",
       "      <td>0.021886</td>\n",
       "    </tr>\n",
       "    <tr>\n",
       "      <th>85930</th>\n",
       "      <td>0.008452</td>\n",
       "    </tr>\n",
       "    <tr>\n",
       "      <th>85931</th>\n",
       "      <td>0.007748</td>\n",
       "    </tr>\n",
       "  </tbody>\n",
       "</table>\n",
       "<p>85932 rows × 1 columns</p>\n",
       "</div>"
      ],
      "text/plain": [
       "             J1\n",
       "0      0.046106\n",
       "1      0.032010\n",
       "2      0.033351\n",
       "3      0.032474\n",
       "4      0.033262\n",
       "...         ...\n",
       "85927  0.020825\n",
       "85928  0.021369\n",
       "85929  0.021886\n",
       "85930  0.008452\n",
       "85931  0.007748\n",
       "\n",
       "[85932 rows x 1 columns]"
      ]
     },
     "execution_count": 17,
     "metadata": {},
     "output_type": "execute_result"
    }
   ],
   "source": [
    "J1_costa"
   ]
  },
  {
   "cell_type": "code",
   "execution_count": 11,
   "metadata": {},
   "outputs": [
    {
     "data": {
      "text/html": [
       "<div>\n",
       "<style scoped>\n",
       "    .dataframe tbody tr th:only-of-type {\n",
       "        vertical-align: middle;\n",
       "    }\n",
       "\n",
       "    .dataframe tbody tr th {\n",
       "        vertical-align: top;\n",
       "    }\n",
       "\n",
       "    .dataframe thead th {\n",
       "        text-align: right;\n",
       "    }\n",
       "</style>\n",
       "<table border=\"1\" class=\"dataframe\">\n",
       "  <thead>\n",
       "    <tr style=\"text-align: right;\">\n",
       "      <th></th>\n",
       "      <th>0.049865</th>\n",
       "    </tr>\n",
       "  </thead>\n",
       "  <tbody>\n",
       "    <tr>\n",
       "      <th>0</th>\n",
       "      <td>0.036878</td>\n",
       "    </tr>\n",
       "    <tr>\n",
       "      <th>1</th>\n",
       "      <td>0.037121</td>\n",
       "    </tr>\n",
       "    <tr>\n",
       "      <th>2</th>\n",
       "      <td>0.035472</td>\n",
       "    </tr>\n",
       "    <tr>\n",
       "      <th>3</th>\n",
       "      <td>0.035113</td>\n",
       "    </tr>\n",
       "    <tr>\n",
       "      <th>4</th>\n",
       "      <td>0.034037</td>\n",
       "    </tr>\n",
       "    <tr>\n",
       "      <th>...</th>\n",
       "      <td>...</td>\n",
       "    </tr>\n",
       "    <tr>\n",
       "      <th>85926</th>\n",
       "      <td>0.020619</td>\n",
       "    </tr>\n",
       "    <tr>\n",
       "      <th>85927</th>\n",
       "      <td>0.020166</td>\n",
       "    </tr>\n",
       "    <tr>\n",
       "      <th>85928</th>\n",
       "      <td>0.019704</td>\n",
       "    </tr>\n",
       "    <tr>\n",
       "      <th>85929</th>\n",
       "      <td>0.011346</td>\n",
       "    </tr>\n",
       "    <tr>\n",
       "      <th>85930</th>\n",
       "      <td>0.010512</td>\n",
       "    </tr>\n",
       "  </tbody>\n",
       "</table>\n",
       "<p>85931 rows × 1 columns</p>\n",
       "</div>"
      ],
      "text/plain": [
       "       0.049865\n",
       "0      0.036878\n",
       "1      0.037121\n",
       "2      0.035472\n",
       "3      0.035113\n",
       "4      0.034037\n",
       "...         ...\n",
       "85926  0.020619\n",
       "85927  0.020166\n",
       "85928  0.019704\n",
       "85929  0.011346\n",
       "85930  0.010512\n",
       "\n",
       "[85931 rows x 1 columns]"
      ]
     },
     "execution_count": 11,
     "metadata": {},
     "output_type": "execute_result"
    }
   ],
   "source": [
    "J2_costa"
   ]
  },
  {
   "cell_type": "code",
   "execution_count": 12,
   "metadata": {},
   "outputs": [
    {
     "data": {
      "text/html": [
       "<div>\n",
       "<style scoped>\n",
       "    .dataframe tbody tr th:only-of-type {\n",
       "        vertical-align: middle;\n",
       "    }\n",
       "\n",
       "    .dataframe tbody tr th {\n",
       "        vertical-align: top;\n",
       "    }\n",
       "\n",
       "    .dataframe thead th {\n",
       "        text-align: right;\n",
       "    }\n",
       "</style>\n",
       "<table border=\"1\" class=\"dataframe\">\n",
       "  <thead>\n",
       "    <tr style=\"text-align: right;\">\n",
       "      <th></th>\n",
       "      <th>0.0441</th>\n",
       "    </tr>\n",
       "  </thead>\n",
       "  <tbody>\n",
       "    <tr>\n",
       "      <th>0</th>\n",
       "      <td>0.030319</td>\n",
       "    </tr>\n",
       "    <tr>\n",
       "      <th>1</th>\n",
       "      <td>0.031431</td>\n",
       "    </tr>\n",
       "    <tr>\n",
       "      <th>2</th>\n",
       "      <td>0.030405</td>\n",
       "    </tr>\n",
       "    <tr>\n",
       "      <th>3</th>\n",
       "      <td>0.030957</td>\n",
       "    </tr>\n",
       "    <tr>\n",
       "      <th>4</th>\n",
       "      <td>0.030702</td>\n",
       "    </tr>\n",
       "    <tr>\n",
       "      <th>...</th>\n",
       "      <td>...</td>\n",
       "    </tr>\n",
       "    <tr>\n",
       "      <th>85926</th>\n",
       "      <td>0.020878</td>\n",
       "    </tr>\n",
       "    <tr>\n",
       "      <th>85927</th>\n",
       "      <td>0.021203</td>\n",
       "    </tr>\n",
       "    <tr>\n",
       "      <th>85928</th>\n",
       "      <td>0.021554</td>\n",
       "    </tr>\n",
       "    <tr>\n",
       "      <th>85929</th>\n",
       "      <td>0.008239</td>\n",
       "    </tr>\n",
       "    <tr>\n",
       "      <th>85930</th>\n",
       "      <td>0.007560</td>\n",
       "    </tr>\n",
       "  </tbody>\n",
       "</table>\n",
       "<p>85931 rows × 1 columns</p>\n",
       "</div>"
      ],
      "text/plain": [
       "         0.0441\n",
       "0      0.030319\n",
       "1      0.031431\n",
       "2      0.030405\n",
       "3      0.030957\n",
       "4      0.030702\n",
       "...         ...\n",
       "85926  0.020878\n",
       "85927  0.021203\n",
       "85928  0.021554\n",
       "85929  0.008239\n",
       "85930  0.007560\n",
       "\n",
       "[85931 rows x 1 columns]"
      ]
     },
     "execution_count": 12,
     "metadata": {},
     "output_type": "execute_result"
    }
   ],
   "source": [
    "J3_costa"
   ]
  },
  {
   "cell_type": "code",
   "execution_count": 13,
   "metadata": {},
   "outputs": [
    {
     "data": {
      "text/html": [
       "<div>\n",
       "<style scoped>\n",
       "    .dataframe tbody tr th:only-of-type {\n",
       "        vertical-align: middle;\n",
       "    }\n",
       "\n",
       "    .dataframe tbody tr th {\n",
       "        vertical-align: top;\n",
       "    }\n",
       "\n",
       "    .dataframe thead th {\n",
       "        text-align: right;\n",
       "    }\n",
       "</style>\n",
       "<table border=\"1\" class=\"dataframe\">\n",
       "  <thead>\n",
       "    <tr style=\"text-align: right;\">\n",
       "      <th></th>\n",
       "      <th>0.044084</th>\n",
       "    </tr>\n",
       "  </thead>\n",
       "  <tbody>\n",
       "    <tr>\n",
       "      <th>0</th>\n",
       "      <td>0.030366</td>\n",
       "    </tr>\n",
       "    <tr>\n",
       "      <th>1</th>\n",
       "      <td>0.031430</td>\n",
       "    </tr>\n",
       "    <tr>\n",
       "      <th>2</th>\n",
       "      <td>0.030372</td>\n",
       "    </tr>\n",
       "    <tr>\n",
       "      <th>3</th>\n",
       "      <td>0.030876</td>\n",
       "    </tr>\n",
       "    <tr>\n",
       "      <th>4</th>\n",
       "      <td>0.030580</td>\n",
       "    </tr>\n",
       "    <tr>\n",
       "      <th>...</th>\n",
       "      <td>...</td>\n",
       "    </tr>\n",
       "    <tr>\n",
       "      <th>85926</th>\n",
       "      <td>0.020691</td>\n",
       "    </tr>\n",
       "    <tr>\n",
       "      <th>85927</th>\n",
       "      <td>0.020975</td>\n",
       "    </tr>\n",
       "    <tr>\n",
       "      <th>85928</th>\n",
       "      <td>0.021286</td>\n",
       "    </tr>\n",
       "    <tr>\n",
       "      <th>85929</th>\n",
       "      <td>0.008210</td>\n",
       "    </tr>\n",
       "    <tr>\n",
       "      <th>85930</th>\n",
       "      <td>0.007526</td>\n",
       "    </tr>\n",
       "  </tbody>\n",
       "</table>\n",
       "<p>85931 rows × 1 columns</p>\n",
       "</div>"
      ],
      "text/plain": [
       "       0.044084\n",
       "0      0.030366\n",
       "1      0.031430\n",
       "2      0.030372\n",
       "3      0.030876\n",
       "4      0.030580\n",
       "...         ...\n",
       "85926  0.020691\n",
       "85927  0.020975\n",
       "85928  0.021286\n",
       "85929  0.008210\n",
       "85930  0.007526\n",
       "\n",
       "[85931 rows x 1 columns]"
      ]
     },
     "execution_count": 13,
     "metadata": {},
     "output_type": "execute_result"
    }
   ],
   "source": [
    "J4_costa"
   ]
  },
  {
   "cell_type": "code",
   "execution_count": 14,
   "metadata": {},
   "outputs": [
    {
     "data": {
      "text/html": [
       "<div>\n",
       "<style scoped>\n",
       "    .dataframe tbody tr th:only-of-type {\n",
       "        vertical-align: middle;\n",
       "    }\n",
       "\n",
       "    .dataframe tbody tr th {\n",
       "        vertical-align: top;\n",
       "    }\n",
       "\n",
       "    .dataframe thead th {\n",
       "        text-align: right;\n",
       "    }\n",
       "</style>\n",
       "<table border=\"1\" class=\"dataframe\">\n",
       "  <thead>\n",
       "    <tr style=\"text-align: right;\">\n",
       "      <th></th>\n",
       "      <th>0.043741</th>\n",
       "    </tr>\n",
       "  </thead>\n",
       "  <tbody>\n",
       "    <tr>\n",
       "      <th>0</th>\n",
       "      <td>0.032197</td>\n",
       "    </tr>\n",
       "    <tr>\n",
       "      <th>1</th>\n",
       "      <td>0.032245</td>\n",
       "    </tr>\n",
       "    <tr>\n",
       "      <th>2</th>\n",
       "      <td>0.030647</td>\n",
       "    </tr>\n",
       "    <tr>\n",
       "      <th>3</th>\n",
       "      <td>0.030165</td>\n",
       "    </tr>\n",
       "    <tr>\n",
       "      <th>4</th>\n",
       "      <td>0.029066</td>\n",
       "    </tr>\n",
       "    <tr>\n",
       "      <th>...</th>\n",
       "      <td>...</td>\n",
       "    </tr>\n",
       "    <tr>\n",
       "      <th>85926</th>\n",
       "      <td>0.018585</td>\n",
       "    </tr>\n",
       "    <tr>\n",
       "      <th>85927</th>\n",
       "      <td>0.018036</td>\n",
       "    </tr>\n",
       "    <tr>\n",
       "      <th>85928</th>\n",
       "      <td>0.017517</td>\n",
       "    </tr>\n",
       "    <tr>\n",
       "      <th>85929</th>\n",
       "      <td>0.010080</td>\n",
       "    </tr>\n",
       "    <tr>\n",
       "      <th>85930</th>\n",
       "      <td>0.009338</td>\n",
       "    </tr>\n",
       "  </tbody>\n",
       "</table>\n",
       "<p>85931 rows × 1 columns</p>\n",
       "</div>"
      ],
      "text/plain": [
       "       0.043741\n",
       "0      0.032197\n",
       "1      0.032245\n",
       "2      0.030647\n",
       "3      0.030165\n",
       "4      0.029066\n",
       "...         ...\n",
       "85926  0.018585\n",
       "85927  0.018036\n",
       "85928  0.017517\n",
       "85929  0.010080\n",
       "85930  0.009338\n",
       "\n",
       "[85931 rows x 1 columns]"
      ]
     },
     "execution_count": 14,
     "metadata": {},
     "output_type": "execute_result"
    }
   ],
   "source": [
    "J5_costa"
   ]
  },
  {
   "cell_type": "code",
   "execution_count": 15,
   "metadata": {},
   "outputs": [
    {
     "data": {
      "text/html": [
       "<div>\n",
       "<style scoped>\n",
       "    .dataframe tbody tr th:only-of-type {\n",
       "        vertical-align: middle;\n",
       "    }\n",
       "\n",
       "    .dataframe tbody tr th {\n",
       "        vertical-align: top;\n",
       "    }\n",
       "\n",
       "    .dataframe thead th {\n",
       "        text-align: right;\n",
       "    }\n",
       "</style>\n",
       "<table border=\"1\" class=\"dataframe\">\n",
       "  <thead>\n",
       "    <tr style=\"text-align: right;\">\n",
       "      <th></th>\n",
       "      <th>0</th>\n",
       "    </tr>\n",
       "  </thead>\n",
       "  <tbody>\n",
       "    <tr>\n",
       "      <th>0</th>\n",
       "      <td>0.0</td>\n",
       "    </tr>\n",
       "    <tr>\n",
       "      <th>1</th>\n",
       "      <td>0.0</td>\n",
       "    </tr>\n",
       "    <tr>\n",
       "      <th>2</th>\n",
       "      <td>0.0</td>\n",
       "    </tr>\n",
       "    <tr>\n",
       "      <th>3</th>\n",
       "      <td>0.0</td>\n",
       "    </tr>\n",
       "    <tr>\n",
       "      <th>4</th>\n",
       "      <td>0.0</td>\n",
       "    </tr>\n",
       "    <tr>\n",
       "      <th>...</th>\n",
       "      <td>...</td>\n",
       "    </tr>\n",
       "    <tr>\n",
       "      <th>85926</th>\n",
       "      <td>0.0</td>\n",
       "    </tr>\n",
       "    <tr>\n",
       "      <th>85927</th>\n",
       "      <td>0.0</td>\n",
       "    </tr>\n",
       "    <tr>\n",
       "      <th>85928</th>\n",
       "      <td>0.0</td>\n",
       "    </tr>\n",
       "    <tr>\n",
       "      <th>85929</th>\n",
       "      <td>0.0</td>\n",
       "    </tr>\n",
       "    <tr>\n",
       "      <th>85930</th>\n",
       "      <td>0.0</td>\n",
       "    </tr>\n",
       "  </tbody>\n",
       "</table>\n",
       "<p>85931 rows × 1 columns</p>\n",
       "</div>"
      ],
      "text/plain": [
       "         0\n",
       "0      0.0\n",
       "1      0.0\n",
       "2      0.0\n",
       "3      0.0\n",
       "4      0.0\n",
       "...    ...\n",
       "85926  0.0\n",
       "85927  0.0\n",
       "85928  0.0\n",
       "85929  0.0\n",
       "85930  0.0\n",
       "\n",
       "[85931 rows x 1 columns]"
      ]
     },
     "execution_count": 15,
     "metadata": {},
     "output_type": "execute_result"
    }
   ],
   "source": [
    "J6_costa"
   ]
  },
  {
   "cell_type": "code",
   "execution_count": 5,
   "metadata": {},
   "outputs": [
    {
     "data": {
      "text/html": [
       "<div>\n",
       "<style scoped>\n",
       "    .dataframe tbody tr th:only-of-type {\n",
       "        vertical-align: middle;\n",
       "    }\n",
       "\n",
       "    .dataframe tbody tr th {\n",
       "        vertical-align: top;\n",
       "    }\n",
       "\n",
       "    .dataframe thead th {\n",
       "        text-align: right;\n",
       "    }\n",
       "</style>\n",
       "<table border=\"1\" class=\"dataframe\">\n",
       "  <thead>\n",
       "    <tr style=\"text-align: right;\">\n",
       "      <th></th>\n",
       "      <th>0</th>\n",
       "    </tr>\n",
       "  </thead>\n",
       "  <tbody>\n",
       "    <tr>\n",
       "      <th>0</th>\n",
       "      <td>0.0</td>\n",
       "    </tr>\n",
       "    <tr>\n",
       "      <th>1</th>\n",
       "      <td>0.0</td>\n",
       "    </tr>\n",
       "    <tr>\n",
       "      <th>2</th>\n",
       "      <td>0.0</td>\n",
       "    </tr>\n",
       "    <tr>\n",
       "      <th>3</th>\n",
       "      <td>0.0</td>\n",
       "    </tr>\n",
       "    <tr>\n",
       "      <th>4</th>\n",
       "      <td>0.0</td>\n",
       "    </tr>\n",
       "    <tr>\n",
       "      <th>...</th>\n",
       "      <td>...</td>\n",
       "    </tr>\n",
       "    <tr>\n",
       "      <th>85926</th>\n",
       "      <td>0.0</td>\n",
       "    </tr>\n",
       "    <tr>\n",
       "      <th>85927</th>\n",
       "      <td>0.0</td>\n",
       "    </tr>\n",
       "    <tr>\n",
       "      <th>85928</th>\n",
       "      <td>0.0</td>\n",
       "    </tr>\n",
       "    <tr>\n",
       "      <th>85929</th>\n",
       "      <td>0.0</td>\n",
       "    </tr>\n",
       "    <tr>\n",
       "      <th>85930</th>\n",
       "      <td>0.0</td>\n",
       "    </tr>\n",
       "  </tbody>\n",
       "</table>\n",
       "<p>85931 rows × 1 columns</p>\n",
       "</div>"
      ],
      "text/plain": [
       "         0\n",
       "0      0.0\n",
       "1      0.0\n",
       "2      0.0\n",
       "3      0.0\n",
       "4      0.0\n",
       "...    ...\n",
       "85926  0.0\n",
       "85927  0.0\n",
       "85928  0.0\n",
       "85929  0.0\n",
       "85930  0.0\n",
       "\n",
       "[85931 rows x 1 columns]"
      ]
     },
     "execution_count": 5,
     "metadata": {},
     "output_type": "execute_result"
    }
   ],
   "source": [
    "J7_costa"
   ]
  },
  {
   "cell_type": "code",
   "execution_count": 6,
   "metadata": {},
   "outputs": [
    {
     "data": {
      "text/html": [
       "<div>\n",
       "<style scoped>\n",
       "    .dataframe tbody tr th:only-of-type {\n",
       "        vertical-align: middle;\n",
       "    }\n",
       "\n",
       "    .dataframe tbody tr th {\n",
       "        vertical-align: top;\n",
       "    }\n",
       "\n",
       "    .dataframe thead th {\n",
       "        text-align: right;\n",
       "    }\n",
       "</style>\n",
       "<table border=\"1\" class=\"dataframe\">\n",
       "  <thead>\n",
       "    <tr style=\"text-align: right;\">\n",
       "      <th></th>\n",
       "      <th>0</th>\n",
       "    </tr>\n",
       "  </thead>\n",
       "  <tbody>\n",
       "    <tr>\n",
       "      <th>0</th>\n",
       "      <td>0.0</td>\n",
       "    </tr>\n",
       "    <tr>\n",
       "      <th>1</th>\n",
       "      <td>0.0</td>\n",
       "    </tr>\n",
       "    <tr>\n",
       "      <th>2</th>\n",
       "      <td>0.0</td>\n",
       "    </tr>\n",
       "    <tr>\n",
       "      <th>3</th>\n",
       "      <td>0.0</td>\n",
       "    </tr>\n",
       "    <tr>\n",
       "      <th>4</th>\n",
       "      <td>0.0</td>\n",
       "    </tr>\n",
       "    <tr>\n",
       "      <th>...</th>\n",
       "      <td>...</td>\n",
       "    </tr>\n",
       "    <tr>\n",
       "      <th>85926</th>\n",
       "      <td>0.0</td>\n",
       "    </tr>\n",
       "    <tr>\n",
       "      <th>85927</th>\n",
       "      <td>0.0</td>\n",
       "    </tr>\n",
       "    <tr>\n",
       "      <th>85928</th>\n",
       "      <td>0.0</td>\n",
       "    </tr>\n",
       "    <tr>\n",
       "      <th>85929</th>\n",
       "      <td>0.0</td>\n",
       "    </tr>\n",
       "    <tr>\n",
       "      <th>85930</th>\n",
       "      <td>0.0</td>\n",
       "    </tr>\n",
       "  </tbody>\n",
       "</table>\n",
       "<p>85931 rows × 1 columns</p>\n",
       "</div>"
      ],
      "text/plain": [
       "         0\n",
       "0      0.0\n",
       "1      0.0\n",
       "2      0.0\n",
       "3      0.0\n",
       "4      0.0\n",
       "...    ...\n",
       "85926  0.0\n",
       "85927  0.0\n",
       "85928  0.0\n",
       "85929  0.0\n",
       "85930  0.0\n",
       "\n",
       "[85931 rows x 1 columns]"
      ]
     },
     "execution_count": 6,
     "metadata": {},
     "output_type": "execute_result"
    }
   ],
   "source": [
    "J8_costa"
   ]
  },
  {
   "cell_type": "markdown",
   "metadata": {},
   "source": [
    "# 2 - Aplicando o KDE"
   ]
  },
  {
   "cell_type": "code",
   "execution_count": 6,
   "metadata": {},
   "outputs": [],
   "source": [
    "from numpy import array, linspace\n",
    "from sklearn.neighbors import KernelDensity\n",
    "from matplotlib.pyplot import plot"
   ]
  },
  {
   "cell_type": "code",
   "execution_count": 9,
   "metadata": {},
   "outputs": [
    {
     "name": "stdout",
     "output_type": "stream",
     "text": [
      "Numero de registros avaliados:  85931\n"
     ]
    },
    {
     "data": {
      "text/plain": [
       "[<matplotlib.lines.Line2D at 0x254118b9760>]"
      ]
     },
     "execution_count": 9,
     "metadata": {},
     "output_type": "execute_result"
    },
    {
     "data": {
      "image/png": "[encoded data removed]",
      "text/plain": [
       "<Figure size 1440x864 with 1 Axes>"
      ]
     },
     "metadata": {
      "needs_background": "light"
     },
     "output_type": "display_data"
    }
   ],
   "source": [
    "min_i = 0\n",
    "max_i1 = J1_costa[\"J1\"].shape[0]\n",
    "\n",
    "aux1 = max_i1 - min_i\n",
    "print(\"Numero de registros avaliados: \", aux1)\n",
    "X1 = J1_costa[\"J1\"].values[::].reshape(-1, 1)\n",
    "#len\n",
    "\n",
    "kde1 = KernelDensity(kernel='gaussian', bandwidth=0.01).fit(X1) #aplica o KDE\n",
    "s1 = np.linspace(0, 1.0, aux1) #Retorna números uniformimente espaçados em um intervalo especificado.\n",
    "e1 = kde1.score_samples(s1.reshape(-1,1)) #Calcule a probabilidade logarítmica de cada amostra sob o modelo\n",
    "\n",
    "plt.figure(figsize=(20, 12))\n",
    "plt.title(\"Kernels | J1 normalizado\", fontsize=22)\n",
    "plt.ylabel(\"Densidade\", fontsize=16)\n",
    "plt.xlabel(\"Valores assumidos por J1 norm\", fontsize=16)\n",
    "plt.grid(True)\n",
    "\n",
    "plt.plot(s1, e1)"
   ]
  },
  {
   "cell_type": "code",
   "execution_count": 7,
   "metadata": {},
   "outputs": [
    {
     "name": "stdout",
     "output_type": "stream",
     "text": [
      "Numero de registros avaliados:  85931\n"
     ]
    }
   ],
   "source": [
    "min_i = 0\n",
    "max_i2 = J2_costa[\"0.049865\"].shape[0]\n",
    "\n",
    "aux2 = max_i2 - min_i\n",
    "print(\"Numero de registros avaliados: \", aux2)\n",
    "X2 = J2_costa[\"0.049865\"].values[::].reshape(-1, 1)\n",
    "kde2 = KernelDensity(kernel='gaussian', bandwidth=0.01).fit(X2)\n",
    "s2 = np.linspace(0, 1.0, aux2) \n",
    "e2 = kde2.score_samples(s2.reshape(-1,1))"
   ]
  },
  {
   "cell_type": "code",
   "execution_count": 8,
   "metadata": {},
   "outputs": [
    {
     "name": "stdout",
     "output_type": "stream",
     "text": [
      "Numero de registros avaliados:  85931\n"
     ]
    }
   ],
   "source": [
    "#Respectivo a J3\n",
    "\n",
    "min_i = 0\n",
    "max_i3 = J3_costa[\"0.0441\"].shape[0]\n",
    "\n",
    "aux3 = max_i3 - min_i\n",
    "print(\"Numero de registros avaliados: \", aux3)\n",
    "X3 = J3_costa[\"0.0441\"].values[::].reshape(-1, 1)\n",
    "kde3 = KernelDensity(kernel='gaussian', bandwidth=0.01).fit(X3)\n",
    "s3 = np.linspace(0, 1.0, aux3)\n",
    "e3 = kde3.score_samples(s3.reshape(-1,1))"
   ]
  },
  {
   "cell_type": "code",
   "execution_count": 9,
   "metadata": {},
   "outputs": [
    {
     "name": "stdout",
     "output_type": "stream",
     "text": [
      "Numero de registros avaliados:  85931\n"
     ]
    }
   ],
   "source": [
    "#Respectivo a J4\n",
    "\n",
    "min_i = 0\n",
    "max_i4 = J4_costa[\"0.044084\"].shape[0]\n",
    "\n",
    "aux4 = max_i4 - min_i\n",
    "print(\"Numero de registros avaliados: \", aux4)\n",
    "X4 = J4_costa[\"0.044084\"].values[::].reshape(-1, 1)\n",
    "kde4 = KernelDensity(kernel='gaussian', bandwidth=0.01).fit(X4)\n",
    "s4 = np.linspace(0, 1.0, aux4)\n",
    "e4 = kde4.score_samples(s4.reshape(-1,1))"
   ]
  },
  {
   "cell_type": "code",
   "execution_count": 10,
   "metadata": {},
   "outputs": [
    {
     "name": "stdout",
     "output_type": "stream",
     "text": [
      "Numero de registros avaliados:  85931\n"
     ]
    }
   ],
   "source": [
    "#Respectivo a J5\n",
    "\n",
    "min_i = 0\n",
    "max_i5 = J5_costa[\"0.043741\"].shape[0]\n",
    "\n",
    "aux5 = max_i5 - min_i\n",
    "print(\"Numero de registros avaliados: \", aux5)\n",
    "X5 = J5_costa[\"0.043741\"].values[::].reshape(-1, 1)\n",
    "kde5 = KernelDensity(kernel='gaussian', bandwidth=0.01).fit(X5)\n",
    "s5 = np.linspace(0, 1.0, aux5)\n",
    "e5 = kde5.score_samples(s5.reshape(-1,1))"
   ]
  },
  {
   "cell_type": "code",
   "execution_count": 11,
   "metadata": {},
   "outputs": [
    {
     "name": "stdout",
     "output_type": "stream",
     "text": [
      "Numero de registros avaliados:  85931\n"
     ]
    }
   ],
   "source": [
    "#Respectivo a J6\n",
    "\n",
    "min_i = 0\n",
    "max_i6 = J6_costa[\"0\"].shape[0]\n",
    "\n",
    "aux6 = max_i6 - min_i\n",
    "print(\"Numero de registros avaliados: \", aux6)\n",
    "X6 = J6_costa[\"0\"].values[::].reshape(-1, 1)\n",
    "kde6 = KernelDensity(kernel='gaussian', bandwidth=0.01).fit(X6)\n",
    "s6 = np.linspace(0, 1.0, aux6)\n",
    "e6 = kde6.score_samples(s6.reshape(-1,1))"
   ]
  },
  {
   "cell_type": "code",
   "execution_count": 12,
   "metadata": {},
   "outputs": [
    {
     "name": "stdout",
     "output_type": "stream",
     "text": [
      "Numero de registros avaliados:  85931\n"
     ]
    }
   ],
   "source": [
    "#Respectivo a J7\n",
    "\n",
    "min_i = 0\n",
    "max_i7 = J7_costa[\"0\"].shape[0]\n",
    "\n",
    "aux7 = max_i7 - min_i\n",
    "print(\"Numero de registros avaliados: \", aux7)\n",
    "X7 = J7_costa[\"0\"].values[::].reshape(-1, 1)\n",
    "kde7 = KernelDensity(kernel='gaussian', bandwidth=0.01).fit(X7)\n",
    "s7 = np.linspace(0, 1.0, aux7)\n",
    "e7 = kde7.score_samples(s7.reshape(-1,1))"
   ]
  },
  {
   "cell_type": "code",
   "execution_count": 13,
   "metadata": {},
   "outputs": [
    {
     "name": "stdout",
     "output_type": "stream",
     "text": [
      "Numero de registros avaliados:  85931\n"
     ]
    }
   ],
   "source": [
    "#Respectivo a J8\n",
    "\n",
    "min_i = 0\n",
    "max_i8 = J8_costa[\"0\"].shape[0]\n",
    "\n",
    "aux8 = max_i8 - min_i\n",
    "print(\"Numero de registros avaliados: \", aux8)\n",
    "X8 = J8_costa[\"0\"].values[::].reshape(-1, 1)\n",
    "kde8 = KernelDensity(kernel='gaussian', bandwidth=0.01).fit(X8)\n",
    "s8 = np.linspace(0, 1.0, aux8)\n",
    "e8 = kde8.score_samples(s8.reshape(-1,1))"
   ]
  },
  {
   "cell_type": "markdown",
   "metadata": {},
   "source": [
    "# 3 - Encontrando vales"
   ]
  },
  {
   "cell_type": "code",
   "execution_count": 5,
   "metadata": {},
   "outputs": [],
   "source": [
    "from scipy.signal import argrelmin"
   ]
  },
  {
   "cell_type": "code",
   "execution_count": 7,
   "metadata": {},
   "outputs": [],
   "source": [
    "#Determinando o KDE do J1 costa\n",
    "\n",
    "min_i = 0\n",
    "max_i1 = J1_costa[\"0.046106\"].shape[0]\n",
    "aux1 = max_i1 - min_i\n",
    "J1 = J1_costa[\"0.046106\"].values[::].reshape(-1, 1)\n",
    "kde_J1 = KernelDensity(kernel='gaussian', bandwidth=0.01).fit(J1)\n",
    "s1 = np.linspace(0, 1.0, aux1)\n",
    "e1 = kde_J1.score_samples(s1.reshape(-1,1))\n",
    "x1 = e1\n",
    "valleys1 = argrelmin(x1)[0]\n",
    "ord1 = np.argsort(np.abs(np.diff(x1[valleys1])))\n",
    "ordValleys_J1 = np.flip(ord1)+1"
   ]
  },
  {
   "cell_type": "code",
   "execution_count": 8,
   "metadata": {},
   "outputs": [
    {
     "data": {
      "image/png": "[encoded data removed]",
      "text/plain": [
       "<Figure size 1440x864 with 1 Axes>"
      ]
     },
     "metadata": {
      "needs_background": "light"
     },
     "output_type": "display_data"
    },
    {
     "name": "stdout",
     "output_type": "stream",
     "text": [
      "[ 3569 11415 17236 29505 33548 36757 44018 54223 56259 61217 66270 73614\n",
      " 78511 80950]\n"
     ]
    }
   ],
   "source": [
    "x1 = e1\n",
    "valleys1 = argrelmin(x1)[0]\n",
    "\n",
    "plt.figure(figsize=(20, 12))\n",
    "plt.title(\"Vales dos Kernels | J1 Costa\", fontsize=22)\n",
    "plt.ylabel(\"Densidade\", fontsize=16)\n",
    "plt.xlabel(\"Posição assumida por J1 Costa\", fontsize=16)\n",
    "plt.grid(True)\n",
    "plt.plot(x1)\n",
    "plt.plot(valleys1, x1[valleys1], 'o') #Aqui determinamos os vales\n",
    "plt.plot(valleys1[ordValleys_J1[0:4]], x1[valleys1[ordValleys_J1[0:4]]], '*', c='green') #aqui determinamos onde os pontos de divisão devem aparecer\n",
    "plt.show()\n",
    "\n",
    "print(valleys1)"
   ]
  },
  {
   "cell_type": "code",
   "execution_count": 19,
   "metadata": {},
   "outputs": [
    {
     "ename": "NameError",
     "evalue": "name 'x1' is not defined",
     "output_type": "error",
     "traceback": [
      "\u001b[1;31m---------------------------------------------------------------------------\u001b[0m",
      "\u001b[1;31mNameError\u001b[0m                                 Traceback (most recent call last)",
      "\u001b[1;32m~\\AppData\\Local\\Temp\\ipykernel_10808\\1028526005.py\u001b[0m in \u001b[0;36m<cell line: 1>\u001b[1;34m()\u001b[0m\n\u001b[1;32m----> 1\u001b[1;33m \u001b[0mplt\u001b[0m\u001b[1;33m.\u001b[0m\u001b[0mplot\u001b[0m\u001b[1;33m(\u001b[0m\u001b[0mnp\u001b[0m\u001b[1;33m.\u001b[0m\u001b[0mexp\u001b[0m\u001b[1;33m(\u001b[0m\u001b[0mx1\u001b[0m\u001b[1;33m)\u001b[0m\u001b[1;33m)\u001b[0m\u001b[1;33m\u001b[0m\u001b[1;33m\u001b[0m\u001b[0m\n\u001b[0m",
      "\u001b[1;31mNameError\u001b[0m: name 'x1' is not defined"
     ]
    }
   ],
   "source": [
    "plt.plot(np.exp(x1))"
   ]
  },
  {
   "cell_type": "code",
   "execution_count": 14,
   "metadata": {},
   "outputs": [
    {
     "name": "stdout",
     "output_type": "stream",
     "text": [
      "Numero de registros avaliados:  85931 85931 85931 85931 85931 85931 85931\n"
     ]
    }
   ],
   "source": [
    "min_i = 0\n",
    "max_i2 = J2_costa[\"0.049865\"].shape[0]\n",
    "max_i3 = J3_costa[\"0.0441\"].shape[0]\n",
    "max_i4 = J4_costa[\"0.044084\"].shape[0]\n",
    "max_i5 = J5_costa[\"0.043741\"].shape[0]\n",
    "max_i6 = J6_costa[\"0\"].shape[0]\n",
    "max_i7 = J7_costa[\"0\"].shape[0]\n",
    "max_i8 = J8_costa[\"0\"].shape[0]\n",
    "\n",
    "aux2 = max_i2 - min_i\n",
    "aux3 = max_i3 - min_i\n",
    "aux4 = max_i4 - min_i\n",
    "aux5 = max_i5 - min_i\n",
    "aux6 = max_i6 - min_i\n",
    "aux7 = max_i7 - min_i\n",
    "aux8 = max_i8 - min_i\n",
    "\n",
    "print(\"Numero de registros avaliados: \", aux2, aux3, aux4, aux5, aux6, aux7, aux8)\n",
    "\n",
    "J2 = J2_costa[\"0.049865\"].values[::].reshape(-1, 1)\n",
    "J3 = J3_costa[\"0.0441\"].values[::].reshape(-1, 1)\n",
    "J4 = J4_costa[\"0.044084\"].values[::].reshape(-1, 1)\n",
    "J5 = J5_costa[\"0.043741\"].values[::].reshape(-1, 1)\n",
    "J6 = J6_costa[\"0\"].values[::].reshape(-1, 1)\n",
    "J7 = J7_costa[\"0\"].values[::].reshape(-1, 1)\n",
    "J8 = J8_costa[\"0\"].values[::].reshape(-1, 1)\n",
    "\n",
    "kde_J2 = KernelDensity(kernel='gaussian', bandwidth=0.01).fit(J2)\n",
    "kde_J3 = KernelDensity(kernel='gaussian', bandwidth=0.01).fit(J3)\n",
    "kde_J4 = KernelDensity(kernel='gaussian', bandwidth=0.01).fit(J4)\n",
    "kde_J5 = KernelDensity(kernel='gaussian', bandwidth=0.01).fit(J5)\n",
    "kde_J6 = KernelDensity(kernel='gaussian', bandwidth=0.01).fit(J6)\n",
    "kde_J7 = KernelDensity(kernel='gaussian', bandwidth=0.01).fit(J7)\n",
    "kde_J8 = KernelDensity(kernel='gaussian', bandwidth=0.01).fit(J8)\n",
    "\n",
    "s2 = np.linspace(0, 1.0, aux2)\n",
    "s3 = np.linspace(0, 1.0, aux3)\n",
    "s4 = np.linspace(0, 1.0, aux4)\n",
    "s5 = np.linspace(0, 1.0, aux5)\n",
    "s6 = np.linspace(0, 1.0, aux6)\n",
    "s7 = np.linspace(0, 1.0, aux7)\n",
    "s8 = np.linspace(0, 1.0, aux8)\n",
    "\n",
    "e2 = kde_J2.score_samples(s2.reshape(-1,1))\n",
    "e3 = kde_J3.score_samples(s3.reshape(-1,1))\n",
    "e4 = kde_J4.score_samples(s4.reshape(-1,1))\n",
    "e5 = kde_J5.score_samples(s5.reshape(-1,1))\n",
    "e6 = kde_J6.score_samples(s6.reshape(-1,1))\n",
    "e7 = kde_J6.score_samples(s7.reshape(-1,1))\n",
    "e8 = kde_J6.score_samples(s8.reshape(-1,1))"
   ]
  },
  {
   "cell_type": "code",
   "execution_count": null,
   "metadata": {},
   "outputs": [],
   "source": [
    "x2 = e2\n",
    "x3 = e3\n",
    "x4 = e4\n",
    "x5 = e5\n",
    "x6 = e6\n",
    "x7 = e7\n",
    "x8 = e8\n",
    "\n",
    "valleys2 = argrelmin(x2)[0]\n",
    "valleys3 = argrelmin(x3)[0]\n",
    "valleys4 = argrelmin(x4)[0]\n",
    "valleys5 = argrelmin(x5)[0]\n",
    "valleys6 = argrelmin(x6)[0]\n",
    "valleys7 = argrelmin(x7)[0]\n",
    "valleys8 = argrelmin(x8)[0]\n",
    "\n",
    "ord2 = np.argsort(np.abs(np.diff(x2[valleys2])))\n",
    "ord3 = np.argsort(np.abs(np.diff(x3[valleys3])))\n",
    "ord4 = np.argsort(np.abs(np.diff(x4[valleys4])))\n",
    "ord5 = np.argsort(np.abs(np.diff(x5[valleys5])))\n",
    "ord6 = np.argsort(np.abs(np.diff(x6[valleys6])))\n",
    "ord7 = np.argsort(np.abs(np.diff(x7[valleys7])))\n",
    "ord8 = np.argsort(np.abs(np.diff(x8[valleys8])))\n",
    "\n",
    "ordValleys_J2 = np.flip(ord2)+1\n",
    "ordValleys_J3 = np.flip(ord3)+1\n",
    "ordValleys_J4 = np.flip(ord4)+1\n",
    "ordValleys_J5 = np.flip(ord5)+1\n",
    "ordValleys_J6 = np.flip(ord6)+1\n",
    "ordValleys_J7 = np.flip(ord7)+1\n",
    "ordValleys_J8 = np.flip(ord8)+1"
   ]
  },
  {
   "cell_type": "code",
   "execution_count": null,
   "metadata": {},
   "outputs": [],
   "source": [
    "#Referente ao J2\n",
    "\n",
    "plt.figure(figsize=(20, 12))\n",
    "plt.title(\"Vales dos Kernels | J2 Costa\", fontsize=22)\n",
    "plt.ylabel(\"Densidade\", fontsize=16)\n",
    "plt.xlabel(\"Posição assumida por J2 Costa\", fontsize=16)\n",
    "plt.grid(True)\n",
    "plt.plot(x2)\n",
    "plt.plot(valleys2, x2[valleys2], 'o')\n",
    "plt.plot(valleys2[ordValleys_J2[0:4]], x2[valleys2[ordValleys_J2[0:4]]], '*', c='green')\n",
    "plt.show()\n",
    "\n",
    "print(valleys2)"
   ]
  },
  {
   "cell_type": "code",
   "execution_count": null,
   "metadata": {},
   "outputs": [],
   "source": [
    "#Referente ao J3\n",
    "\n",
    "plt.figure(figsize=(20, 12))\n",
    "plt.title(\"Vales dos Kernels | J3 Costa\", fontsize=22)\n",
    "plt.ylabel(\"Densidade\", fontsize=16)\n",
    "plt.xlabel(\"Posição assumida por J3 Costa\", fontsize=16)\n",
    "plt.grid(True)\n",
    "plt.plot(x3)\n",
    "plt.plot(valleys3, x3[valleys3], 'o')\n",
    "plt.plot(valleys3[ordValleys_J3[0:4]], x3[valleys3[ordValleys_J3[0:4]]], '*', c='green')\n",
    "plt.show()\n",
    "\n",
    "print(valleys3)"
   ]
  },
  {
   "cell_type": "code",
   "execution_count": null,
   "metadata": {},
   "outputs": [],
   "source": [
    "#Referente ao J4\n",
    "\n",
    "plt.figure(figsize=(20, 12))\n",
    "plt.title(\"Vales dos Kernels | J4 Costa\", fontsize=22)\n",
    "plt.ylabel(\"Densidade\", fontsize=16)\n",
    "plt.xlabel(\"Posição assumida por J4 Costa\", fontsize=16)\n",
    "plt.grid(True)\n",
    "plt.plot(x4)\n",
    "plt.plot(valleys4, x4[valleys4], 'o')\n",
    "plt.plot(valleys4[ordValleys_J4[0:4]], x4[valleys4[ordValleys_J4[0:4]]], '*', c='green')\n",
    "plt.show()\n",
    "\n",
    "print(valleys4)"
   ]
  },
  {
   "cell_type": "code",
   "execution_count": null,
   "metadata": {},
   "outputs": [],
   "source": [
    "#Referente ao J5\n",
    "\n",
    "plt.figure(figsize=(20, 12))\n",
    "plt.title(\"Vales dos Kernels | J5 Costa\", fontsize=22)\n",
    "plt.ylabel(\"Densidade\", fontsize=16)\n",
    "plt.xlabel(\"Posição assumida por J5 Costa\", fontsize=16)\n",
    "plt.grid(True)\n",
    "plt.plot(x5)\n",
    "plt.plot(valleys5, x5[valleys5], 'o')\n",
    "plt.plot(valleys5[ordValleys_J5[0:4]], x5[valleys5[ordValleys_J5[0:4]]], '*', c='green')\n",
    "plt.show()\n",
    "\n",
    "print(valleys5)"
   ]
  },
  {
   "cell_type": "code",
   "execution_count": null,
   "metadata": {},
   "outputs": [],
   "source": [
    "#Referente ao J6\n",
    "\n",
    "plt.figure(figsize=(20, 12))\n",
    "plt.title(\"Vales dos Kernels | J6 Costa\", fontsize=22)\n",
    "plt.ylabel(\"Densidade\", fontsize=16)\n",
    "plt.xlabel(\"Posição assumida por J6 Costa\", fontsize=16)\n",
    "plt.grid(True)\n",
    "plt.plot(x6)\n",
    "plt.plot(valleys6, x6[valleys6], 'o')\n",
    "plt.plot(valleys6[ordValleys_J6[0:4]], x6[valleys6[ordValleys_J6[0:4]]], '*', c='green')\n",
    "plt.show()\n",
    "\n",
    "print(valleys6)"
   ]
  },
  {
   "cell_type": "code",
   "execution_count": null,
   "metadata": {},
   "outputs": [],
   "source": [
    "#Referente ao J7\n",
    "\n",
    "plt.figure(figsize=(20, 12))\n",
    "plt.title(\"Vales dos Kernels | J6 Costa\", fontsize=22)\n",
    "plt.ylabel(\"Densidade\", fontsize=16)\n",
    "plt.xlabel(\"Posição assumida por J6 Costa\", fontsize=16)\n",
    "plt.grid(True)\n",
    "plt.plot(x7)\n",
    "plt.plot(valleys7, x7[valleys7], 'o')\n",
    "plt.plot(valleys7[ordValleys_J7[0:4]], x7[valleys7[ordValleys_J7[0:4]]], '*', c='green')\n",
    "plt.show()\n",
    "\n",
    "print(valleys7)"
   ]
  },
  {
   "cell_type": "code",
   "execution_count": null,
   "metadata": {},
   "outputs": [],
   "source": [
    "#Referente ao J8\n",
    "\n",
    "plt.figure(figsize=(20, 12))\n",
    "plt.title(\"Vales dos Kernels | J8 Costa\", fontsize=22)\n",
    "plt.ylabel(\"Densidade\", fontsize=16)\n",
    "plt.xlabel(\"Posição assumida por J8 Costa\", fontsize=16)\n",
    "plt.grid(True)\n",
    "plt.plot(x8)\n",
    "plt.plot(valleys8, x8[valleys8], 'o')\n",
    "plt.plot(valleys8[ordValleys_J8[0:4]], x8[valleys8[ordValleys_J8[0:4]]], '*', c='green')\n",
    "plt.show()\n",
    "\n",
    "print(valleys8)"
   ]
  }
 ],
 "metadata": {
  "interpreter": {
   "hash": "d5e647a0fc3dbcf9eddea2adab39920c93a0982dc82225eeb57e3a95430c0214"
  },
  "kernelspec": {
   "display_name": "Python 3.9.6 64-bit",
   "language": "python",
   "name": "python3"
  },
  "language_info": {
   "codemirror_mode": {
    "name": "ipython",
    "version": 3
   },
   "file_extension": ".py",
   "mimetype": "text/x-python",
   "name": "python",
   "nbconvert_exporter": "python",
   "pygments_lexer": "ipython3",
   "version": "3.9.6"
  },
  "orig_nbformat": 4
 },
 "nbformat": 4,
 "nbformat_minor": 2
}
