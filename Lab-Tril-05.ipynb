{
 "cells": [
  {
   "cell_type": "markdown",
   "metadata": {},
   "source": [
    "# Lab. TRIL - Net Zero"
   ]
  },
  {
   "cell_type": "markdown",
   "metadata": {},
   "source": [
    "Engenharia Computacional para a Emissão Zero no Setor de Óleo e Gás"
   ]
  },
  {
   "cell_type": "markdown",
   "metadata": {},
   "source": [
    "## Introdução "
   ]
  },
  {
   "cell_type": "markdown",
   "metadata": {},
   "source": [
    "Esse é um programa que realiza um processo de leitura, processamento e análise de um conjunto de dados de um reservatório, para encontrar classes de injetividade apresentadas com análise de gráfico.\n",
    "\n",
    "As funcões a serem desenvolvidas são:\n",
    "* read_df (recebe inputs csv ou df)\n",
    "* calc_j (de J para J normalizado)\n",
    "* proc (KDE e Bayesian Blocks)\n",
    "* class (encontrar os pontos e classes)\n",
    "* graf_j (analise dos graficos )\n",
    "\n",
    "Esse projeto é desenvolvido por:<br>"
   ]
  },
  {
   "cell_type": "markdown",
   "metadata": {},
   "source": [
    "### Bibliotecas"
   ]
  },
  {
   "cell_type": "code",
<<<<<<< HEAD
   "execution_count": 6,
=======
   "execution_count": 1,
>>>>>>> 2e0251a01f471036fb2007f7e6cfe5c126577765
   "metadata": {},
   "outputs": [],
   "source": [
    "import pandas as pd\n",
    "import numpy as np\n",
    "import seaborn as sns\n",
    "import matplotlib.pyplot as plt"
   ]
  },
  {
   "cell_type": "code",
<<<<<<< HEAD
   "execution_count": 7,
=======
   "execution_count": 2,
>>>>>>> 2e0251a01f471036fb2007f7e6cfe5c126577765
   "metadata": {},
   "outputs": [],
   "source": [
    "import warnings\n",
    "\n",
    "#Serve para ignorar os 'red warnings' que algumas bibliotecas apontam porque tem novas versoes de implementacao\n",
    "warnings.filterwarnings('ignore') "
   ]
  },
  {
   "cell_type": "markdown",
   "metadata": {},
   "source": [
    "## 1 - Preparação de Files "
   ]
  },
  {
   "cell_type": "markdown",
   "metadata": {},
   "source": [
    "Essas funções devem receber arquivos csv (em uma formatação pré-estabelecida) que serem lidos, checados e iniciados.<br>\n",
    "Os arquivos precisam:\n",
    "* ter colunas nomeadas (de preferência em ordem alfabética)\n",
    "* não ter valores NAN"
   ]
  },
  {
   "cell_type": "code",
<<<<<<< HEAD
   "execution_count": 8,
=======
   "execution_count": 3,
>>>>>>> 2e0251a01f471036fb2007f7e6cfe5c126577765
   "metadata": {},
   "outputs": [],
   "source": [
    "'''função de leitura do arquivo csv para df'''\n",
    "\n",
    "def read_df(arq):\n",
    "    #leitura pelo pandas\n",
    "    df = arq           \n",
    "    #limpeza (valores NAN)\n",
    "    if any(df.isna()):\n",
    "        print(\"df com valores NAN\")\n",
    "        for i in df:\n",
    "            df = df.fillna(0)\n",
    "        print(\"df corrigido, não mais possui valores NAN\")\n",
    "    \n",
    "    return df"
   ]
  },
  {
   "cell_type": "code",
<<<<<<< HEAD
   "execution_count": 9,
=======
   "execution_count": 4,
>>>>>>> 2e0251a01f471036fb2007f7e6cfe5c126577765
   "metadata": {},
   "outputs": [],
   "source": [
    "'''função de checagem de keys em dataframe '''\n",
    "\n",
    "def checking(df):\n",
    "\n",
    "    #recebe função de leitura\n",
    "    df = read_df(df)\n",
    "\n",
    "    #verificando se falta alguma coluna\n",
    "    lista_primarias = ['RQI','pressao','pressao_inversa','distancia','permeabilidade','porosidade']\n",
    "    lista_Js = ['J1', 'J2', 'J3', 'J4', 'J5', 'J6', 'J7', 'J8']  \n",
    "    \n",
    "    for i in df.keys(): \n",
    "        if lista_primarias.count(i) == 0 and lista_Js.count(i) == 0:\n",
    "            raise KeyError(f'variavel {i} não identificada')                      \n",
    "            \n",
    "        \n",
    "    return df"
   ]
  },
  {
   "cell_type": "markdown",
   "metadata": {},
   "source": [
    "## 2 - Calculo dos J's"
   ]
  },
  {
   "cell_type": "code",
<<<<<<< HEAD
   "execution_count": 10,
=======
   "execution_count": 6,
>>>>>>> 2e0251a01f471036fb2007f7e6cfe5c126577765
   "metadata": {},
   "outputs": [],
   "source": [
    "def normaliza_J (df, J, norm=False):\n",
    "    \n",
    "    #recebendo função de checagem\n",
    "    df = checking(df)\n",
    "    \n",
    "    #atribuição        \n",
    "    for j in J: \n",
    "              \n",
    "        if j == 'J1':\n",
    "            J1 = df['RQI']\n",
    "            df['J1'] = J1\n",
    "            normaliza_(df, j, norm)\n",
    "                    \n",
    "        if j == 'J2':\n",
    "            J2 = df['RQI']*df['pressao']\n",
    "            df['J2'] = J2\n",
    "            normaliza_(df, j, norm)\n",
    "\n",
    "        if j == 'J3':\n",
    "            J3 = df['RQI']*df['pressao_inversa']\n",
    "            df['J3'] = J3\n",
    "            normaliza_(df, j, norm)\n",
    "                            \n",
    "        if j == 'J4':\n",
    "            #para evitar resultados infinitos\n",
    "            aux = np.log(df['distancia']) #calc do log(0 ind, 1 inf)\n",
    "            #mascara \n",
    "            aux[np.isinf(aux)] = 0 \n",
    "            aux[np.isnan(aux)] = 0\n",
    "            aux[aux < 0] = 0\n",
    "\n",
    "            J4 = df['RQI'] * df['pressao'] * aux      \n",
    "            df['J4'] = J4\n",
    "            normaliza_(df, j, norm)\n",
    "\n",
    "        if j == 'J5':\n",
<<<<<<< HEAD
    "\n",
    "            #para evitar resultados infinitos\n",
    "            aux = np.log(df['distancia']) #calc do log(0 ind, 1 inf)\n",
    "            #mascara \n",
    "            aux[np.isinf(aux)] = 0 \n",
    "            aux[np.isnan(aux)] = 0\n",
    "            aux[aux < 0] = 0\n",
    "\n",
=======
    "\n",
    "            #para evitar resultados infinitos\n",
    "            aux = np.log(df['distancia']) #calc do log(0 ind, 1 inf)\n",
    "            #mascara \n",
    "            aux[np.isinf(aux)] = 0 \n",
    "            aux[np.isnan(aux)] = 0\n",
    "            aux[aux < 0] = 0\n",
    "\n",
>>>>>>> 2e0251a01f471036fb2007f7e6cfe5c126577765
    "            J5 = df['RQI'] * df['pressao_inversa'] * aux\n",
    "            df['J5'] = J5\n",
    "            normaliza_(df, j, norm)\n",
    "        \n",
    "        if j == 'J6':\n",
    "\n",
    "            #para evitar resultados infinitos\n",
    "            aux = np.log(df['distancia']) #calc do log(0 ind, 1 inf)\n",
    "            #mascara \n",
    "            aux[np.isinf(aux)] = 0 \n",
    "            aux[np.isnan(aux)] = 0\n",
    "            aux[aux < 0] = 0\n",
    "\n",
    "            J6 = df['permeabilidade'] * df['porosidade'] * aux\n",
    "            df['J6'] = J6\n",
    "            normaliza_(df, j, norm)  \n",
    "\n",
    "    return df\n",
    "\n",
    "def normaliza_(df, col, norm):\n",
    "    if norm == True:   \n",
    "        df[f'{col}_normalizado'] = (df[col] - min(df[col])) / (max(df[col]) - min(df[col]))"
   ]
  },
  {
   "cell_type": "markdown",
   "metadata": {},
   "source": [
    "## 3- Processamento Binning <br> (Bayesian Blocks ou KDE)\n",
    "<br/>\n",
    "A classe binning é responsável por processar os dados em KDE ou Bayesian Blocks"
   ]
  },
  {
   "cell_type": "code",
<<<<<<< HEAD
   "execution_count": 16,
=======
   "execution_count": 12,
>>>>>>> 2e0251a01f471036fb2007f7e6cfe5c126577765
   "metadata": {},
   "outputs": [],
   "source": [
    "class binning():\n",
    "\n",
    "        #método construtor\n",
    "        def __init__(self) -> None:\n",
    "            pass\n",
    "    \n",
    "        def proc_binning(df, J, binning): #recebe o df e o tipo de binning \n",
    "\n",
    "            if binning == 'kde':\n",
    "                \n",
    "                '''Bibliotecas'''\n",
    "\n",
    "                from numpy import array, linspace\n",
    "                from sklearn.neighbors import KernelDensity\n",
    "                from scipy.misc import electrocardiogram\n",
    "                from scipy.signal import argrelmin, find_peaks\n",
    "                from sklearn.model_selection import GridSearchCV, LeaveOneOut\n",
    "                import scipy.integrate as integrate\n",
    "                \n",
    "                from keras.models import Sequential\n",
    "                from keras.layers import Dense\n",
    "                from keras.layers import Dropout\n",
    "                from keras.wrappers.scikit_learn import KerasClassifier\n",
    "                from keras.constraints import maxnorm\n",
    "                from keras.utils import np_utils\n",
    "                #PARA PICOS\n",
    "                from scipy.misc import electrocardiogram\n",
    "                from scipy.signal import find_peaks\n",
    "                import numpy as np\n",
    "\n",
    "                #recebendo J normalizados\n",
    "\n",
    "                '''Calculo Bandwith''' \n",
    "\n",
    "                #encontrar as curvas com bandwidth ideal com validacao cruzada\n",
    "                for coluna in J:\n",
    "                    X = df[f'{coluna}'].values[::].reshape(-1, 1)\n",
    "\n",
    "                    bandwidth = 10 ** np.linspace(0.01, 0.05) \n",
    "                    grid = GridSearchCV(KernelDensity(), {'bandwidth': bandwidth},cv=LeaveOneOut())\n",
    "                    grid.fit(X) \n",
<<<<<<< HEAD
    "                    grid.best_params_\n",
    "                    print(grid.best_params_)\n",
    "                          \n",
    "                        \n",
=======
    "                    ideal_band = grid.best_params_\n",
    "                    print(ideal_band)\n",
    "                          \n",
    "                '''        \n",
>>>>>>> 2e0251a01f471036fb2007f7e6cfe5c126577765
    "                #Calculo KDE   \n",
    "\n",
    "                for coluna in J:\n",
    "                    min_i = 0\n",
    "                    max_i = df[f'{coluna}'].shape[0]#pega a dimensao da coluna \n",
    "                    aux = max_i - min_i\n",
    "\n",
<<<<<<< HEAD
    "                    kde= KernelDensity(bandwidth = 1.023292992280754).fit(X)\n",
    "                    dist = np.linspace(0, 1.0, aux) #retorna os pontos em uma distancia equidistante\n",
    "                    log = kde.score_samples(dist.reshape(-1,1)) #calcula a probabilidade logarítmica de cada amostra sob o modelo\n",
    "                    #e = kde.score_samples(X)\n",
=======
    "                    kde= KernelDensity(bandwidth = ideal_band).fit(X)\n",
    "                    dist = np.linspace(0, 1.0, aux) #retorna os pontos em uma distancia equidistante\n",
    "                    log = kde.score_samples(dist.reshape(-1,1)) #calcula a probabilidade logarítmica de cada amostra sob o modelo\n",
    "\n",
>>>>>>> 2e0251a01f471036fb2007f7e6cfe5c126577765
    "                    #Calculo das Particoes\n",
    "\n",
    "                    peaks = find_peaks(log, height=min(log)) # calcula os picos\n",
    "                    valleys = argrelmin(log)[0] #Calcula a minima relativa dos dados\n",
    "                    \n",
    "                    ord = np.argsort(np.abs(np.diff(log[valleys])))#Retorna os indices que classificam o array\n",
    "                    ordValleys_J = np.flip(ord)+1 #inverte a ordem do array\n",
<<<<<<< HEAD
    "\n",
    "                '''#Encontrando Classes \n",
=======
    "                    \n",
    "                    #retornar um dic \n",
    "\n",
    "                #Encontrando Classes \n",
>>>>>>> 2e0251a01f471036fb2007f7e6cfe5c126577765
    "                \n",
    "                for coluna in J:\n",
    "\n",
    "                    X = sorted(df[f'{coluna}'])                           \n",
    "                    minimo = min(X)\n",
    "                    classes = [minimo]\n",
    "                    for i in range(len(peaks)):\n",
<<<<<<< HEAD
    "                        classes.append(X(peaks[i]))                        \n",
    "                    classes.append(max(X))'''\n",
    "\n",
    "                #Calculo da Integral KDE\n",
    "\n",
    "                integral = integrate.trapezoid(np.exp(log),dist)\n",
    "                if 0.99 < integral < 1.01:\n",
    "                    print(f'A integral : {integral} é adequeada.')\n",
    "                else:\n",
    "                    print(f'A integral não está no intervalo correto: {integral}')\n",
    "                    raise KeyError(f'A integral precisa estar entre 0.99 e 1.01')\n",
    "\n",
    "                resultados_kde = []\n",
    "                resultados = [log, peaks, valleys, ord, ordValleys_J]\n",
    "                return resultados_kde   \n",
    "           \n",
    "\n",
    "            #Calculo Bayesian Blocks\n",
    "\n",
    "            if binning == 'bb':\n",
    "                from astropy.stats import bayesian_blocks\n",
    "                \n",
    "                resultados = {}\n",
    "\n",
    "                for coluna in df.columns:\n",
    "                    if coluna in df.columns[12::]:\n",
    "                        serie = df.query(f\"{coluna} > 0\")[coluna]\n",
    "                        resultados[coluna] = [serie, bayesian_blocks(serie)]\n",
    "\n",
    "            return resultados   \n",
    "            "
   ]
  },
  {
   "cell_type": "code",
   "execution_count": null,
   "metadata": {},
   "outputs": [],
   "source": [
    "'''Adição do padding '''\n",
    "\n",
    "def padding(df):\n",
    "\n",
=======
    "                        classes.append(X[peaks[i]])                        \n",
    "                    classes.append(max(X))\n",
    "\n",
    "                #Calculo da Integral KDE\n",
    "\n",
    "                integral = integrate.trapezoid(np.exp(log),dist)\n",
    "                if 0.99 < integral < 1.01:\n",
    "                    print(f'A integral : {integral} é adequeada.')\n",
    "                else:\n",
    "                    print(f'A integral não está no intervalo correto: {integral}')\n",
    "                    raise KeyError(f'A integral precisa estar entre 0.99 e 1.01')\n",
    "\n",
    "                return classes    \n",
    "           \n",
    "\n",
    "            #Calculo Bayesian Blocks\n",
    "\n",
    "            if binning == 'bb':\n",
    "                from astropy.stats import bayesian_blocks\n",
    "                \n",
    "                resultados = {}\n",
    "\n",
    "                for coluna in df.columns:\n",
    "                    if coluna in df.columns[12::]:\n",
    "                        serie = df.query(f\"{coluna} > 0\")[coluna]\n",
    "                        resultados[coluna] = [serie, bayesian_blocks(serie)]\n",
    "\n",
    "            return resultados   \n",
    "                '''  "
   ]
  },
  {
   "cell_type": "code",
   "execution_count": null,
   "metadata": {},
   "outputs": [],
   "source": [
    "'''Adição do padding '''\n",
    "\n",
    "def padding(df):\n",
    "\n",
>>>>>>> 2e0251a01f471036fb2007f7e6cfe5c126577765
    "    padDF = np.pad(df, (0.01, 0.01)) #para a melhor localização de pontos divisores de classe\n",
    "    return padDF\n",
    "    "
   ]
  },
  {
   "cell_type": "code",
   "execution_count": null,
   "metadata": {},
   "outputs": [],
   "source": [
    "#teste de integral\n",
    "#calculo da integral sobre o score_samples"
   ]
  },
  {
   "cell_type": "markdown",
   "metadata": {},
   "source": [
    "## 4 - Pickle"
   ]
  },
  {
   "cell_type": "code",
   "execution_count": null,
   "metadata": {},
   "outputs": [],
   "source": [
    "def pickle (df, fileout):\n",
    "    import pickle as pkl\n",
    "    \n"
   ]
  },
  {
   "cell_type": "markdown",
   "metadata": {},
   "source": [
    "### Graficos dos Binnings"
   ]
  },
  {
   "cell_type": "markdown",
   "metadata": {},
   "source": [
    "## 5 - Análise dos Gráficos"
   ]
  },
  {
   "cell_type": "code",
   "execution_count": null,
   "metadata": {},
   "outputs": [],
   "source": [
    "class graficos:\n",
    "\n",
    "    def grafico_kde(df, coluna):\n",
    "        \n",
    "        #df deve ser aquele resultante do processamento\n",
    "\n",
    "        plt.figure(figsize=(20, 12))\n",
    "        #adaptar para cada J\n",
    "        plt.title(\"Vales dos Kernels | J2 normalizado\", fontsize=22)\n",
    "        plt.ylabel(\"Densidade\", fontsize=16)\n",
    "        plt.xlabel(\"Posição assumida por J2 norm\", fontsize=16)\n",
    "        plt.grid(True)\n",
    "        #in a for\n",
    "        plt.plot(x)\n",
    "        plt.plot(valleys, x[valleys], 'o')\n",
    "        plt.plot(valleys[ordValleys_J[0:4]], x[valleys[ordValleys_J[0:4]]], '*', c='green')\n",
    "        plt.show()\n",
    "\n",
    "        for i in df:\n",
    "            print(valleys)\n",
    "\n",
    "    def grafico_bb(df, bins_bb, coluna):\n",
    "\n",
    "        #modificar labels para for\n",
    "        labels = {\n",
    "            \"J1_normalizado\" : \"RQI\",\n",
    "            \"J2_normalizado\" : \"RQI * Pressao\",\n",
    "            \"J3_normalizado\" : \"RQI * Pressao Inversa\",\n",
    "            \"J4_normalizado\" : \"RQI * Pressao * ln(distancia)\",\n",
    "            \"J5_normalizado\" : \"RQI * Pressao Inversa * ln(distancia)\", \n",
    "            \"J6_normalizado\" : \"Permeabilidade * Porosidade * ln(distancia)\",\n",
    "            \"J7_normalizado\" : \"ln(Permeabilidade) * ln(Porosidade) * ln(distancia)\"\n",
    "        }\n",
    "        \n",
    "        ax = plt.figure(figsize=(20, 12))\n",
    "        ax = plt.title(f\"Histograma '{coluna} = {labels[coluna]}' utilizando blocos bayesianos\", fontsize = 24)\n",
    "        ax = plt.xlabel(\"X\", fontsize = 18)\n",
    "        ax = plt.ylabel(\"Y\", fontsize = 18)\n",
    "        ax = plt.hist(df, bins = bins_bb, color='g')\n",
    "        ax = plt.grid(True)\n",
    "        plt.savefig(f'./dados/Analise de Js/{coluna}.jpeg', format='jpeg')\n",
    "        plt.show(ax)"
   ]
  },
  {
   "cell_type": "markdown",
   "metadata": {},
   "source": [
    "## 6 - Menu"
   ]
  },
  {
   "cell_type": "markdown",
   "metadata": {},
   "source": [
    "Aqui vamos chamar o pipeline e apresentar opções ao usuário chamando as funções"
   ]
  },
  {
   "cell_type": "code",
   "execution_count": null,
   "metadata": {},
   "outputs": [],
   "source": [
    "print(' TRIL - NetZero '.center(30,'*'))\n",
    "print(' Bem Vindo '.center(30,'*'))"
   ]
  },
  {
   "cell_type": "code",
   "execution_count": 18,
   "metadata": {},
   "outputs": [],
   "source": [
    "#arq = str(print(\"Insira o caminho para o arquivo: \")) #recebemos o csv\n",
    "\n",
<<<<<<< HEAD
    "#arq = pd.read_csv(\"./dados/Simplificados/J1_reduzido.csv\") #valor J1\n",
    "arq = pd.read_csv(\"./dados/variaveis.csv\")"
=======
    "arq = pd.read_csv(\"./dados/Simplificados/J1_reduzido.csv\") #valor J1\n",
    "#arq = pd.read_csv(\"./dados/variaveis.csv\")"
>>>>>>> 2e0251a01f471036fb2007f7e6cfe5c126577765
   ]
  },
  {
   "cell_type": "code",
   "execution_count": 97,
   "metadata": {},
   "outputs": [
    {
     "name": "stdout",
     "output_type": "stream",
     "text": [
      "            RQI  pressao_inversa  pressao  porosidade  permeabilidade  \\\n",
      "0      0.112898           4543.9   4608.2    0.062768         0.81143   \n",
      "1      0.085400           4548.2   4604.2    0.050000         0.36985   \n",
      "2      0.088106           4552.9   4600.0    0.050000         0.39366   \n",
      "3      0.086471           4557.9   4595.6    0.050000         0.37919   \n",
      "4      0.088106           4563.0   4590.9    0.050000         0.39366   \n",
      "...         ...              ...      ...         ...             ...   \n",
      "85927  0.064116           4597.3   4560.3    0.112380         0.46856   \n",
      "85928  0.065263           4602.9   4555.2    0.108470         0.46856   \n",
      "85929  0.066356           4608.3   4550.4    0.104920         0.46856   \n",
      "85930  0.039787           4613.5   4545.7    0.107880         0.17321   \n",
      "85931  0.038431           4618.7   4541.1    0.115630         0.17321   \n",
      "\n",
      "       distancia  \n",
      "0            0.0  \n",
      "1            0.0  \n",
      "2            0.0  \n",
      "3            0.0  \n",
      "4            0.0  \n",
      "...          ...  \n",
      "85927        0.0  \n",
      "85928        0.0  \n",
      "85929        0.0  \n",
      "85930        0.0  \n",
      "85931        0.0  \n",
      "\n",
      "[85932 rows x 6 columns]\n",
      "df com valores NAN\n",
      "df corrigido, não mais possui valores NAN\n"
     ]
    },
    {
     "data": {
      "text/html": [
       "<div>\n",
       "<style scoped>\n",
       "    .dataframe tbody tr th:only-of-type {\n",
       "        vertical-align: middle;\n",
       "    }\n",
       "\n",
       "    .dataframe tbody tr th {\n",
       "        vertical-align: top;\n",
       "    }\n",
       "\n",
       "    .dataframe thead th {\n",
       "        text-align: right;\n",
       "    }\n",
       "</style>\n",
       "<table border=\"1\" class=\"dataframe\">\n",
       "  <thead>\n",
       "    <tr style=\"text-align: right;\">\n",
       "      <th></th>\n",
       "      <th>RQI</th>\n",
       "      <th>pressao_inversa</th>\n",
       "      <th>pressao</th>\n",
       "      <th>porosidade</th>\n",
       "      <th>permeabilidade</th>\n",
       "      <th>distancia</th>\n",
       "    </tr>\n",
       "  </thead>\n",
       "  <tbody>\n",
       "    <tr>\n",
       "      <th>0</th>\n",
       "      <td>0.112898</td>\n",
       "      <td>4543.9</td>\n",
       "      <td>4608.2</td>\n",
       "      <td>0.062768</td>\n",
       "      <td>0.81143</td>\n",
       "      <td>0.0</td>\n",
       "    </tr>\n",
       "    <tr>\n",
       "      <th>1</th>\n",
       "      <td>0.085400</td>\n",
       "      <td>4548.2</td>\n",
       "      <td>4604.2</td>\n",
       "      <td>0.050000</td>\n",
       "      <td>0.36985</td>\n",
       "      <td>0.0</td>\n",
       "    </tr>\n",
       "    <tr>\n",
       "      <th>2</th>\n",
       "      <td>0.088106</td>\n",
       "      <td>4552.9</td>\n",
       "      <td>4600.0</td>\n",
       "      <td>0.050000</td>\n",
       "      <td>0.39366</td>\n",
       "      <td>0.0</td>\n",
       "    </tr>\n",
       "    <tr>\n",
       "      <th>3</th>\n",
       "      <td>0.086471</td>\n",
       "      <td>4557.9</td>\n",
       "      <td>4595.6</td>\n",
       "      <td>0.050000</td>\n",
       "      <td>0.37919</td>\n",
       "      <td>0.0</td>\n",
       "    </tr>\n",
       "    <tr>\n",
       "      <th>4</th>\n",
       "      <td>0.088106</td>\n",
       "      <td>4563.0</td>\n",
       "      <td>4590.9</td>\n",
       "      <td>0.050000</td>\n",
       "      <td>0.39366</td>\n",
       "      <td>0.0</td>\n",
       "    </tr>\n",
       "    <tr>\n",
       "      <th>...</th>\n",
       "      <td>...</td>\n",
       "      <td>...</td>\n",
       "      <td>...</td>\n",
       "      <td>...</td>\n",
       "      <td>...</td>\n",
       "      <td>...</td>\n",
       "    </tr>\n",
       "    <tr>\n",
       "      <th>85927</th>\n",
       "      <td>0.064116</td>\n",
       "      <td>4597.3</td>\n",
       "      <td>4560.3</td>\n",
       "      <td>0.112380</td>\n",
       "      <td>0.46856</td>\n",
       "      <td>0.0</td>\n",
       "    </tr>\n",
       "    <tr>\n",
       "      <th>85928</th>\n",
       "      <td>0.065263</td>\n",
       "      <td>4602.9</td>\n",
       "      <td>4555.2</td>\n",
       "      <td>0.108470</td>\n",
       "      <td>0.46856</td>\n",
       "      <td>0.0</td>\n",
       "    </tr>\n",
       "    <tr>\n",
       "      <th>85929</th>\n",
       "      <td>0.066356</td>\n",
       "      <td>4608.3</td>\n",
       "      <td>4550.4</td>\n",
       "      <td>0.104920</td>\n",
       "      <td>0.46856</td>\n",
       "      <td>0.0</td>\n",
       "    </tr>\n",
       "    <tr>\n",
       "      <th>85930</th>\n",
       "      <td>0.039787</td>\n",
       "      <td>4613.5</td>\n",
       "      <td>4545.7</td>\n",
       "      <td>0.107880</td>\n",
       "      <td>0.17321</td>\n",
       "      <td>0.0</td>\n",
       "    </tr>\n",
       "    <tr>\n",
       "      <th>85931</th>\n",
       "      <td>0.038431</td>\n",
       "      <td>4618.7</td>\n",
       "      <td>4541.1</td>\n",
       "      <td>0.115630</td>\n",
       "      <td>0.17321</td>\n",
       "      <td>0.0</td>\n",
       "    </tr>\n",
       "  </tbody>\n",
       "</table>\n",
       "<p>85932 rows × 6 columns</p>\n",
       "</div>"
      ],
      "text/plain": [
       "            RQI  pressao_inversa  pressao  porosidade  permeabilidade  \\\n",
       "0      0.112898           4543.9   4608.2    0.062768         0.81143   \n",
       "1      0.085400           4548.2   4604.2    0.050000         0.36985   \n",
       "2      0.088106           4552.9   4600.0    0.050000         0.39366   \n",
       "3      0.086471           4557.9   4595.6    0.050000         0.37919   \n",
       "4      0.088106           4563.0   4590.9    0.050000         0.39366   \n",
       "...         ...              ...      ...         ...             ...   \n",
       "85927  0.064116           4597.3   4560.3    0.112380         0.46856   \n",
       "85928  0.065263           4602.9   4555.2    0.108470         0.46856   \n",
       "85929  0.066356           4608.3   4550.4    0.104920         0.46856   \n",
       "85930  0.039787           4613.5   4545.7    0.107880         0.17321   \n",
       "85931  0.038431           4618.7   4541.1    0.115630         0.17321   \n",
       "\n",
       "       distancia  \n",
       "0            0.0  \n",
       "1            0.0  \n",
       "2            0.0  \n",
       "3            0.0  \n",
       "4            0.0  \n",
       "...          ...  \n",
       "85927        0.0  \n",
       "85928        0.0  \n",
       "85929        0.0  \n",
       "85930        0.0  \n",
       "85931        0.0  \n",
       "\n",
       "[85932 rows x 6 columns]"
      ]
     },
     "execution_count": 97,
     "metadata": {},
     "output_type": "execute_result"
    }
   ],
   "source": [
    "#chamando a funçao de preparação\n",
    "read_df(arq)"
   ]
  },
  {
   "cell_type": "code",
   "execution_count": 98,
<<<<<<< HEAD
=======
   "metadata": {},
   "outputs": [
    {
     "name": "stdout",
     "output_type": "stream",
     "text": [
      "            RQI  pressao_inversa  pressao  porosidade  permeabilidade  \\\n",
      "0      0.112898           4543.9   4608.2    0.062768         0.81143   \n",
      "1      0.085400           4548.2   4604.2    0.050000         0.36985   \n",
      "2      0.088106           4552.9   4600.0    0.050000         0.39366   \n",
      "3      0.086471           4557.9   4595.6    0.050000         0.37919   \n",
      "4      0.088106           4563.0   4590.9    0.050000         0.39366   \n",
      "...         ...              ...      ...         ...             ...   \n",
      "85927  0.064116           4597.3   4560.3    0.112380         0.46856   \n",
      "85928  0.065263           4602.9   4555.2    0.108470         0.46856   \n",
      "85929  0.066356           4608.3   4550.4    0.104920         0.46856   \n",
      "85930  0.039787           4613.5   4545.7    0.107880         0.17321   \n",
      "85931  0.038431           4618.7   4541.1    0.115630         0.17321   \n",
      "\n",
      "       distancia  \n",
      "0            0.0  \n",
      "1            0.0  \n",
      "2            0.0  \n",
      "3            0.0  \n",
      "4            0.0  \n",
      "...          ...  \n",
      "85927        0.0  \n",
      "85928        0.0  \n",
      "85929        0.0  \n",
      "85930        0.0  \n",
      "85931        0.0  \n",
      "\n",
      "[85932 rows x 6 columns]\n",
      "df com valores NAN\n",
      "df corrigido, não mais possui valores NAN\n"
     ]
    },
    {
     "data": {
      "text/html": [
       "<div>\n",
       "<style scoped>\n",
       "    .dataframe tbody tr th:only-of-type {\n",
       "        vertical-align: middle;\n",
       "    }\n",
       "\n",
       "    .dataframe tbody tr th {\n",
       "        vertical-align: top;\n",
       "    }\n",
       "\n",
       "    .dataframe thead th {\n",
       "        text-align: right;\n",
       "    }\n",
       "</style>\n",
       "<table border=\"1\" class=\"dataframe\">\n",
       "  <thead>\n",
       "    <tr style=\"text-align: right;\">\n",
       "      <th></th>\n",
       "      <th>RQI</th>\n",
       "      <th>pressao_inversa</th>\n",
       "      <th>pressao</th>\n",
       "      <th>porosidade</th>\n",
       "      <th>permeabilidade</th>\n",
       "      <th>distancia</th>\n",
       "    </tr>\n",
       "  </thead>\n",
       "  <tbody>\n",
       "    <tr>\n",
       "      <th>0</th>\n",
       "      <td>0.112898</td>\n",
       "      <td>4543.9</td>\n",
       "      <td>4608.2</td>\n",
       "      <td>0.062768</td>\n",
       "      <td>0.81143</td>\n",
       "      <td>0.0</td>\n",
       "    </tr>\n",
       "    <tr>\n",
       "      <th>1</th>\n",
       "      <td>0.085400</td>\n",
       "      <td>4548.2</td>\n",
       "      <td>4604.2</td>\n",
       "      <td>0.050000</td>\n",
       "      <td>0.36985</td>\n",
       "      <td>0.0</td>\n",
       "    </tr>\n",
       "    <tr>\n",
       "      <th>2</th>\n",
       "      <td>0.088106</td>\n",
       "      <td>4552.9</td>\n",
       "      <td>4600.0</td>\n",
       "      <td>0.050000</td>\n",
       "      <td>0.39366</td>\n",
       "      <td>0.0</td>\n",
       "    </tr>\n",
       "    <tr>\n",
       "      <th>3</th>\n",
       "      <td>0.086471</td>\n",
       "      <td>4557.9</td>\n",
       "      <td>4595.6</td>\n",
       "      <td>0.050000</td>\n",
       "      <td>0.37919</td>\n",
       "      <td>0.0</td>\n",
       "    </tr>\n",
       "    <tr>\n",
       "      <th>4</th>\n",
       "      <td>0.088106</td>\n",
       "      <td>4563.0</td>\n",
       "      <td>4590.9</td>\n",
       "      <td>0.050000</td>\n",
       "      <td>0.39366</td>\n",
       "      <td>0.0</td>\n",
       "    </tr>\n",
       "    <tr>\n",
       "      <th>...</th>\n",
       "      <td>...</td>\n",
       "      <td>...</td>\n",
       "      <td>...</td>\n",
       "      <td>...</td>\n",
       "      <td>...</td>\n",
       "      <td>...</td>\n",
       "    </tr>\n",
       "    <tr>\n",
       "      <th>85927</th>\n",
       "      <td>0.064116</td>\n",
       "      <td>4597.3</td>\n",
       "      <td>4560.3</td>\n",
       "      <td>0.112380</td>\n",
       "      <td>0.46856</td>\n",
       "      <td>0.0</td>\n",
       "    </tr>\n",
       "    <tr>\n",
       "      <th>85928</th>\n",
       "      <td>0.065263</td>\n",
       "      <td>4602.9</td>\n",
       "      <td>4555.2</td>\n",
       "      <td>0.108470</td>\n",
       "      <td>0.46856</td>\n",
       "      <td>0.0</td>\n",
       "    </tr>\n",
       "    <tr>\n",
       "      <th>85929</th>\n",
       "      <td>0.066356</td>\n",
       "      <td>4608.3</td>\n",
       "      <td>4550.4</td>\n",
       "      <td>0.104920</td>\n",
       "      <td>0.46856</td>\n",
       "      <td>0.0</td>\n",
       "    </tr>\n",
       "    <tr>\n",
       "      <th>85930</th>\n",
       "      <td>0.039787</td>\n",
       "      <td>4613.5</td>\n",
       "      <td>4545.7</td>\n",
       "      <td>0.107880</td>\n",
       "      <td>0.17321</td>\n",
       "      <td>0.0</td>\n",
       "    </tr>\n",
       "    <tr>\n",
       "      <th>85931</th>\n",
       "      <td>0.038431</td>\n",
       "      <td>4618.7</td>\n",
       "      <td>4541.1</td>\n",
       "      <td>0.115630</td>\n",
       "      <td>0.17321</td>\n",
       "      <td>0.0</td>\n",
       "    </tr>\n",
       "  </tbody>\n",
       "</table>\n",
       "<p>85932 rows × 6 columns</p>\n",
       "</div>"
      ],
      "text/plain": [
       "            RQI  pressao_inversa  pressao  porosidade  permeabilidade  \\\n",
       "0      0.112898           4543.9   4608.2    0.062768         0.81143   \n",
       "1      0.085400           4548.2   4604.2    0.050000         0.36985   \n",
       "2      0.088106           4552.9   4600.0    0.050000         0.39366   \n",
       "3      0.086471           4557.9   4595.6    0.050000         0.37919   \n",
       "4      0.088106           4563.0   4590.9    0.050000         0.39366   \n",
       "...         ...              ...      ...         ...             ...   \n",
       "85927  0.064116           4597.3   4560.3    0.112380         0.46856   \n",
       "85928  0.065263           4602.9   4555.2    0.108470         0.46856   \n",
       "85929  0.066356           4608.3   4550.4    0.104920         0.46856   \n",
       "85930  0.039787           4613.5   4545.7    0.107880         0.17321   \n",
       "85931  0.038431           4618.7   4541.1    0.115630         0.17321   \n",
       "\n",
       "       distancia  \n",
       "0            0.0  \n",
       "1            0.0  \n",
       "2            0.0  \n",
       "3            0.0  \n",
       "4            0.0  \n",
       "...          ...  \n",
       "85927        0.0  \n",
       "85928        0.0  \n",
       "85929        0.0  \n",
       "85930        0.0  \n",
       "85931        0.0  \n",
       "\n",
       "[85932 rows x 6 columns]"
      ]
     },
     "execution_count": 98,
     "metadata": {},
     "output_type": "execute_result"
    }
   ],
   "source": [
    "checking(arq)"
   ]
  },
  {
   "cell_type": "code",
   "execution_count": 9,
   "metadata": {},
   "outputs": [
    {
     "name": "stdout",
     "output_type": "stream",
     "text": [
      "df com valores NAN\n",
      "df corrigido, não mais possui valores NAN\n"
     ]
    },
    {
     "ename": "KeyError",
     "evalue": "'RQI'",
     "output_type": "error",
     "traceback": [
      "\u001b[1;31m---------------------------------------------------------------------------\u001b[0m",
      "\u001b[1;31mKeyError\u001b[0m                                  Traceback (most recent call last)",
      "File \u001b[1;32mc:\\Users\\Yhasmim\\miniconda3\\envs\\tril\\lib\\site-packages\\pandas\\core\\indexes\\base.py:3803\u001b[0m, in \u001b[0;36mIndex.get_loc\u001b[1;34m(self, key, method, tolerance)\u001b[0m\n\u001b[0;32m   <a href='file:///c%3A/Users/Yhasmim/miniconda3/envs/tril/lib/site-packages/pandas/core/indexes/base.py?line=3801'>3802</a>\u001b[0m \u001b[39mtry\u001b[39;00m:\n\u001b[1;32m-> <a href='file:///c%3A/Users/Yhasmim/miniconda3/envs/tril/lib/site-packages/pandas/core/indexes/base.py?line=3802'>3803</a>\u001b[0m     \u001b[39mreturn\u001b[39;00m \u001b[39mself\u001b[39;49m\u001b[39m.\u001b[39;49m_engine\u001b[39m.\u001b[39;49mget_loc(casted_key)\n\u001b[0;32m   <a href='file:///c%3A/Users/Yhasmim/miniconda3/envs/tril/lib/site-packages/pandas/core/indexes/base.py?line=3803'>3804</a>\u001b[0m \u001b[39mexcept\u001b[39;00m \u001b[39mKeyError\u001b[39;00m \u001b[39mas\u001b[39;00m err:\n",
      "File \u001b[1;32mc:\\Users\\Yhasmim\\miniconda3\\envs\\tril\\lib\\site-packages\\pandas\\_libs\\index.pyx:138\u001b[0m, in \u001b[0;36mpandas._libs.index.IndexEngine.get_loc\u001b[1;34m()\u001b[0m\n",
      "File \u001b[1;32mc:\\Users\\Yhasmim\\miniconda3\\envs\\tril\\lib\\site-packages\\pandas\\_libs\\index.pyx:165\u001b[0m, in \u001b[0;36mpandas._libs.index.IndexEngine.get_loc\u001b[1;34m()\u001b[0m\n",
      "File \u001b[1;32mpandas\\_libs\\hashtable_class_helper.pxi:5745\u001b[0m, in \u001b[0;36mpandas._libs.hashtable.PyObjectHashTable.get_item\u001b[1;34m()\u001b[0m\n",
      "File \u001b[1;32mpandas\\_libs\\hashtable_class_helper.pxi:5753\u001b[0m, in \u001b[0;36mpandas._libs.hashtable.PyObjectHashTable.get_item\u001b[1;34m()\u001b[0m\n",
      "\u001b[1;31mKeyError\u001b[0m: 'RQI'",
      "\nThe above exception was the direct cause of the following exception:\n",
      "\u001b[1;31mKeyError\u001b[0m                                  Traceback (most recent call last)",
      "Cell \u001b[1;32mIn[9], line 3\u001b[0m\n\u001b[0;32m      1\u001b[0m \u001b[38;5;66;03m#J = arq.keys().tolist() #pegando as colunas como lista para transformação\u001b[39;00m\n\u001b[0;32m      2\u001b[0m J \u001b[38;5;241m=\u001b[39m [\u001b[38;5;124m'\u001b[39m\u001b[38;5;124mJ1\u001b[39m\u001b[38;5;124m'\u001b[39m, \u001b[38;5;124m'\u001b[39m\u001b[38;5;124mJ2\u001b[39m\u001b[38;5;124m'\u001b[39m, \u001b[38;5;124m'\u001b[39m\u001b[38;5;124mJ3\u001b[39m\u001b[38;5;124m'\u001b[39m, \u001b[38;5;124m'\u001b[39m\u001b[38;5;124mJ4\u001b[39m\u001b[38;5;124m'\u001b[39m, \u001b[38;5;124m'\u001b[39m\u001b[38;5;124mJ5\u001b[39m\u001b[38;5;124m'\u001b[39m, \u001b[38;5;124m'\u001b[39m\u001b[38;5;124mJ6\u001b[39m\u001b[38;5;124m'\u001b[39m]\n\u001b[1;32m----> 3\u001b[0m arq \u001b[38;5;241m=\u001b[39m \u001b[43mnormaliza_J\u001b[49m\u001b[43m(\u001b[49m\u001b[43marq\u001b[49m\u001b[43m,\u001b[49m\u001b[43m \u001b[49m\u001b[43mJ\u001b[49m\u001b[43m,\u001b[49m\u001b[43m \u001b[49m\u001b[43mnorm\u001b[49m\u001b[38;5;241;43m=\u001b[39;49m\u001b[38;5;28;43;01mTrue\u001b[39;49;00m\u001b[43m)\u001b[49m\n",
      "Cell \u001b[1;32mIn[6], line 10\u001b[0m, in \u001b[0;36mnormaliza_J\u001b[1;34m(df, J, norm)\u001b[0m\n\u001b[0;32m      7\u001b[0m \u001b[38;5;28;01mfor\u001b[39;00m j \u001b[38;5;129;01min\u001b[39;00m J: \n\u001b[0;32m      9\u001b[0m     \u001b[38;5;28;01mif\u001b[39;00m j \u001b[38;5;241m==\u001b[39m \u001b[38;5;124m'\u001b[39m\u001b[38;5;124mJ1\u001b[39m\u001b[38;5;124m'\u001b[39m:\n\u001b[1;32m---> 10\u001b[0m         J1 \u001b[38;5;241m=\u001b[39m \u001b[43mdf\u001b[49m\u001b[43m[\u001b[49m\u001b[38;5;124;43m'\u001b[39;49m\u001b[38;5;124;43mRQI\u001b[39;49m\u001b[38;5;124;43m'\u001b[39;49m\u001b[43m]\u001b[49m\n\u001b[0;32m     11\u001b[0m         df[\u001b[38;5;124m'\u001b[39m\u001b[38;5;124mJ1\u001b[39m\u001b[38;5;124m'\u001b[39m] \u001b[38;5;241m=\u001b[39m J1\n\u001b[0;32m     12\u001b[0m         normaliza_(df, j, norm)\n",
      "File \u001b[1;32mc:\\Users\\Yhasmim\\miniconda3\\envs\\tril\\lib\\site-packages\\pandas\\core\\frame.py:3805\u001b[0m, in \u001b[0;36mDataFrame.__getitem__\u001b[1;34m(self, key)\u001b[0m\n\u001b[0;32m   <a href='file:///c%3A/Users/Yhasmim/miniconda3/envs/tril/lib/site-packages/pandas/core/frame.py?line=3802'>3803</a>\u001b[0m \u001b[39mif\u001b[39;00m \u001b[39mself\u001b[39m\u001b[39m.\u001b[39mcolumns\u001b[39m.\u001b[39mnlevels \u001b[39m>\u001b[39m \u001b[39m1\u001b[39m:\n\u001b[0;32m   <a href='file:///c%3A/Users/Yhasmim/miniconda3/envs/tril/lib/site-packages/pandas/core/frame.py?line=3803'>3804</a>\u001b[0m     \u001b[39mreturn\u001b[39;00m \u001b[39mself\u001b[39m\u001b[39m.\u001b[39m_getitem_multilevel(key)\n\u001b[1;32m-> <a href='file:///c%3A/Users/Yhasmim/miniconda3/envs/tril/lib/site-packages/pandas/core/frame.py?line=3804'>3805</a>\u001b[0m indexer \u001b[39m=\u001b[39m \u001b[39mself\u001b[39;49m\u001b[39m.\u001b[39;49mcolumns\u001b[39m.\u001b[39;49mget_loc(key)\n\u001b[0;32m   <a href='file:///c%3A/Users/Yhasmim/miniconda3/envs/tril/lib/site-packages/pandas/core/frame.py?line=3805'>3806</a>\u001b[0m \u001b[39mif\u001b[39;00m is_integer(indexer):\n\u001b[0;32m   <a href='file:///c%3A/Users/Yhasmim/miniconda3/envs/tril/lib/site-packages/pandas/core/frame.py?line=3806'>3807</a>\u001b[0m     indexer \u001b[39m=\u001b[39m [indexer]\n",
      "File \u001b[1;32mc:\\Users\\Yhasmim\\miniconda3\\envs\\tril\\lib\\site-packages\\pandas\\core\\indexes\\base.py:3805\u001b[0m, in \u001b[0;36mIndex.get_loc\u001b[1;34m(self, key, method, tolerance)\u001b[0m\n\u001b[0;32m   <a href='file:///c%3A/Users/Yhasmim/miniconda3/envs/tril/lib/site-packages/pandas/core/indexes/base.py?line=3802'>3803</a>\u001b[0m     \u001b[39mreturn\u001b[39;00m \u001b[39mself\u001b[39m\u001b[39m.\u001b[39m_engine\u001b[39m.\u001b[39mget_loc(casted_key)\n\u001b[0;32m   <a href='file:///c%3A/Users/Yhasmim/miniconda3/envs/tril/lib/site-packages/pandas/core/indexes/base.py?line=3803'>3804</a>\u001b[0m \u001b[39mexcept\u001b[39;00m \u001b[39mKeyError\u001b[39;00m \u001b[39mas\u001b[39;00m err:\n\u001b[1;32m-> <a href='file:///c%3A/Users/Yhasmim/miniconda3/envs/tril/lib/site-packages/pandas/core/indexes/base.py?line=3804'>3805</a>\u001b[0m     \u001b[39mraise\u001b[39;00m \u001b[39mKeyError\u001b[39;00m(key) \u001b[39mfrom\u001b[39;00m \u001b[39merr\u001b[39;00m\n\u001b[0;32m   <a href='file:///c%3A/Users/Yhasmim/miniconda3/envs/tril/lib/site-packages/pandas/core/indexes/base.py?line=3805'>3806</a>\u001b[0m \u001b[39mexcept\u001b[39;00m \u001b[39mTypeError\u001b[39;00m:\n\u001b[0;32m   <a href='file:///c%3A/Users/Yhasmim/miniconda3/envs/tril/lib/site-packages/pandas/core/indexes/base.py?line=3806'>3807</a>\u001b[0m     \u001b[39m# If we have a listlike key, _check_indexing_error will raise\u001b[39;00m\n\u001b[0;32m   <a href='file:///c%3A/Users/Yhasmim/miniconda3/envs/tril/lib/site-packages/pandas/core/indexes/base.py?line=3807'>3808</a>\u001b[0m     \u001b[39m#  InvalidIndexError. Otherwise we fall through and re-raise\u001b[39;00m\n\u001b[0;32m   <a href='file:///c%3A/Users/Yhasmim/miniconda3/envs/tril/lib/site-packages/pandas/core/indexes/base.py?line=3808'>3809</a>\u001b[0m     \u001b[39m#  the TypeError.\u001b[39;00m\n\u001b[0;32m   <a href='file:///c%3A/Users/Yhasmim/miniconda3/envs/tril/lib/site-packages/pandas/core/indexes/base.py?line=3809'>3810</a>\u001b[0m     \u001b[39mself\u001b[39m\u001b[39m.\u001b[39m_check_indexing_error(key)\n",
      "\u001b[1;31mKeyError\u001b[0m: 'RQI'"
     ]
    }
   ],
   "source": [
    "#J = arq.keys().tolist() #pegando as colunas como lista para transformação\n",
    "J = ['J1', 'J2', 'J3', 'J4', 'J5', 'J6']\n",
    "arq = normaliza_J(arq, J, norm=True)\n"
   ]
  },
  {
   "cell_type": "code",
   "execution_count": 139,
   "metadata": {},
   "outputs": [
    {
     "data": {
      "text/plain": [
       "<AxesSubplot: >"
      ]
     },
     "execution_count": 139,
     "metadata": {},
     "output_type": "execute_result"
    },
    {
     "data": {
      "image/png": "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",
      "text/plain": [
       "<Figure size 640x480 with 1 Axes>"
      ]
     },
     "metadata": {},
     "output_type": "display_data"
    }
   ],
   "source": [
    "arq['J4_normalizado'].plot()"
   ]
  },
  {
   "cell_type": "code",
   "execution_count": 113,
   "metadata": {},
   "outputs": [
    {
     "data": {
      "text/plain": [
       "['J1', 'J2', 'J3', 'J4', 'J5', 'J6', 'J7', 'J8']"
      ]
     },
     "execution_count": 113,
     "metadata": {},
     "output_type": "execute_result"
    }
   ],
   "source": [
    "J"
   ]
  },
  {
   "cell_type": "code",
   "execution_count": 88,
   "metadata": {},
   "outputs": [
    {
     "data": {
      "text/plain": [
       "0.79345"
      ]
     },
     "execution_count": 88,
     "metadata": {},
     "output_type": "execute_result"
    }
   ],
   "source": [
    "arq['J1'].max()"
   ]
  },
  {
   "cell_type": "code",
   "execution_count": 13,
>>>>>>> 2e0251a01f471036fb2007f7e6cfe5c126577765
   "metadata": {},
   "outputs": [
    {
     "name": "stdout",
     "output_type": "stream",
     "text": [
<<<<<<< HEAD
      "            RQI  pressao_inversa  pressao  porosidade  permeabilidade  \\\n",
      "0      0.112898           4543.9   4608.2    0.062768         0.81143   \n",
      "1      0.085400           4548.2   4604.2    0.050000         0.36985   \n",
      "2      0.088106           4552.9   4600.0    0.050000         0.39366   \n",
      "3      0.086471           4557.9   4595.6    0.050000         0.37919   \n",
      "4      0.088106           4563.0   4590.9    0.050000         0.39366   \n",
      "...         ...              ...      ...         ...             ...   \n",
      "85927  0.064116           4597.3   4560.3    0.112380         0.46856   \n",
      "85928  0.065263           4602.9   4555.2    0.108470         0.46856   \n",
      "85929  0.066356           4608.3   4550.4    0.104920         0.46856   \n",
      "85930  0.039787           4613.5   4545.7    0.107880         0.17321   \n",
      "85931  0.038431           4618.7   4541.1    0.115630         0.17321   \n",
      "\n",
      "       distancia  \n",
      "0            0.0  \n",
      "1            0.0  \n",
      "2            0.0  \n",
      "3            0.0  \n",
      "4            0.0  \n",
      "...          ...  \n",
      "85927        0.0  \n",
      "85928        0.0  \n",
      "85929        0.0  \n",
      "85930        0.0  \n",
      "85931        0.0  \n",
      "\n",
      "[85932 rows x 6 columns]\n",
      "df com valores NAN\n",
      "df corrigido, não mais possui valores NAN\n"
     ]
    },
    {
     "data": {
      "text/html": [
       "<div>\n",
       "<style scoped>\n",
       "    .dataframe tbody tr th:only-of-type {\n",
       "        vertical-align: middle;\n",
       "    }\n",
       "\n",
       "    .dataframe tbody tr th {\n",
       "        vertical-align: top;\n",
       "    }\n",
       "\n",
       "    .dataframe thead th {\n",
       "        text-align: right;\n",
       "    }\n",
       "</style>\n",
       "<table border=\"1\" class=\"dataframe\">\n",
       "  <thead>\n",
       "    <tr style=\"text-align: right;\">\n",
       "      <th></th>\n",
       "      <th>RQI</th>\n",
       "      <th>pressao_inversa</th>\n",
       "      <th>pressao</th>\n",
       "      <th>porosidade</th>\n",
       "      <th>permeabilidade</th>\n",
       "      <th>distancia</th>\n",
       "    </tr>\n",
       "  </thead>\n",
       "  <tbody>\n",
       "    <tr>\n",
       "      <th>0</th>\n",
       "      <td>0.112898</td>\n",
       "      <td>4543.9</td>\n",
       "      <td>4608.2</td>\n",
       "      <td>0.062768</td>\n",
       "      <td>0.81143</td>\n",
       "      <td>0.0</td>\n",
       "    </tr>\n",
       "    <tr>\n",
       "      <th>1</th>\n",
       "      <td>0.085400</td>\n",
       "      <td>4548.2</td>\n",
       "      <td>4604.2</td>\n",
       "      <td>0.050000</td>\n",
       "      <td>0.36985</td>\n",
       "      <td>0.0</td>\n",
       "    </tr>\n",
       "    <tr>\n",
       "      <th>2</th>\n",
       "      <td>0.088106</td>\n",
       "      <td>4552.9</td>\n",
       "      <td>4600.0</td>\n",
       "      <td>0.050000</td>\n",
       "      <td>0.39366</td>\n",
       "      <td>0.0</td>\n",
       "    </tr>\n",
       "    <tr>\n",
       "      <th>3</th>\n",
       "      <td>0.086471</td>\n",
       "      <td>4557.9</td>\n",
       "      <td>4595.6</td>\n",
       "      <td>0.050000</td>\n",
       "      <td>0.37919</td>\n",
       "      <td>0.0</td>\n",
       "    </tr>\n",
       "    <tr>\n",
       "      <th>4</th>\n",
       "      <td>0.088106</td>\n",
       "      <td>4563.0</td>\n",
       "      <td>4590.9</td>\n",
       "      <td>0.050000</td>\n",
       "      <td>0.39366</td>\n",
       "      <td>0.0</td>\n",
       "    </tr>\n",
       "    <tr>\n",
       "      <th>...</th>\n",
       "      <td>...</td>\n",
       "      <td>...</td>\n",
       "      <td>...</td>\n",
       "      <td>...</td>\n",
       "      <td>...</td>\n",
       "      <td>...</td>\n",
       "    </tr>\n",
       "    <tr>\n",
       "      <th>85927</th>\n",
       "      <td>0.064116</td>\n",
       "      <td>4597.3</td>\n",
       "      <td>4560.3</td>\n",
       "      <td>0.112380</td>\n",
       "      <td>0.46856</td>\n",
       "      <td>0.0</td>\n",
       "    </tr>\n",
       "    <tr>\n",
       "      <th>85928</th>\n",
       "      <td>0.065263</td>\n",
       "      <td>4602.9</td>\n",
       "      <td>4555.2</td>\n",
       "      <td>0.108470</td>\n",
       "      <td>0.46856</td>\n",
       "      <td>0.0</td>\n",
       "    </tr>\n",
       "    <tr>\n",
       "      <th>85929</th>\n",
       "      <td>0.066356</td>\n",
       "      <td>4608.3</td>\n",
       "      <td>4550.4</td>\n",
       "      <td>0.104920</td>\n",
       "      <td>0.46856</td>\n",
       "      <td>0.0</td>\n",
       "    </tr>\n",
       "    <tr>\n",
       "      <th>85930</th>\n",
       "      <td>0.039787</td>\n",
       "      <td>4613.5</td>\n",
       "      <td>4545.7</td>\n",
       "      <td>0.107880</td>\n",
       "      <td>0.17321</td>\n",
       "      <td>0.0</td>\n",
       "    </tr>\n",
       "    <tr>\n",
       "      <th>85931</th>\n",
       "      <td>0.038431</td>\n",
       "      <td>4618.7</td>\n",
       "      <td>4541.1</td>\n",
       "      <td>0.115630</td>\n",
       "      <td>0.17321</td>\n",
       "      <td>0.0</td>\n",
       "    </tr>\n",
       "  </tbody>\n",
       "</table>\n",
       "<p>85932 rows × 6 columns</p>\n",
       "</div>"
      ],
      "text/plain": [
       "            RQI  pressao_inversa  pressao  porosidade  permeabilidade  \\\n",
       "0      0.112898           4543.9   4608.2    0.062768         0.81143   \n",
       "1      0.085400           4548.2   4604.2    0.050000         0.36985   \n",
       "2      0.088106           4552.9   4600.0    0.050000         0.39366   \n",
       "3      0.086471           4557.9   4595.6    0.050000         0.37919   \n",
       "4      0.088106           4563.0   4590.9    0.050000         0.39366   \n",
       "...         ...              ...      ...         ...             ...   \n",
       "85927  0.064116           4597.3   4560.3    0.112380         0.46856   \n",
       "85928  0.065263           4602.9   4555.2    0.108470         0.46856   \n",
       "85929  0.066356           4608.3   4550.4    0.104920         0.46856   \n",
       "85930  0.039787           4613.5   4545.7    0.107880         0.17321   \n",
       "85931  0.038431           4618.7   4541.1    0.115630         0.17321   \n",
       "\n",
       "       distancia  \n",
       "0            0.0  \n",
       "1            0.0  \n",
       "2            0.0  \n",
       "3            0.0  \n",
       "4            0.0  \n",
       "...          ...  \n",
       "85927        0.0  \n",
       "85928        0.0  \n",
       "85929        0.0  \n",
       "85930        0.0  \n",
       "85931        0.0  \n",
       "\n",
       "[85932 rows x 6 columns]"
      ]
     },
     "execution_count": 98,
     "metadata": {},
     "output_type": "execute_result"
    }
   ],
   "source": [
    "checking(arq)"
   ]
  },
  {
   "cell_type": "code",
   "execution_count": 19,
   "metadata": {},
   "outputs": [
    {
     "name": "stdout",
     "output_type": "stream",
     "text": [
      "df com valores NAN\n",
      "df corrigido, não mais possui valores NAN\n"
=======
      "{'bandwidth': 1.023292992280754}\n"
>>>>>>> 2e0251a01f471036fb2007f7e6cfe5c126577765
     ]
    }
   ],
   "source": [
<<<<<<< HEAD
    "#J = arq.keys().tolist() #pegando as colunas como lista para transformação\n",
    "J = ['J1', 'J2', 'J3', 'J4', 'J5', 'J6']\n",
    "arq = normaliza_J(arq, J, norm=True)\n"
   ]
  },
  {
   "attachments": {},
   "cell_type": "markdown",
   "metadata": {},
   "source": [
    "#por favor não interromper"
   ]
  },
  {
   "cell_type": "code",
   "execution_count": 20,
   "metadata": {},
   "outputs": [],
   "source": [
=======
>>>>>>> 2e0251a01f471036fb2007f7e6cfe5c126577765
    "J = ['J1']\n",
    "proc = binning.proc_binning(arq, J, binning='kde')\n",
    "#proc = binning.proc_binning(arq, J, binning='bb')\n",
    "#proc "
   ]
  },
  {
   "cell_type": "markdown",
   "metadata": {},
   "source": [
    "### opções"
   ]
  },
  {
   "cell_type": "code",
   "execution_count": null,
   "metadata": {},
   "outputs": [],
   "source": [
    "#o df precisa passar pelo calculo dos J's para prosseguir\n",
    "#o usuário deve ter a opção de escolher quais calculos fazer? sim, quais J' normalizados"
   ]
  },
  {
   "cell_type": "code",
   "execution_count": null,
   "metadata": {},
   "outputs": [],
   "source": [
    "opcao = 0\n",
    "while opcao != 3:\n",
    "    print('''   Qual tipo de processamento voce deseja executar?\n",
    "            digite [1] para Bayesian Blocks\n",
    "            digite [2] para KDE\n",
    "            digite [3] para ambos\n",
    "            digite [4] para voltar ao passo anterior ''')\n",
    "    opcao = int(input())\n",
    "\n",
    "    #if opcao == 1:\n",
    "        # função BB\n",
    "        #print(\"Processo de Binning por Bayesian Block completado\")\n",
    "        #print(imagens dos graficos de bayesian blocks para cada J normalizado)\n",
    "        #o programa pode salvar essas imagens diretamente em um arquivo\n",
    "\n",
    "    #elif opcao == 2:\n",
    "        #função KDE\n",
    "        #print(\"Processo de Binning por KDE completado\")\n",
    "        #print(imagens dos graficos de KDE para cada J normalizado)\n",
    "        #o programa pode salvar essas imagens diretamente em um arquivo\n",
    "\n",
    "    #elif opcao == 3:\n",
    "        # função BB\n",
    "        #função KDE\n",
    "    \n",
    "    #elif opcao == 4:\n",
    "        #break #volta do começo\n",
    "\n",
    "    #else:\n",
    "        #print(\"Esse e um caractere invalido. Deseja recomeçar? Digite [0]\")\n",
    "        #opcao = 0"
   ]
  },
  {
   "cell_type": "code",
   "execution_count": null,
   "metadata": {},
   "outputs": [],
   "source": [
    "print(\"Digite se deseja realizar a classificacao: s/n\")\n",
    "resposta = input()\n",
    "\n",
    "#if resposta == 's':\n",
    "    #retornar funcao de classificacao\n",
    "\n",
    "#if resposta == 'n':\n",
    "    #print(\"Fim do Programa\")\n",
    "#else: \n",
    "    "
   ]
  },
  {
   "cell_type": "code",
   "execution_count": null,
   "metadata": {},
   "outputs": [],
   "source": [
    "bandwidth = 0.01"
   ]
  }
 ],
 "metadata": {
<<<<<<< HEAD
  "kernelspec": {
   "display_name": "Python 3.10.9 ('ambv_netzero')",
=======
  "interpreter": {
   "hash": "2e71ff5d6cfd00d4bc2f505165b5cdad2e2f53d03e64c6e9eb61202e17bc590f"
  },
  "kernelspec": {
   "display_name": "Python 3.9.6 ('tril')",
>>>>>>> 2e0251a01f471036fb2007f7e6cfe5c126577765
   "language": "python",
   "name": "python3"
  },
  "language_info": {
   "codemirror_mode": {
    "name": "ipython",
    "version": 3
   },
   "file_extension": ".py",
   "mimetype": "text/x-python",
   "name": "python",
   "nbconvert_exporter": "python",
   "pygments_lexer": "ipython3",
<<<<<<< HEAD
   "version": "3.10.9"
=======
   "version": "3.9.15"
>>>>>>> 2e0251a01f471036fb2007f7e6cfe5c126577765
  },
  "orig_nbformat": 4,
  "vscode": {
   "interpreter": {
    "hash": "21c80e59152c7f2a48363ecbde968c65cd9e5f31a7f7512549ec74481db40172"
   }
  }
 },
 "nbformat": 4,
 "nbformat_minor": 2
}
