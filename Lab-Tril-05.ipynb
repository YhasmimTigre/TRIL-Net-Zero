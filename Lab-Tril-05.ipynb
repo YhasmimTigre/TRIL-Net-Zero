{
 "cells": [
  {
   "cell_type": "markdown",
   "metadata": {},
   "source": [
    "# Lab. TRIL - Net Zero"
   ]
  },
  {
   "cell_type": "markdown",
   "metadata": {},
   "source": [
    "Engenharia Computacional para a Emissão Zero no Setor de Óleo e Gás"
   ]
  },
  {
   "cell_type": "markdown",
   "metadata": {},
   "source": [
    "## Introdução "
   ]
  },
  {
   "cell_type": "markdown",
   "metadata": {},
   "source": [
    "Esse é um programa que realiza um processo de leitura, processamento e análise de um conjunto de dados de um reservatório, para encontrar classes de injetividade apresentadas com análise de gráfico.\n",
    "\n",
    "As funcões a serem desenvolvidas são:\n",
    "* read_df (recebe inputs csv ou df)\n",
    "* calc_j (de J para J normalizado)\n",
    "* proc (KDE e Bayesian Blocks)\n",
    "* class (encontrar os pontos e classes)\n",
    "* graf_j (analise dos graficos )\n",
    "\n",
    "Esse projeto é desenvolvido por:<br>"
   ]
  },
  {
   "cell_type": "markdown",
   "metadata": {},
   "source": [
    "### Bibliotecas"
   ]
  },
  {
   "cell_type": "code",
<<<<<<< HEAD
   "execution_count": 6,
=======
   "execution_count": 1,
>>>>>>> 2e0251a01f471036fb2007f7e6cfe5c126577765
   "metadata": {},
   "outputs": [],
   "source": [
    "import pandas as pd\n",
    "import numpy as np\n",
    "import seaborn as sns\n",
    "import matplotlib.pyplot as plt\n",
    "import pickle"
   ]
  },
  {
   "cell_type": "code",
<<<<<<< HEAD
   "execution_count": 7,
=======
   "execution_count": 2,
>>>>>>> 2e0251a01f471036fb2007f7e6cfe5c126577765
   "metadata": {},
   "outputs": [],
   "source": [
    "import warnings\n",
    "\n",
    "#Serve para ignorar os 'red warnings' que algumas bibliotecas apontam porque tem novas versoes de implementacao\n",
    "warnings.filterwarnings('ignore') "
   ]
  },
  {
   "cell_type": "markdown",
   "metadata": {},
   "source": [
    "## 1 - Preparação de Files "
   ]
  },
  {
   "cell_type": "markdown",
   "metadata": {},
   "source": [
    "Essas funções devem receber arquivos csv (em uma formatação pré-estabelecida) que serem lidos, checados e iniciados.<br>\n",
    "Os arquivos precisam:\n",
    "* ter colunas nomeadas (de preferência em ordem alfabética)\n",
    "* não ter valores NAN"
   ]
  },
  {
   "cell_type": "code",
<<<<<<< HEAD
   "execution_count": 8,
=======
   "execution_count": 3,
>>>>>>> 2e0251a01f471036fb2007f7e6cfe5c126577765
   "metadata": {},
   "outputs": [],
   "source": [
    "'''função de leitura do arquivo csv para df'''\n",
    "\n",
    "def read_df(arq):\n",
    "    #leitura pelo pandas\n",
    "    df = arq           \n",
    "    #limpeza (valores NAN)\n",
    "    if any(df.isna()):\n",
    "        print(\"df com valores NAN\")\n",
    "        for i in df:\n",
    "            df = df.fillna(0)\n",
    "        print(\"df corrigido, não mais possui valores NAN\")\n",
    "    \n",
    "    return df"
   ]
  },
  {
   "cell_type": "code",
<<<<<<< HEAD
<<<<<<< HEAD
   "execution_count": 9,
=======
   "execution_count": 4,
>>>>>>> 2e0251a01f471036fb2007f7e6cfe5c126577765
=======
   "execution_count": 7,
>>>>>>> 0f278eed5404b0c0ab952e8098b437353b7ca2d4
   "metadata": {},
   "outputs": [],
   "source": [
    "'''função de checagem de keys em dataframe '''\n",
    "\n",
    "def checking(df):\n",
    "\n",
    "    #recebe função de leitura\n",
    "    df = read_df(df)\n",
    "\n",
    "    #verificando se falta alguma coluna\n",
    "    lista_primarias = ['RQI','pressao','pressao_inversa','distancia','permeabilidade','porosidade']\n",
    "    lista_Js = ['J1', 'J2', 'J3', 'J4', 'J5', 'J6', 'J7', 'J8']  \n",
    "    \n",
    "    #verifica se o df possui as keys necessárias\n",
    "    for i in df.keys(): \n",
    "        if lista_primarias.count(i) == 0 and lista_Js.count(i) == 0:\n",
    "            raise KeyError(f'variavel {i} não identificada')                      \n",
    "            \n",
    "        \n",
    "    return df"
   ]
  },
  {
   "cell_type": "markdown",
   "metadata": {},
   "source": [
    "## 2 - Calculo dos J's"
   ]
  },
  {
   "cell_type": "code",
<<<<<<< HEAD
<<<<<<< HEAD
   "execution_count": 10,
=======
   "execution_count": 6,
>>>>>>> 2e0251a01f471036fb2007f7e6cfe5c126577765
=======
   "execution_count": 36,
>>>>>>> 0f278eed5404b0c0ab952e8098b437353b7ca2d4
   "metadata": {},
   "outputs": [],
   "source": [
    "def normaliza_J (df, J, norm=False):\n",
    "    \n",
    "    #recebendo função de checagem\n",
    "    df = checking(df)\n",
    "    \n",
    "    #atribuição        \n",
    "    for j in J: \n",
    "              \n",
    "        if j == 'J1':\n",
    "            J1 = df['RQI']\n",
    "            df['J1'] = J1\n",
    "            normaliza_(df, j, norm)            \n",
    "                    \n",
    "        if j == 'J2':\n",
    "            J2 = df['RQI']*df['pressao']\n",
    "            df['J2'] = J2\n",
    "            normaliza_(df, j, norm)\n",
    "\n",
    "        if j == 'J3':\n",
    "            J3 = df['RQI']*df['pressao_inversa']\n",
    "            df['J3'] = J3\n",
    "            normaliza_(df, j, norm)                                                                                         \n",
    "                            \n",
    "        if j == 'J4':\n",
    "            #para evitar resultados infinitos\n",
    "            aux = np.log(df['distancia']) #calc do log(0 ind, 1 inf)\n",
    "            #mascara\n",
    "            aux[np.isinf(aux)] = 0 \n",
    "            aux[np.isnan(aux)] = 0\n",
    "            aux[aux < 0] = 0\n",
    "\n",
    "            J4 = df['RQI'] * df['pressao'] * aux      \n",
    "            df['J4'] = J4\n",
    "            normaliza_(df, j, norm) \n",
    "\n",
    "        if j == 'J5':\n",
<<<<<<< HEAD
    "\n",
    "            #para evitar resultados infinitos\n",
    "            aux = np.log(df['distancia']) #calc do log(0 ind, 1 inf)\n",
    "            #mascara \n",
    "            aux[np.isinf(aux)] = 0 \n",
    "            aux[np.isnan(aux)] = 0\n",
    "            aux[aux < 0] = 0\n",
    "\n",
=======
    "\n",
    "            #para evitar resultados infinitos\n",
    "            aux = np.log(df['distancia']) #calc do log(0 ind, 1 inf)\n",
    "            #mascara \n",
    "            aux[np.isinf(aux)] = 0 \n",
    "            aux[np.isnan(aux)] = 0\n",
    "            aux[aux < 0] = 0\n",
    "\n",
>>>>>>> 2e0251a01f471036fb2007f7e6cfe5c126577765
    "            J5 = df['RQI'] * df['pressao_inversa'] * aux\n",
    "            df['J5'] = J5\n",
    "            normaliza_(df, j, norm)\n",
    "        \n",
    "        if j == 'J6':\n",
    "\n",
    "            #para evitar resultados infinitos\n",
    "            aux = np.log(df['distancia']) #calc do log(0 ind, 1 inf)\n",
    "            #mascara \n",
    "            aux[np.isinf(aux)] = 0 \n",
    "            aux[np.isnan(aux)] = 0\n",
    "            aux[aux < 0] = 0\n",
    "\n",
    "            J6 = df['permeabilidade'] * df['porosidade'] * aux\n",
    "            df['J6'] = J6\n",
    "            normaliza_(df, j, norm)  \n",
    "\n",
    "    return df\n",
    "\n",
    "def normaliza_(df, col, norm):\n",
    "    if norm == True:   \n",
    "        df[f'{col}_normalizado'] = (df[col] - min(df[col])) / (max(df[col]) - min(df[col]))\n",
    "    print(df)"
   ]
  },
  {
   "cell_type": "markdown",
   "metadata": {},
   "source": [
    "## 3- Processamento Binning <br> (Bayesian Blocks ou KDE)\n",
    "<br/>\n",
    "A classe binning é responsável por processar os dados em KDE ou Bayesian Blocks"
   ]
  },
  {
   "cell_type": "code",
<<<<<<< HEAD
<<<<<<< HEAD
   "execution_count": 16,
=======
   "execution_count": 12,
>>>>>>> 2e0251a01f471036fb2007f7e6cfe5c126577765
=======
   "execution_count": 1,
>>>>>>> 0f278eed5404b0c0ab952e8098b437353b7ca2d4
   "metadata": {},
   "outputs": [],
   "source": [
    "class binning():\n",
    "\n",
    "        #método construtor\n",
    "        def __init__(self) -> None:\n",
    "            pass\n",
    "    \n",
    "        def proc_binning(df, J, binning): #recebe o df e o tipo de binning \n",
    "\n",
    "            if binning == 'kde':\n",
    "                \n",
    "                '''Bibliotecas'''\n",
    "                import numpy as np\n",
    "                from numpy import array, linspace\n",
    "                from sklearn.neighbors import KernelDensity\n",
    "                from scipy.misc import electrocardiogram\n",
    "                from scipy.signal import argrelmin, find_peaks\n",
    "                from sklearn.model_selection import GridSearchCV, LeaveOneOut\n",
    "                import scipy.integrate as integrate\n",
    "                import scipy.special as special\n",
    "                \n",
    "                from keras.models import Sequential\n",
    "                from keras.layers import Dense\n",
    "                from keras.layers import Dropout\n",
    "                from keras.wrappers.scikit_learn import KerasClassifier\n",
    "                from keras.constraints import maxnorm\n",
    "                from keras.utils import np_utils              \n",
    "                \n",
    "                # método de bandwith para kde\n",
    "                \n",
    "                \"\"\"\n",
    "                # esse metodo retorna 0.0\n",
    "                for coluna in J:\n",
    "                    \n",
    "                    J = df[f'{coluna}'].values\n",
    "                    band = 1.06*np.std(X) * ((-1/2) ** len(X))\n",
    "                    print(\"bandwidth: \", band)\n",
    "                    #NÃO FUNCIONA dá 0.0 e KeyError: '0.42121'\n",
    "\n",
    "                \n",
    "                #encontrar as curvas com bandwidth ideal com validacao cruzada\n",
    "                #BANDWIDTH ORIGINAL: 0.01\n",
    "                \n",
    "                for coluna in J:                   \n",
    "                    X = df[f'{coluna}'].values[::].reshape(-1, 1)\n",
<<<<<<< HEAD
    "\n",
    "                    bandwidth = 10 ** np.linspace(0.01, 0.05) \n",
    "                    grid = GridSearchCV(KernelDensity(), {'bandwidth': bandwidth},cv=LeaveOneOut())\n",
    "                    grid.fit(X) \n",
<<<<<<< HEAD
    "                    grid.best_params_\n",
    "                    print(grid.best_params_)\n",
    "                          \n",
    "                        \n",
=======
    "                    ideal_band = grid.best_params_\n",
    "                    print(ideal_band)\n",
    "                          \n",
    "                '''        \n",
>>>>>>> 2e0251a01f471036fb2007f7e6cfe5c126577765
=======
    "                \n",
    "                    band = np.linspace(0.01, 0.05)\n",
    "                    grid = GridSearchCV(KernelDensity(), {'bandwidth': band},cv=LeaveOneOut())\n",
    "                    grid.fit(X[:,None].reshape(-1, 1)) \n",
    "                    ideal_band = grid.best_params_\n",
    "                    print(ideal_band)\n",
    "                    \n",
    "                    #para o J1 simplificado ele retorna {'bandwidth': 0.01}\n",
    "                    #para os outros Js faltou memoria para rodar o codigo. \n",
    "                \"\"\"      \n",
    "                   \n",
>>>>>>> 0f278eed5404b0c0ab952e8098b437353b7ca2d4
    "                #Calculo KDE   \n",
    "\n",
    "                for coluna in J:\n",
    "                    \n",
    "                    min_i = 0\n",
    "                    max_i = df[f'{coluna}'].shape[0]#pega a dimensao da coluna \n",
    "                    aux = max_i - min_i\n",
    "                    \n",
    "                    # faz o reshape para encaixar os dados em uma dimensão apropriada para o calculo \n",
    "                    X = df[f'{coluna}'].values[::].reshape(-1, 1)\n",
    "                    print(X)\n",
    "                    # calculo da densidade de probabilidade\n",
    "                    kde = KernelDensity(kernel='gaussian', bandwidth = 0.01).fit(X)\n",
    "                    print(kde)\n",
    "                    #retorna os pontos em uma distancia equidistante\n",
    "                    dist = np.linspace(0, 1.0, aux)\n",
    "                    print(dist)\n",
    "                    #calcula a probabilidade logarítmica de cada amostra sob o modelo \n",
    "                    #problema de retorno de não array\n",
    "\n",
<<<<<<< HEAD
<<<<<<< HEAD
    "                    kde= KernelDensity(bandwidth = 1.023292992280754).fit(X)\n",
    "                    dist = np.linspace(0, 1.0, aux) #retorna os pontos em uma distancia equidistante\n",
    "                    log = kde.score_samples(dist.reshape(-1,1)) #calcula a probabilidade logarítmica de cada amostra sob o modelo\n",
    "                    #e = kde.score_samples(X)\n",
=======
    "                    kde= KernelDensity(bandwidth = ideal_band).fit(X)\n",
    "                    dist = np.linspace(0, 1.0, aux) #retorna os pontos em uma distancia equidistante\n",
    "                    log = kde.score_samples(dist.reshape(-1,1)) #calcula a probabilidade logarítmica de cada amostra sob o modelo\n",
    "\n",
>>>>>>> 2e0251a01f471036fb2007f7e6cfe5c126577765
    "                    #Calculo das Particoes\n",
=======
    "                    #TRANSFORMAR O RETORNO EM ARRAY\n",
    "\n",
    "                    #FAÇA o score_samples retornar um array\n",
    "                    for i in range(len(dist)):\n",
    "                        log = kde.score_samples(dist[i])\n",
    "                        print(log)\n",
>>>>>>> 0f278eed5404b0c0ab952e8098b437353b7ca2d4
    "\n",
    "\n",
    "                    \"\"\"\n",
    "                    \n",
    "                    #Calculo da Integral sobre o score_samples \n",
    "                    \n",
    "                    #reformular a integral pois mesmo com ideal_bandwidth = 0.01,\n",
    "                    # a integral não está no intervalo correto \n",
    "                    import sympy as sp\n",
    "                    from sympy import init_printing\n",
    "                    from sympy import integrate, Symbol, dsolve, Function, diff, Eq\n",
    "                    from sympy import exp, log, sqrt, pi, Integral\n",
    "                    \n",
    "                    \n",
    "                    #integral = \n",
    "                    integral = integrate.trapezoid(y=np.exp(log), x=None, dx=dist, axis=-1)\n",
    "                    \n",
    "                    # usamos exponencial para deixar log positivo\n",
    "                    #integral = np.exp(integrate.trapz(log, dist))\n",
    "\n",
    "                    print(integral)\n",
    "                    \n",
    "                    #if 0.99 <= integral <= 1.01:\n",
    "                    if integral <= 1.01 and integral >= 0.99:\n",
    "                        print(f'A integral : {integral} é adequeada.')\n",
    "                    else:\n",
    "                        print(f'A integral não está no intervalo correto: {integral}')\n",
    "                        raise KeyError(f'A integral precisa estar entre 0.99 e 1.01')\n",
    "                    \n",
<<<<<<< HEAD
    "                    ord = np.argsort(np.abs(np.diff(log[valleys])))#Retorna os indices que classificam o array\n",
    "                    ordValleys_J = np.flip(ord)+1 #inverte a ordem do array\n",
<<<<<<< HEAD
    "\n",
    "                '''#Encontrando Classes \n",
=======
=======
>>>>>>> 0f278eed5404b0c0ab952e8098b437353b7ca2d4
    "                    \n",
    "                    '''Calculo das Particoes'''\n",
    "\n",
    "                    # calcula os picos\n",
    "                    peaks = find_peaks(log, height=min(log)) \n",
    "                    #Calcula a minima relativa dos dados\n",
    "                    valleys = argrelmin(log)[0] \n",
    "                    \n",
    "                    #Retorna os indices que classificam o array em ordem crescente\n",
    "                    ord = np.argsort(np.abs(np.diff(log[valleys])))\n",
    "                    #inverte a ordem do array \n",
    "                    ordValleys_J = np.flip(ord)+1 \n",
    "\n",
    "                \n",
    "                #Encontrando Classes \n",
<<<<<<< HEAD
>>>>>>> 2e0251a01f471036fb2007f7e6cfe5c126577765
=======
    "                # metodo 1\n",
    "                if len(peaks[0]) == 1:\n",
    "                    classes = [0, peaks[0], max_i]\n",
    "                else:   \n",
    "                    classes = [0, peaks[0][0], peaks[0][1], max_i]\n",
    "                \n",
    "                \n",
>>>>>>> 0f278eed5404b0c0ab952e8098b437353b7ca2d4
    "                \n",
    "                for coluna in J:\n",
    "\n",
    "                    X = sorted(df[f'{coluna}'])                           \n",
    "                    minimo = min(X)\n",
    "                    classes = [minimo]\n",
    "                    for i in range(len(peaks)):\n",
<<<<<<< HEAD
<<<<<<< HEAD
    "                        classes.append(X(peaks[i]))                        \n",
    "                    classes.append(max(X))'''\n",
    "\n",
    "                #Calculo da Integral KDE\n",
    "\n",
    "                integral = integrate.trapezoid(np.exp(log),dist)\n",
    "                if 0.99 < integral < 1.01:\n",
    "                    print(f'A integral : {integral} é adequeada.')\n",
    "                else:\n",
    "                    print(f'A integral não está no intervalo correto: {integral}')\n",
    "                    raise KeyError(f'A integral precisa estar entre 0.99 e 1.01')\n",
    "\n",
    "                resultados_kde = []\n",
    "                resultados = [log, peaks, valleys, ord, ordValleys_J]\n",
    "                return resultados_kde   \n",
    "           \n",
    "\n",
    "            #Calculo Bayesian Blocks\n",
    "\n",
    "            if binning == 'bb':\n",
    "                from astropy.stats import bayesian_blocks\n",
    "                \n",
    "                resultados = {}\n",
    "\n",
    "                for coluna in df.columns:\n",
    "                    if coluna in df.columns[12::]:\n",
    "                        serie = df.query(f\"{coluna} > 0\")[coluna]\n",
    "                        resultados[coluna] = [serie, bayesian_blocks(serie)]\n",
    "\n",
    "            return resultados   \n",
    "            "
   ]
  },
  {
   "cell_type": "code",
   "execution_count": null,
   "metadata": {},
   "outputs": [],
   "source": [
    "'''Adição do padding '''\n",
    "\n",
    "def padding(df):\n",
    "\n",
=======
    "                        classes.append(X[peaks[i]])                        \n",
=======
    "                        classes.append(X(peaks[i]))                        \n",
>>>>>>> 0f278eed5404b0c0ab952e8098b437353b7ca2d4
    "                    classes.append(max(X))\n",
    "                \n",
    "                \n",
    "                #retorno de funcão KDE com dicionario\n",
    "                resultados_kde = {}\n",
    "                resultados_kde['log'] = log\n",
    "                resultados_kde['peaks'] = peaks\n",
    "                resultados_kde['valleys'] = valleys\n",
    "                resultados_kde['ordValleys_J'] = ordValleys_J\n",
    "\n",
    "                return resultados_kde    \n",
    "                \"\"\"\n",
    "\n",
    "            #Calculo Bayesian Blocks\n",
    "\n",
    "            if binning == 'bb':\n",
    "                from astropy.stats import bayesian_blocks\n",
    "                \n",
    "                resultados_bb = {}\n",
    "\n",
    "                for coluna in df.columns:\n",
    "                    if coluna in df.columns[12::]:\n",
    "                        serie = df.query(f\"{coluna} > 0\")[coluna]\n",
    "                        resultados_bb[coluna] = [serie, bayesian_blocks(serie)]\n",
    "\n",
    "            return resultados_bb\n",
    "            "
   ]
  },
  {
   "cell_type": "code",
   "execution_count": null,
   "metadata": {},
   "outputs": [],
   "source": [
    "                    '''\n",
    "\n",
    "                    log = kde.score_samples(dist.reshape(-1,1)) \n",
    "                    print(kde.score_samples)\n",
    "                    print(log)\n",
    "                    \n",
    "                    \n",
    "                    # usamos exponencial para deixar log positivo\n",
    "                    integral = np.exp(integrate.trapz(log, dist))\n",
    "\n",
<<<<<<< HEAD
>>>>>>> 2e0251a01f471036fb2007f7e6cfe5c126577765
    "    padDF = np.pad(df, (0.01, 0.01)) #para a melhor localização de pontos divisores de classe\n",
    "    return padDF\n",
    "    "
=======
    "                    print(integral)\n",
    "                    \n",
    "                    #if 0.99 <= integral <= 1.01:\n",
    "                    if integral <= 1.01 and integral >= 0.99:\n",
    "                        print(f'A integral : {integral} é adequeada.')\n",
    "                    else:\n",
    "                        print(f'A integral não está no intervalo correto: {integral}')\n",
    "                        raise KeyError(f'A integral precisa estar entre 0.99 e 1.01')\n",
    "\n",
    "                    '''"
>>>>>>> 0f278eed5404b0c0ab952e8098b437353b7ca2d4
   ]
  },
  {
   "cell_type": "code",
   "execution_count": null,
   "metadata": {},
   "outputs": [],
   "source": [
    "'''Adição do padding '''\n",
    "\n",
    "def padding(df):\n",
    "\n",
    "    padDF = np.pad(df, (0.01, 0.01)) #para a melhor localização de pontos divisores de classe\n",
    "    return padDF\n",
    "    "
   ]
  },
  {
   "cell_type": "markdown",
   "metadata": {},
   "source": [
    "## 4 - Pickle"
   ]
  },
  {
   "cell_type": "code",
   "execution_count": null,
   "metadata": {},
   "outputs": [],
   "source": [
    "def pickle (df, fileout):\n",
    "    import pickle as pkl  \n"
   ]
  },
  {
   "cell_type": "markdown",
   "metadata": {},
   "source": [
    "### Graficos dos Binnings"
   ]
  },
  {
   "cell_type": "markdown",
   "metadata": {},
   "source": [
    "## 5 - Análise dos Gráficos"
   ]
  },
  {
   "cell_type": "code",
   "execution_count": 24,
   "metadata": {},
   "outputs": [],
   "source": [
    "class graficos:\n",
    "    \"\"\"\n",
    "    def grafico_kde(df, coluna):\n",
    "        \n",
    "        #df deve ser aquele resultante do processamento\n",
    "\n",
    "        plt.figure(figsize=(20, 12))\n",
    "        #adaptar para cada J\n",
    "        plt.title(\"Vales dos Kernels | J2 normalizado\", fontsize=22)\n",
    "        plt.ylabel(\"Densidade\", fontsize=16)\n",
    "        plt.xlabel(\"Posição assumida por J2 norm\", fontsize=16)\n",
    "        plt.grid(True)\n",
    "        #in a for\n",
    "        plt.plot(x)\n",
    "        plt.plot(valleys, x[valleys], 'o')\n",
    "        plt.plot(valleys[ordValleys_J[0:4]], x[valleys[ordValleys_J[0:4]]], '*', c='green')\n",
    "        plt.show()\n",
    "\n",
    "        for i in df:\n",
    "            print(valleys)\n",
    "\n",
    "    def grafico_bb(df, bins_bb, coluna):\n",
    "\n",
    "        #modificar labels para for\n",
    "        labels = {\n",
    "            \"J1_normalizado\" : \"RQI\",\n",
    "            \"J2_normalizado\" : \"RQI * Pressao\",\n",
    "            \"J3_normalizado\" : \"RQI * Pressao Inversa\",\n",
    "            \"J4_normalizado\" : \"RQI * Pressao * ln(distancia)\",\n",
    "            \"J5_normalizado\" : \"RQI * Pressao Inversa * ln(distancia)\", \n",
    "            \"J6_normalizado\" : \"Permeabilidade * Porosidade * ln(distancia)\",\n",
    "            \"J7_normalizado\" : \"ln(Permeabilidade) * ln(Porosidade) * ln(distancia)\"\n",
    "        }\n",
    "        \n",
    "        ax = plt.figure(figsize=(20, 12))\n",
    "        ax = plt.title(f\"Histograma '{coluna} = {labels[coluna]}' utilizando blocos bayesianos\", fontsize = 24)\n",
    "        ax = plt.xlabel(\"X\", fontsize = 18)\n",
    "        ax = plt.ylabel(\"Y\", fontsize = 18)\n",
    "        ax = plt.hist(df, bins = bins_bb, color='g')\n",
    "        ax = plt.grid(True)\n",
    "        plt.savefig(f'./dados/Analise de Js/{coluna}.jpeg', format='jpeg')\n",
    "        plt.show(ax)\n",
    "        \"\"\""
   ]
  },
  {
   "cell_type": "markdown",
   "metadata": {},
   "source": [
    "## 6 - Menu"
   ]
  },
  {
   "cell_type": "markdown",
   "metadata": {},
   "source": [
    "Aqui vamos chamar o pipeline e apresentar opções ao usuário chamando as funções"
   ]
  },
  {
   "cell_type": "code",
   "execution_count": null,
   "metadata": {},
   "outputs": [],
   "source": [
    "print(' TRIL - NetZero '.center(30,'*'))\n",
    "print(' Bem Vindo '.center(30,'*'))"
   ]
  },
  {
   "cell_type": "code",
<<<<<<< HEAD
   "execution_count": 18,
=======
   "execution_count": 4,
>>>>>>> 0f278eed5404b0c0ab952e8098b437353b7ca2d4
   "metadata": {},
   "outputs": [],
   "source": [
    "#arq = str(print(\"Insira o caminho para o arquivo: \")) #recebemos o csv\n",
    "\n",
<<<<<<< HEAD
<<<<<<< HEAD
    "#arq = pd.read_csv(\"./dados/Simplificados/J1_reduzido.csv\") #valor J1\n",
    "arq = pd.read_csv(\"./dados/variaveis.csv\")"
=======
    "arq = pd.read_csv(\"./dados/Simplificados/J1_reduzido.csv\") #valor J1\n",
=======
    "#valor J1 já normalizado\n",
    "arq = pd.read_csv(\"./dados/Simplificados/J1_reduzido.csv\") \n",
>>>>>>> 0f278eed5404b0c0ab952e8098b437353b7ca2d4
    "#arq = pd.read_csv(\"./dados/variaveis.csv\")"
>>>>>>> 2e0251a01f471036fb2007f7e6cfe5c126577765
   ]
  },
  {
   "cell_type": "code",
   "execution_count": 5,
   "metadata": {},
   "outputs": [
    {
     "name": "stdout",
     "output_type": "stream",
     "text": [
      "df com valores NAN\n",
      "df corrigido, não mais possui valores NAN\n"
     ]
    },
    {
     "data": {
      "text/html": [
       "<div>\n",
       "<style scoped>\n",
       "    .dataframe tbody tr th:only-of-type {\n",
       "        vertical-align: middle;\n",
       "    }\n",
       "\n",
       "    .dataframe tbody tr th {\n",
       "        vertical-align: top;\n",
       "    }\n",
       "\n",
       "    .dataframe thead th {\n",
       "        text-align: right;\n",
       "    }\n",
       "</style>\n",
       "<table border=\"1\" class=\"dataframe\">\n",
       "  <thead>\n",
       "    <tr style=\"text-align: right;\">\n",
       "      <th></th>\n",
       "      <th>J1</th>\n",
       "    </tr>\n",
       "  </thead>\n",
       "  <tbody>\n",
       "    <tr>\n",
       "      <th>0</th>\n",
       "      <td>0.42121</td>\n",
       "    </tr>\n",
       "    <tr>\n",
       "      <th>1</th>\n",
       "      <td>0.41414</td>\n",
       "    </tr>\n",
       "    <tr>\n",
       "      <th>2</th>\n",
       "      <td>0.45838</td>\n",
       "    </tr>\n",
       "    <tr>\n",
       "      <th>3</th>\n",
       "      <td>0.39962</td>\n",
       "    </tr>\n",
       "    <tr>\n",
       "      <th>4</th>\n",
       "      <td>0.34914</td>\n",
       "    </tr>\n",
       "    <tr>\n",
       "      <th>...</th>\n",
       "      <td>...</td>\n",
       "    </tr>\n",
       "    <tr>\n",
       "      <th>3321</th>\n",
       "      <td>0.00000</td>\n",
       "    </tr>\n",
       "    <tr>\n",
       "      <th>3322</th>\n",
       "      <td>0.00000</td>\n",
       "    </tr>\n",
       "    <tr>\n",
       "      <th>3323</th>\n",
       "      <td>0.00000</td>\n",
       "    </tr>\n",
       "    <tr>\n",
       "      <th>3324</th>\n",
       "      <td>0.00000</td>\n",
       "    </tr>\n",
       "    <tr>\n",
       "      <th>3325</th>\n",
       "      <td>0.00000</td>\n",
       "    </tr>\n",
       "  </tbody>\n",
       "</table>\n",
       "<p>3326 rows × 1 columns</p>\n",
       "</div>"
      ],
      "text/plain": [
       "           J1\n",
       "0     0.42121\n",
       "1     0.41414\n",
       "2     0.45838\n",
       "3     0.39962\n",
       "4     0.34914\n",
       "...       ...\n",
       "3321  0.00000\n",
       "3322  0.00000\n",
       "3323  0.00000\n",
       "3324  0.00000\n",
       "3325  0.00000\n",
       "\n",
       "[3326 rows x 1 columns]"
      ]
     },
     "execution_count": 5,
     "metadata": {},
     "output_type": "execute_result"
    }
   ],
   "source": [
    "#chamando a funçao de preparação\n",
    "read_df(arq)"
   ]
  },
  {
   "cell_type": "code",
<<<<<<< HEAD
   "execution_count": 98,
<<<<<<< HEAD
=======
=======
   "execution_count": 8,
>>>>>>> 0f278eed5404b0c0ab952e8098b437353b7ca2d4
   "metadata": {},
   "outputs": [
    {
     "name": "stdout",
     "output_type": "stream",
     "text": [
      "df com valores NAN\n",
      "df corrigido, não mais possui valores NAN\n"
     ]
    },
    {
     "data": {
      "text/html": [
       "<div>\n",
       "<style scoped>\n",
       "    .dataframe tbody tr th:only-of-type {\n",
       "        vertical-align: middle;\n",
       "    }\n",
       "\n",
       "    .dataframe tbody tr th {\n",
       "        vertical-align: top;\n",
       "    }\n",
       "\n",
       "    .dataframe thead th {\n",
       "        text-align: right;\n",
       "    }\n",
       "</style>\n",
       "<table border=\"1\" class=\"dataframe\">\n",
       "  <thead>\n",
       "    <tr style=\"text-align: right;\">\n",
       "      <th></th>\n",
       "      <th>J1</th>\n",
       "    </tr>\n",
       "  </thead>\n",
       "  <tbody>\n",
       "    <tr>\n",
       "      <th>0</th>\n",
       "      <td>0.42121</td>\n",
       "    </tr>\n",
       "    <tr>\n",
       "      <th>1</th>\n",
       "      <td>0.41414</td>\n",
       "    </tr>\n",
       "    <tr>\n",
       "      <th>2</th>\n",
       "      <td>0.45838</td>\n",
       "    </tr>\n",
       "    <tr>\n",
       "      <th>3</th>\n",
       "      <td>0.39962</td>\n",
       "    </tr>\n",
       "    <tr>\n",
       "      <th>4</th>\n",
       "      <td>0.34914</td>\n",
       "    </tr>\n",
       "    <tr>\n",
       "      <th>...</th>\n",
       "      <td>...</td>\n",
       "    </tr>\n",
       "    <tr>\n",
       "      <th>3321</th>\n",
       "      <td>0.00000</td>\n",
       "    </tr>\n",
       "    <tr>\n",
       "      <th>3322</th>\n",
       "      <td>0.00000</td>\n",
       "    </tr>\n",
       "    <tr>\n",
       "      <th>3323</th>\n",
       "      <td>0.00000</td>\n",
       "    </tr>\n",
       "    <tr>\n",
       "      <th>3324</th>\n",
       "      <td>0.00000</td>\n",
       "    </tr>\n",
       "    <tr>\n",
       "      <th>3325</th>\n",
       "      <td>0.00000</td>\n",
       "    </tr>\n",
       "  </tbody>\n",
       "</table>\n",
       "<p>3326 rows × 1 columns</p>\n",
       "</div>"
      ],
      "text/plain": [
       "           J1\n",
       "0     0.42121\n",
       "1     0.41414\n",
       "2     0.45838\n",
       "3     0.39962\n",
       "4     0.34914\n",
       "...       ...\n",
       "3321  0.00000\n",
       "3322  0.00000\n",
       "3323  0.00000\n",
       "3324  0.00000\n",
       "3325  0.00000\n",
       "\n",
       "[3326 rows x 1 columns]"
      ]
     },
     "execution_count": 8,
     "metadata": {},
     "output_type": "execute_result"
    }
   ],
   "source": [
    "checking(arq)"
   ]
  },
  {
   "cell_type": "code",
   "execution_count": 38,
   "metadata": {},
   "outputs": [
    {
     "name": "stdout",
     "output_type": "stream",
     "text": [
      "df com valores NAN\n",
      "df corrigido, não mais possui valores NAN\n",
      "            RQI  pressao_inversa  pressao  porosidade  permeabilidade  \\\n",
      "0      0.112898           4543.9   4608.2    0.062768         0.81143   \n",
      "1      0.085400           4548.2   4604.2    0.050000         0.36985   \n",
      "2      0.088106           4552.9   4600.0    0.050000         0.39366   \n",
      "3      0.086471           4557.9   4595.6    0.050000         0.37919   \n",
      "4      0.088106           4563.0   4590.9    0.050000         0.39366   \n",
      "...         ...              ...      ...         ...             ...   \n",
      "85927  0.064116           4597.3   4560.3    0.112380         0.46856   \n",
      "85928  0.065263           4602.9   4555.2    0.108470         0.46856   \n",
      "85929  0.066356           4608.3   4550.4    0.104920         0.46856   \n",
      "85930  0.039787           4613.5   4545.7    0.107880         0.17321   \n",
      "85931  0.038431           4618.7   4541.1    0.115630         0.17321   \n",
      "\n",
      "       distancia        J1  J1_normalizado  \n",
      "0            0.0  0.112898        0.046081  \n",
      "1            0.0  0.085400        0.031936  \n",
      "2            0.0  0.088106        0.033328  \n",
      "3            0.0  0.086471        0.032487  \n",
      "4            0.0  0.088106        0.033328  \n",
      "...          ...       ...             ...  \n",
      "85927        0.0  0.064116        0.020987  \n",
      "85928        0.0  0.065263        0.021577  \n",
      "85929        0.0  0.066356        0.022139  \n",
      "85930        0.0  0.039787        0.008473  \n",
      "85931        0.0  0.038431        0.007775  \n",
      "\n",
      "[85932 rows x 8 columns]\n",
      "            RQI  pressao_inversa  pressao  porosidade  permeabilidade  \\\n",
      "0      0.112898           4543.9   4608.2    0.062768         0.81143   \n",
      "1      0.085400           4548.2   4604.2    0.050000         0.36985   \n",
      "2      0.088106           4552.9   4600.0    0.050000         0.39366   \n",
      "3      0.086471           4557.9   4595.6    0.050000         0.37919   \n",
      "4      0.088106           4563.0   4590.9    0.050000         0.39366   \n",
      "...         ...              ...      ...         ...             ...   \n",
      "85927  0.064116           4597.3   4560.3    0.112380         0.46856   \n",
      "85928  0.065263           4602.9   4555.2    0.108470         0.46856   \n",
      "85929  0.066356           4608.3   4550.4    0.104920         0.46856   \n",
      "85930  0.039787           4613.5   4545.7    0.107880         0.17321   \n",
      "85931  0.038431           4618.7   4541.1    0.115630         0.17321   \n",
      "\n",
      "       distancia        J1  J1_normalizado          J2  J2_normalizado  \n",
      "0            0.0  0.112898        0.046081  520.256131        0.046107  \n",
      "1            0.0  0.085400        0.031936  393.199229        0.032010  \n",
      "2            0.0  0.088106        0.033328  405.287679        0.033351  \n",
      "3            0.0  0.086471        0.032487  397.386286        0.032474  \n",
      "4            0.0  0.088106        0.033328  404.485915        0.033262  \n",
      "...          ...       ...             ...         ...             ...  \n",
      "85927        0.0  0.064116        0.020987  292.388952        0.020825  \n",
      "85928        0.0  0.065263        0.021577  297.286165        0.021369  \n",
      "85929        0.0  0.066356        0.022139  301.945356        0.021886  \n",
      "85930        0.0  0.039787        0.008473  180.860734        0.008452  \n",
      "85931        0.0  0.038431        0.007775  174.516961        0.007748  \n",
      "\n",
      "[85932 rows x 10 columns]\n",
      "            RQI  pressao_inversa  pressao  porosidade  permeabilidade  \\\n",
      "0      0.112898           4543.9   4608.2    0.062768         0.81143   \n",
      "1      0.085400           4548.2   4604.2    0.050000         0.36985   \n",
      "2      0.088106           4552.9   4600.0    0.050000         0.39366   \n",
      "3      0.086471           4557.9   4595.6    0.050000         0.37919   \n",
      "4      0.088106           4563.0   4590.9    0.050000         0.39366   \n",
      "...         ...              ...      ...         ...             ...   \n",
      "85927  0.064116           4597.3   4560.3    0.112380         0.46856   \n",
      "85928  0.065263           4602.9   4555.2    0.108470         0.46856   \n",
      "85929  0.066356           4608.3   4550.4    0.104920         0.46856   \n",
      "85930  0.039787           4613.5   4545.7    0.107880         0.17321   \n",
      "85931  0.038431           4618.7   4541.1    0.115630         0.17321   \n",
      "\n",
      "       distancia        J1  J1_normalizado          J2  J2_normalizado  \\\n",
      "0            0.0  0.112898        0.046081  520.256131        0.046107   \n",
      "1            0.0  0.085400        0.031936  393.199229        0.032010   \n",
      "2            0.0  0.088106        0.033328  405.287679        0.033351   \n",
      "3            0.0  0.086471        0.032487  397.386286        0.032474   \n",
      "4            0.0  0.088106        0.033328  404.485915        0.033262   \n",
      "...          ...       ...             ...         ...             ...   \n",
      "85927        0.0  0.064116        0.020987  292.388952        0.020825   \n",
      "85928        0.0  0.065263        0.021577  297.286165        0.021369   \n",
      "85929        0.0  0.066356        0.022139  301.945356        0.021886   \n",
      "85930        0.0  0.039787        0.008473  180.860734        0.008452   \n",
      "85931        0.0  0.038431        0.007775  174.516961        0.007748   \n",
      "\n",
      "               J3  J3_normalizado  \n",
      "0      512.996795        0.046168  \n",
      "1      388.416823        0.031968  \n",
      "2      401.137886        0.033418  \n",
      "3      394.126328        0.032619  \n",
      "4      402.027757        0.033519  \n",
      "...           ...             ...  \n",
      "85927  294.761250        0.021293  \n",
      "85928  300.399212        0.021935  \n",
      "85929  305.787355        0.022550  \n",
      "85930  183.558307        0.008617  \n",
      "85931  177.499172        0.007927  \n",
      "\n",
      "[85932 rows x 12 columns]\n",
      "            RQI  pressao_inversa  pressao  porosidade  permeabilidade  \\\n",
      "0      0.112898           4543.9   4608.2    0.062768         0.81143   \n",
      "1      0.085400           4548.2   4604.2    0.050000         0.36985   \n",
      "2      0.088106           4552.9   4600.0    0.050000         0.39366   \n",
      "3      0.086471           4557.9   4595.6    0.050000         0.37919   \n",
      "4      0.088106           4563.0   4590.9    0.050000         0.39366   \n",
      "...         ...              ...      ...         ...             ...   \n",
      "85927  0.064116           4597.3   4560.3    0.112380         0.46856   \n",
      "85928  0.065263           4602.9   4555.2    0.108470         0.46856   \n",
      "85929  0.066356           4608.3   4550.4    0.104920         0.46856   \n",
      "85930  0.039787           4613.5   4545.7    0.107880         0.17321   \n",
      "85931  0.038431           4618.7   4541.1    0.115630         0.17321   \n",
      "\n",
      "       distancia        J1  J1_normalizado          J2  J2_normalizado  \\\n",
      "0            0.0  0.112898        0.046081  520.256131        0.046107   \n",
      "1            0.0  0.085400        0.031936  393.199229        0.032010   \n",
      "2            0.0  0.088106        0.033328  405.287679        0.033351   \n",
      "3            0.0  0.086471        0.032487  397.386286        0.032474   \n",
      "4            0.0  0.088106        0.033328  404.485915        0.033262   \n",
      "...          ...       ...             ...         ...             ...   \n",
      "85927        0.0  0.064116        0.020987  292.388952        0.020825   \n",
      "85928        0.0  0.065263        0.021577  297.286165        0.021369   \n",
      "85929        0.0  0.066356        0.022139  301.945356        0.021886   \n",
      "85930        0.0  0.039787        0.008473  180.860734        0.008452   \n",
      "85931        0.0  0.038431        0.007775  174.516961        0.007748   \n",
      "\n",
      "               J3  J3_normalizado   J4  J4_normalizado  \n",
      "0      512.996795        0.046168  0.0             0.0  \n",
      "1      388.416823        0.031968  0.0             0.0  \n",
      "2      401.137886        0.033418  0.0             0.0  \n",
      "3      394.126328        0.032619  0.0             0.0  \n",
      "4      402.027757        0.033519  0.0             0.0  \n",
      "...           ...             ...  ...             ...  \n",
      "85927  294.761250        0.021293  0.0             0.0  \n",
      "85928  300.399212        0.021935  0.0             0.0  \n",
      "85929  305.787355        0.022550  0.0             0.0  \n",
      "85930  183.558307        0.008617  0.0             0.0  \n",
      "85931  177.499172        0.007927  0.0             0.0  \n",
      "\n",
      "[85932 rows x 14 columns]\n",
      "            RQI  pressao_inversa  pressao  porosidade  permeabilidade  \\\n",
      "0      0.112898           4543.9   4608.2    0.062768         0.81143   \n",
      "1      0.085400           4548.2   4604.2    0.050000         0.36985   \n",
      "2      0.088106           4552.9   4600.0    0.050000         0.39366   \n",
      "3      0.086471           4557.9   4595.6    0.050000         0.37919   \n",
      "4      0.088106           4563.0   4590.9    0.050000         0.39366   \n",
      "...         ...              ...      ...         ...             ...   \n",
      "85927  0.064116           4597.3   4560.3    0.112380         0.46856   \n",
      "85928  0.065263           4602.9   4555.2    0.108470         0.46856   \n",
      "85929  0.066356           4608.3   4550.4    0.104920         0.46856   \n",
      "85930  0.039787           4613.5   4545.7    0.107880         0.17321   \n",
      "85931  0.038431           4618.7   4541.1    0.115630         0.17321   \n",
      "\n",
      "       distancia        J1  J1_normalizado          J2  J2_normalizado  \\\n",
      "0            0.0  0.112898        0.046081  520.256131        0.046107   \n",
      "1            0.0  0.085400        0.031936  393.199229        0.032010   \n",
      "2            0.0  0.088106        0.033328  405.287679        0.033351   \n",
      "3            0.0  0.086471        0.032487  397.386286        0.032474   \n",
      "4            0.0  0.088106        0.033328  404.485915        0.033262   \n",
      "...          ...       ...             ...         ...             ...   \n",
      "85927        0.0  0.064116        0.020987  292.388952        0.020825   \n",
      "85928        0.0  0.065263        0.021577  297.286165        0.021369   \n",
      "85929        0.0  0.066356        0.022139  301.945356        0.021886   \n",
      "85930        0.0  0.039787        0.008473  180.860734        0.008452   \n",
      "85931        0.0  0.038431        0.007775  174.516961        0.007748   \n",
      "\n",
      "               J3  J3_normalizado   J4  J4_normalizado   J5  J5_normalizado  \n",
      "0      512.996795        0.046168  0.0             0.0  0.0             0.0  \n",
      "1      388.416823        0.031968  0.0             0.0  0.0             0.0  \n",
      "2      401.137886        0.033418  0.0             0.0  0.0             0.0  \n",
      "3      394.126328        0.032619  0.0             0.0  0.0             0.0  \n",
      "4      402.027757        0.033519  0.0             0.0  0.0             0.0  \n",
      "...           ...             ...  ...             ...  ...             ...  \n",
      "85927  294.761250        0.021293  0.0             0.0  0.0             0.0  \n",
      "85928  300.399212        0.021935  0.0             0.0  0.0             0.0  \n",
      "85929  305.787355        0.022550  0.0             0.0  0.0             0.0  \n",
      "85930  183.558307        0.008617  0.0             0.0  0.0             0.0  \n",
      "85931  177.499172        0.007927  0.0             0.0  0.0             0.0  \n",
      "\n",
      "[85932 rows x 16 columns]\n",
      "            RQI  pressao_inversa  pressao  porosidade  permeabilidade  \\\n",
      "0      0.112898           4543.9   4608.2    0.062768         0.81143   \n",
      "1      0.085400           4548.2   4604.2    0.050000         0.36985   \n",
      "2      0.088106           4552.9   4600.0    0.050000         0.39366   \n",
      "3      0.086471           4557.9   4595.6    0.050000         0.37919   \n",
      "4      0.088106           4563.0   4590.9    0.050000         0.39366   \n",
      "...         ...              ...      ...         ...             ...   \n",
      "85927  0.064116           4597.3   4560.3    0.112380         0.46856   \n",
      "85928  0.065263           4602.9   4555.2    0.108470         0.46856   \n",
      "85929  0.066356           4608.3   4550.4    0.104920         0.46856   \n",
      "85930  0.039787           4613.5   4545.7    0.107880         0.17321   \n",
      "85931  0.038431           4618.7   4541.1    0.115630         0.17321   \n",
      "\n",
      "       distancia        J1  J1_normalizado          J2  J2_normalizado  \\\n",
      "0            0.0  0.112898        0.046081  520.256131        0.046107   \n",
      "1            0.0  0.085400        0.031936  393.199229        0.032010   \n",
      "2            0.0  0.088106        0.033328  405.287679        0.033351   \n",
      "3            0.0  0.086471        0.032487  397.386286        0.032474   \n",
      "4            0.0  0.088106        0.033328  404.485915        0.033262   \n",
      "...          ...       ...             ...         ...             ...   \n",
      "85927        0.0  0.064116        0.020987  292.388952        0.020825   \n",
      "85928        0.0  0.065263        0.021577  297.286165        0.021369   \n",
      "85929        0.0  0.066356        0.022139  301.945356        0.021886   \n",
      "85930        0.0  0.039787        0.008473  180.860734        0.008452   \n",
      "85931        0.0  0.038431        0.007775  174.516961        0.007748   \n",
      "\n",
      "               J3  J3_normalizado   J4  J4_normalizado   J5  J5_normalizado  \\\n",
      "0      512.996795        0.046168  0.0             0.0  0.0             0.0   \n",
      "1      388.416823        0.031968  0.0             0.0  0.0             0.0   \n",
      "2      401.137886        0.033418  0.0             0.0  0.0             0.0   \n",
      "3      394.126328        0.032619  0.0             0.0  0.0             0.0   \n",
      "4      402.027757        0.033519  0.0             0.0  0.0             0.0   \n",
      "...           ...             ...  ...             ...  ...             ...   \n",
      "85927  294.761250        0.021293  0.0             0.0  0.0             0.0   \n",
      "85928  300.399212        0.021935  0.0             0.0  0.0             0.0   \n",
      "85929  305.787355        0.022550  0.0             0.0  0.0             0.0   \n",
      "85930  183.558307        0.008617  0.0             0.0  0.0             0.0   \n",
      "85931  177.499172        0.007927  0.0             0.0  0.0             0.0   \n",
      "\n",
      "        J6  J6_normalizado  \n",
      "0      0.0             0.0  \n",
      "1      0.0             0.0  \n",
      "2      0.0             0.0  \n",
      "3      0.0             0.0  \n",
      "4      0.0             0.0  \n",
      "...    ...             ...  \n",
      "85927  0.0             0.0  \n",
      "85928  0.0             0.0  \n",
      "85929  0.0             0.0  \n",
      "85930  0.0             0.0  \n",
      "85931  0.0             0.0  \n",
      "\n",
      "[85932 rows x 18 columns]\n"
     ]
    }
   ],
   "source": [
    "#J = arq.keys().tolist() #pegando as colunas como lista para transformação\n",
    "J = ['J1', 'J2', 'J3', 'J4', 'J5', 'J6']\n",
    "#J = ['J1'] #JÁ NORMALIZADO\n",
    "arq = normaliza_J(arq, J, norm=True)\n"
   ]
  },
  {
   "cell_type": "code",
   "execution_count": 28,
   "metadata": {},
   "outputs": [
    {
     "name": "stdout",
     "output_type": "stream",
     "text": [
      "{'bandwidth': 0.01}\n",
      "[[0.42121]\n",
      " [0.41414]\n",
      " [0.45838]\n",
      " ...\n",
      " [0.     ]\n",
      " [0.     ]\n",
      " [0.     ]]\n",
      "KernelDensity(bandwidth=0.01)\n",
      "[0.00000000e+00 3.00751880e-04 6.01503759e-04 ... 9.99398496e-01\n",
      " 9.99699248e-01 1.00000000e+00]\n",
      "[   1.33875738    1.33830512    1.33694834 ... -216.49720953 -217.11705576\n",
      " -217.73780651]\n"
     ]
    },
    {
     "ename": "AttributeError",
     "evalue": "'function' object has no attribute 'trapezoid'",
     "output_type": "error",
     "traceback": [
      "\u001b[1;31m---------------------------------------------------------------------------\u001b[0m",
      "\u001b[1;31mAttributeError\u001b[0m                            Traceback (most recent call last)",
      "Cell \u001b[1;32mIn[28], line 3\u001b[0m\n\u001b[0;32m      1\u001b[0m J \u001b[39m=\u001b[39m [\u001b[39m'\u001b[39m\u001b[39mJ1\u001b[39m\u001b[39m'\u001b[39m]\n\u001b[0;32m      2\u001b[0m \u001b[39m#J = ['J1', 'J2', 'J3', 'J4', 'J5', 'J6']\u001b[39;00m\n\u001b[1;32m----> 3\u001b[0m proc \u001b[39m=\u001b[39m binning\u001b[39m.\u001b[39;49mproc_binning(arq, J, binning\u001b[39m=\u001b[39;49m\u001b[39m'\u001b[39;49m\u001b[39mkde\u001b[39;49m\u001b[39m'\u001b[39;49m)\n\u001b[0;32m      4\u001b[0m \u001b[39m#proc = binning.proc_binning(arq, J, binning='bb')\u001b[39;00m\n\u001b[0;32m      5\u001b[0m proc\n",
      "Cell \u001b[1;32mIn[22], line 88\u001b[0m, in \u001b[0;36mbinning.proc_binning\u001b[1;34m(df, J, binning)\u001b[0m\n\u001b[0;32m     84\u001b[0m \u001b[39mfrom\u001b[39;00m \u001b[39msympy\u001b[39;00m \u001b[39mimport\u001b[39;00m exp, log, sqrt, pi, Integral\n\u001b[0;32m     87\u001b[0m \u001b[39m#integral = \u001b[39;00m\n\u001b[1;32m---> 88\u001b[0m integral \u001b[39m=\u001b[39m integrate\u001b[39m.\u001b[39;49mtrapezoid(y\u001b[39m=\u001b[39mnp\u001b[39m.\u001b[39mexp(log), x\u001b[39m=\u001b[39m\u001b[39mNone\u001b[39;00m, dx\u001b[39m=\u001b[39mdist, axis\u001b[39m=\u001b[39m\u001b[39m-\u001b[39m\u001b[39m1\u001b[39m)\n\u001b[0;32m     90\u001b[0m \u001b[39m# usamos exponencial para deixar log positivo\u001b[39;00m\n\u001b[0;32m     91\u001b[0m \u001b[39m#integral = np.exp(integrate.trapz(log, dist))\u001b[39;00m\n\u001b[0;32m     93\u001b[0m \u001b[39mprint\u001b[39m(integral)\n",
      "\u001b[1;31mAttributeError\u001b[0m: 'function' object has no attribute 'trapezoid'"
     ]
    }
   ],
   "source": [
    "J = ['J1']\n",
    "#J = ['J1', 'J2', 'J3', 'J4', 'J5', 'J6']\n",
    "proc = binning.proc_binning(arq, J, binning='kde')\n",
    "#proc = binning.proc_binning(arq, J, binning='bb')\n",
    "proc"
   ]
  },
  {
   "cell_type": "code",
<<<<<<< HEAD
   "execution_count": 13,
>>>>>>> 2e0251a01f471036fb2007f7e6cfe5c126577765
   "metadata": {},
   "outputs": [
    {
     "name": "stdout",
     "output_type": "stream",
     "text": [
<<<<<<< HEAD
      "            RQI  pressao_inversa  pressao  porosidade  permeabilidade  \\\n",
      "0      0.112898           4543.9   4608.2    0.062768         0.81143   \n",
      "1      0.085400           4548.2   4604.2    0.050000         0.36985   \n",
      "2      0.088106           4552.9   4600.0    0.050000         0.39366   \n",
      "3      0.086471           4557.9   4595.6    0.050000         0.37919   \n",
      "4      0.088106           4563.0   4590.9    0.050000         0.39366   \n",
      "...         ...              ...      ...         ...             ...   \n",
      "85927  0.064116           4597.3   4560.3    0.112380         0.46856   \n",
      "85928  0.065263           4602.9   4555.2    0.108470         0.46856   \n",
      "85929  0.066356           4608.3   4550.4    0.104920         0.46856   \n",
      "85930  0.039787           4613.5   4545.7    0.107880         0.17321   \n",
      "85931  0.038431           4618.7   4541.1    0.115630         0.17321   \n",
      "\n",
      "       distancia  \n",
      "0            0.0  \n",
      "1            0.0  \n",
      "2            0.0  \n",
      "3            0.0  \n",
      "4            0.0  \n",
      "...          ...  \n",
      "85927        0.0  \n",
      "85928        0.0  \n",
      "85929        0.0  \n",
      "85930        0.0  \n",
      "85931        0.0  \n",
      "\n",
      "[85932 rows x 6 columns]\n",
      "df com valores NAN\n",
      "df corrigido, não mais possui valores NAN\n"
     ]
    },
    {
     "data": {
      "text/html": [
       "<div>\n",
       "<style scoped>\n",
       "    .dataframe tbody tr th:only-of-type {\n",
       "        vertical-align: middle;\n",
       "    }\n",
       "\n",
       "    .dataframe tbody tr th {\n",
       "        vertical-align: top;\n",
       "    }\n",
       "\n",
       "    .dataframe thead th {\n",
       "        text-align: right;\n",
       "    }\n",
       "</style>\n",
       "<table border=\"1\" class=\"dataframe\">\n",
       "  <thead>\n",
       "    <tr style=\"text-align: right;\">\n",
       "      <th></th>\n",
       "      <th>RQI</th>\n",
       "      <th>pressao_inversa</th>\n",
       "      <th>pressao</th>\n",
       "      <th>porosidade</th>\n",
       "      <th>permeabilidade</th>\n",
       "      <th>distancia</th>\n",
       "    </tr>\n",
       "  </thead>\n",
       "  <tbody>\n",
       "    <tr>\n",
       "      <th>0</th>\n",
       "      <td>0.112898</td>\n",
       "      <td>4543.9</td>\n",
       "      <td>4608.2</td>\n",
       "      <td>0.062768</td>\n",
       "      <td>0.81143</td>\n",
       "      <td>0.0</td>\n",
       "    </tr>\n",
       "    <tr>\n",
       "      <th>1</th>\n",
       "      <td>0.085400</td>\n",
       "      <td>4548.2</td>\n",
       "      <td>4604.2</td>\n",
       "      <td>0.050000</td>\n",
       "      <td>0.36985</td>\n",
       "      <td>0.0</td>\n",
       "    </tr>\n",
       "    <tr>\n",
       "      <th>2</th>\n",
       "      <td>0.088106</td>\n",
       "      <td>4552.9</td>\n",
       "      <td>4600.0</td>\n",
       "      <td>0.050000</td>\n",
       "      <td>0.39366</td>\n",
       "      <td>0.0</td>\n",
       "    </tr>\n",
       "    <tr>\n",
       "      <th>3</th>\n",
       "      <td>0.086471</td>\n",
       "      <td>4557.9</td>\n",
       "      <td>4595.6</td>\n",
       "      <td>0.050000</td>\n",
       "      <td>0.37919</td>\n",
       "      <td>0.0</td>\n",
       "    </tr>\n",
       "    <tr>\n",
       "      <th>4</th>\n",
       "      <td>0.088106</td>\n",
       "      <td>4563.0</td>\n",
       "      <td>4590.9</td>\n",
       "      <td>0.050000</td>\n",
       "      <td>0.39366</td>\n",
       "      <td>0.0</td>\n",
       "    </tr>\n",
       "    <tr>\n",
       "      <th>...</th>\n",
       "      <td>...</td>\n",
       "      <td>...</td>\n",
       "      <td>...</td>\n",
       "      <td>...</td>\n",
       "      <td>...</td>\n",
       "      <td>...</td>\n",
       "    </tr>\n",
       "    <tr>\n",
       "      <th>85927</th>\n",
       "      <td>0.064116</td>\n",
       "      <td>4597.3</td>\n",
       "      <td>4560.3</td>\n",
       "      <td>0.112380</td>\n",
       "      <td>0.46856</td>\n",
       "      <td>0.0</td>\n",
       "    </tr>\n",
       "    <tr>\n",
       "      <th>85928</th>\n",
       "      <td>0.065263</td>\n",
       "      <td>4602.9</td>\n",
       "      <td>4555.2</td>\n",
       "      <td>0.108470</td>\n",
       "      <td>0.46856</td>\n",
       "      <td>0.0</td>\n",
       "    </tr>\n",
       "    <tr>\n",
       "      <th>85929</th>\n",
       "      <td>0.066356</td>\n",
       "      <td>4608.3</td>\n",
       "      <td>4550.4</td>\n",
       "      <td>0.104920</td>\n",
       "      <td>0.46856</td>\n",
       "      <td>0.0</td>\n",
       "    </tr>\n",
       "    <tr>\n",
       "      <th>85930</th>\n",
       "      <td>0.039787</td>\n",
       "      <td>4613.5</td>\n",
       "      <td>4545.7</td>\n",
       "      <td>0.107880</td>\n",
       "      <td>0.17321</td>\n",
       "      <td>0.0</td>\n",
       "    </tr>\n",
       "    <tr>\n",
       "      <th>85931</th>\n",
       "      <td>0.038431</td>\n",
       "      <td>4618.7</td>\n",
       "      <td>4541.1</td>\n",
       "      <td>0.115630</td>\n",
       "      <td>0.17321</td>\n",
       "      <td>0.0</td>\n",
       "    </tr>\n",
       "  </tbody>\n",
       "</table>\n",
       "<p>85932 rows × 6 columns</p>\n",
       "</div>"
      ],
      "text/plain": [
       "            RQI  pressao_inversa  pressao  porosidade  permeabilidade  \\\n",
       "0      0.112898           4543.9   4608.2    0.062768         0.81143   \n",
       "1      0.085400           4548.2   4604.2    0.050000         0.36985   \n",
       "2      0.088106           4552.9   4600.0    0.050000         0.39366   \n",
       "3      0.086471           4557.9   4595.6    0.050000         0.37919   \n",
       "4      0.088106           4563.0   4590.9    0.050000         0.39366   \n",
       "...         ...              ...      ...         ...             ...   \n",
       "85927  0.064116           4597.3   4560.3    0.112380         0.46856   \n",
       "85928  0.065263           4602.9   4555.2    0.108470         0.46856   \n",
       "85929  0.066356           4608.3   4550.4    0.104920         0.46856   \n",
       "85930  0.039787           4613.5   4545.7    0.107880         0.17321   \n",
       "85931  0.038431           4618.7   4541.1    0.115630         0.17321   \n",
       "\n",
       "       distancia  \n",
       "0            0.0  \n",
       "1            0.0  \n",
       "2            0.0  \n",
       "3            0.0  \n",
       "4            0.0  \n",
       "...          ...  \n",
       "85927        0.0  \n",
       "85928        0.0  \n",
       "85929        0.0  \n",
       "85930        0.0  \n",
       "85931        0.0  \n",
       "\n",
       "[85932 rows x 6 columns]"
      ]
     },
     "execution_count": 98,
     "metadata": {},
     "output_type": "execute_result"
    }
   ],
   "source": [
    "checking(arq)"
   ]
  },
  {
   "cell_type": "code",
   "execution_count": 19,
=======
   "execution_count": 26,
>>>>>>> 0f278eed5404b0c0ab952e8098b437353b7ca2d4
   "metadata": {},
   "outputs": [
    {
     "name": "stdout",
     "output_type": "stream",
     "text": [
<<<<<<< HEAD
      "df com valores NAN\n",
      "df corrigido, não mais possui valores NAN\n"
=======
      "{'bandwidth': 1.023292992280754}\n"
>>>>>>> 2e0251a01f471036fb2007f7e6cfe5c126577765
=======
      "A integral não está no intervalo correto: 0.9521948286229311\n"
     ]
    },
    {
     "ename": "KeyError",
     "evalue": "'A integral precisa estar entre 0.99 e 1.01'",
     "output_type": "error",
     "traceback": [
      "\u001b[1;31m---------------------------------------------------------------------------\u001b[0m",
      "\u001b[1;31mKeyError\u001b[0m                                  Traceback (most recent call last)",
      "Cell \u001b[1;32mIn[26], line 4\u001b[0m\n\u001b[0;32m      1\u001b[0m \u001b[39m#com bw = 0.01\u001b[39;00m\n\u001b[0;32m      2\u001b[0m \u001b[39m#temos que receber o bandwidth por referencia\u001b[39;00m\n\u001b[0;32m      3\u001b[0m J \u001b[39m=\u001b[39m [\u001b[39m'\u001b[39m\u001b[39mJ1\u001b[39m\u001b[39m'\u001b[39m]\n\u001b[1;32m----> 4\u001b[0m proc \u001b[39m=\u001b[39m binning\u001b[39m.\u001b[39;49mproc_binning(arq, J, binning\u001b[39m=\u001b[39;49m\u001b[39m'\u001b[39;49m\u001b[39mkde\u001b[39;49m\u001b[39m'\u001b[39;49m)\n",
      "Cell \u001b[1;32mIn[25], line 81\u001b[0m, in \u001b[0;36mbinning.proc_binning\u001b[1;34m(df, J, binning)\u001b[0m\n\u001b[0;32m     79\u001b[0m \u001b[39melse\u001b[39;00m:\n\u001b[0;32m     80\u001b[0m     \u001b[39mprint\u001b[39m(\u001b[39mf\u001b[39m\u001b[39m'\u001b[39m\u001b[39mA integral não está no intervalo correto: \u001b[39m\u001b[39m{\u001b[39;00mintegral\u001b[39m}\u001b[39;00m\u001b[39m'\u001b[39m)\n\u001b[1;32m---> 81\u001b[0m     \u001b[39mraise\u001b[39;00m \u001b[39mKeyError\u001b[39;00m(\u001b[39mf\u001b[39m\u001b[39m'\u001b[39m\u001b[39mA integral precisa estar entre 0.99 e 1.01\u001b[39m\u001b[39m'\u001b[39m)\n\u001b[0;32m     84\u001b[0m \u001b[39m'''Calculo das Particoes'''\u001b[39;00m\n\u001b[0;32m     86\u001b[0m \u001b[39m# calcula os picos\u001b[39;00m\n",
      "\u001b[1;31mKeyError\u001b[0m: 'A integral precisa estar entre 0.99 e 1.01'"
>>>>>>> 0f278eed5404b0c0ab952e8098b437353b7ca2d4
     ]
    }
   ],
   "source": [
<<<<<<< HEAD
<<<<<<< HEAD
    "#J = arq.keys().tolist() #pegando as colunas como lista para transformação\n",
    "J = ['J1', 'J2', 'J3', 'J4', 'J5', 'J6']\n",
    "arq = normaliza_J(arq, J, norm=True)\n"
   ]
  },
  {
   "attachments": {},
   "cell_type": "markdown",
   "metadata": {},
   "source": [
    "#por favor não interromper"
   ]
  },
  {
   "cell_type": "code",
   "execution_count": 20,
   "metadata": {},
   "outputs": [],
   "source": [
=======
>>>>>>> 2e0251a01f471036fb2007f7e6cfe5c126577765
=======
    "#com bw = 0.01\n",
    "#temos que receber o bandwidth por referencia\n",
>>>>>>> 0f278eed5404b0c0ab952e8098b437353b7ca2d4
    "J = ['J1']\n",
    "proc = binning.proc_binning(arq, J, binning='kde')"
   ]
  },
  {
   "cell_type": "markdown",
   "metadata": {},
   "source": [
    "### opções"
   ]
  },
  {
   "cell_type": "code",
   "execution_count": null,
   "metadata": {},
   "outputs": [],
   "source": [
    "#o df precisa passar pelo calculo dos J's para prosseguir\n",
    "#o usuário deve ter a opção de escolher quais calculos fazer? sim, quais J' normalizados"
   ]
  },
  {
   "cell_type": "code",
   "execution_count": null,
   "metadata": {},
   "outputs": [],
   "source": [
    "opcao = 0\n",
    "while opcao != 3:\n",
    "    print('''   Qual tipo de processamento voce deseja executar?\n",
    "            digite [1] para Bayesian Blocks\n",
    "            digite [2] para KDE\n",
    "            digite [3] para ambos\n",
    "            digite [4] para voltar ao passo anterior ''')\n",
    "    opcao = int(input())\n",
    "\n",
    "    #if opcao == 1:\n",
    "        # função BB\n",
    "        #print(\"Processo de Binning por Bayesian Block completado\")\n",
    "        #print(imagens dos graficos de bayesian blocks para cada J normalizado)\n",
    "        #o programa pode salvar essas imagens diretamente em um arquivo\n",
    "\n",
    "    #elif opcao == 2:\n",
    "        #função KDE\n",
    "        #print(\"Processo de Binning por KDE completado\")\n",
    "        #print(imagens dos graficos de KDE para cada J normalizado)\n",
    "        #o programa pode salvar essas imagens diretamente em um arquivo\n",
    "\n",
    "    #elif opcao == 3:\n",
    "        # função BB\n",
    "        #função KDE\n",
    "    \n",
    "    #elif opcao == 4:\n",
    "        #break #volta do começo\n",
    "\n",
    "    #else:\n",
    "        #print(\"Esse e um caractere invalido. Deseja recomeçar? Digite [0]\")\n",
    "        #opcao = 0"
   ]
  },
  {
   "cell_type": "code",
   "execution_count": null,
   "metadata": {},
   "outputs": [],
   "source": [
    "print(\"Digite se deseja realizar a classificacao: s/n\")\n",
    "resposta = input()\n",
    "\n",
    "#if resposta == 's':\n",
    "    #retornar funcao de classificacao\n",
    "\n",
    "#if resposta == 'n':\n",
    "    #print(\"Fim do Programa\")\n",
    "#else: \n",
    "    "
   ]
  },
  {
   "cell_type": "code",
   "execution_count": null,
   "metadata": {},
   "outputs": [],
   "source": [
    "bandwidth = 0.01"
   ]
  },
  {
   "cell_type": "markdown",
   "metadata": {},
   "source": [
    "Essa função deve receber arquivos csv (em uma formatação pré-estabelecida) que serem lidos, checados e iniciados.<br>\n",
    "Os arquivos precisam:\n",
    "* ter colunas nomeadas (de preferência em ordem alfabética)\n",
    "* não ter valores NAN\n",
    "* "
   ]
  },
  {
   "cell_type": "code",
   "execution_count": null,
   "metadata": {},
   "outputs": [],
   "source": [
    "#arq = str(print(\"Insira o caminho para o arquivo: \")) #recebemos o csv"
   ]
  },
  {
   "cell_type": "code",
   "execution_count": null,
   "metadata": {},
   "outputs": [],
   "source": [
    "#o df precisa passar pelo calculo dos J's para prosseguir\n",
    "#o usuário deve ter a opção de escolher quais calculos fazer?"
   ]
  },
  {
   "cell_type": "code",
   "execution_count": null,
   "metadata": {},
   "outputs": [],
   "source": [
    "opcao = 0\n",
    "while opcao != 3:\n",
    "    print('''   Qual tipo de processamento voce deseja executar?\n",
    "            digite [1] para Bayesian Blocks\n",
    "            digite [2] para KDE\n",
    "            digite [3] para ambos\n",
    "            digite [4] para voltar ao passo anterior ''')\n",
    "    opcao = int(input())\n",
    "\n",
    "    #if opcao == 1:\n",
    "        # função BB\n",
    "        #print(\"Processo de Binning por Bayesian Block completado\")\n",
    "        #print(imagens dos graficos de bayesian blocks para cada J normalizado)\n",
    "        #o programa pode salvar essas imagens diretamente em um arquivo\n",
    "\n",
    "    #elif opcao == 2:\n",
    "        #função KDE\n",
    "        #print(\"Processo de Binning por KDE completado\")\n",
    "        #print(imagens dos graficos de KDE para cada J normalizado)\n",
    "        #o programa pode salvar essas imagens diretamente em um arquivo\n",
    "\n",
    "    #elif opcao == 3:\n",
    "        # função BB\n",
    "        #função KDE\n",
    "    \n",
    "    #elif opcao == 4:\n",
    "        #break #volta do começo\n",
    "\n",
    "    #else:\n",
    "        #print(\"Esse e um caractere invalido. Deseja recomeçar? Digite [0]\")\n",
    "        #opcao = 0"
   ]
  },
  {
   "cell_type": "code",
   "execution_count": null,
   "metadata": {},
   "outputs": [],
   "source": [
    "print(\"Digite se deseja realizar a classificacao: s/n\")\n",
    "resposta = input()\n",
    "\n",
    "#if resposta == 's':\n",
    "    #retornar funcao de classificacao\n",
    "\n",
    "#if resposta == 'n':\n",
    "    #print(\"Fim do Programa\")\n",
    "#else:\n",
    "    "
   ]
  }
 ],
 "metadata": {
<<<<<<< HEAD
  "kernelspec": {
   "display_name": "Python 3.10.9 ('ambv_netzero')",
=======
  "interpreter": {
   "hash": "2e71ff5d6cfd00d4bc2f505165b5cdad2e2f53d03e64c6e9eb61202e17bc590f"
  },
  "kernelspec": {
   "display_name": "Python 3.9.6 ('tril')",
>>>>>>> 2e0251a01f471036fb2007f7e6cfe5c126577765
   "language": "python",
   "name": "python3"
  },
  "language_info": {
   "codemirror_mode": {
    "name": "ipython",
    "version": 3
   },
   "file_extension": ".py",
   "mimetype": "text/x-python",
   "name": "python",
   "nbconvert_exporter": "python",
   "pygments_lexer": "ipython3",
<<<<<<< HEAD
   "version": "3.10.9"
=======
   "version": "3.9.15"
>>>>>>> 2e0251a01f471036fb2007f7e6cfe5c126577765
  },
  "orig_nbformat": 4,
  "vscode": {
   "interpreter": {
    "hash": "21c80e59152c7f2a48363ecbde968c65cd9e5f31a7f7512549ec74481db40172"
   }
  }
 },
 "nbformat": 4,
 "nbformat_minor": 2
}
